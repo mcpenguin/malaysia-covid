{
 "metadata": {
  "language_info": {
   "codemirror_mode": {
    "name": "ipython",
    "version": 3
   },
   "file_extension": ".py",
   "mimetype": "text/x-python",
   "name": "python",
   "nbconvert_exporter": "python",
   "pygments_lexer": "ipython3",
   "version": "3.9.5"
  },
  "orig_nbformat": 4,
  "kernelspec": {
   "name": "python3",
   "display_name": "Python 3.9.5 64-bit"
  },
  "interpreter": {
   "hash": "434d7cc5b4a996c19343b5494c06d65d8c86162dd49b09cdc59df72a0aa4357b"
  }
 },
 "nbformat": 4,
 "nbformat_minor": 2,
 "cells": [
  {
   "source": [
    "# Fetching data from COVID19.place\n",
    "\n",
    "url used: https://covid19.place/MY/en-US\n",
    "updated every day"
   ],
   "cell_type": "markdown",
   "metadata": {}
  },
  {
   "cell_type": "code",
   "execution_count": 2,
   "metadata": {},
   "outputs": [],
   "source": [
    "# import necessary libraries\n",
    "import datetime as datetime\n",
    "from bs4 import BeautifulSoup as bs\n",
    "import pandas as pd\n",
    "import requests"
   ]
  },
  {
   "cell_type": "code",
   "execution_count": 3,
   "metadata": {},
   "outputs": [],
   "source": [
    "url = \"https://covid19.place/MY/en-US\""
   ]
  },
  {
   "cell_type": "code",
   "execution_count": 4,
   "metadata": {},
   "outputs": [],
   "source": [
    "# get content of website\n",
    "response = requests.get(url)"
   ]
  },
  {
   "cell_type": "code",
   "execution_count": 5,
   "metadata": {},
   "outputs": [
    {
     "output_type": "execute_result",
     "data": {
      "text/plain": [
       "200"
      ]
     },
     "metadata": {},
     "execution_count": 5
    }
   ],
   "source": [
    "response.status_code"
   ]
  },
  {
   "cell_type": "code",
   "execution_count": 6,
   "metadata": {},
   "outputs": [],
   "source": [
    "# create soup object to parse website\n",
    "soup_general = bs(response.content)"
   ]
  },
  {
   "cell_type": "code",
   "execution_count": 7,
   "metadata": {},
   "outputs": [],
   "source": [
    "# get general statistics (which are found in the \"rounded-pill\" objects))\n",
    "gen_stats = soup_general.find_all(\"div\", {\"class\": \"rounded-pill\"})"
   ]
  },
  {
   "cell_type": "code",
   "execution_count": 8,
   "metadata": {},
   "outputs": [
    {
     "output_type": "execute_result",
     "data": {
      "text/plain": [
       "[<div class=\"rounded-pill p-1 h-100 bg-warning bg-gradient\"><div class=\"d-flex align-items-center justify-content-center h-100\"><div><div class=\"h1 m-0 fw-bolder\"><span class=\"num\" data-num=\"6658\">6,658</span></div><div class=\"h5 m-0\">New Cases<br/><small><span class=\"badge bg-secondary\">-4.64% *</span></small><br/><small><small><em>* vs 2 Jul (6,982) </em></small></small><hr class=\"m-0 mt-1\"/><small><small>6,647 (Local) • 11 (Import)</small></small></div></div></div></div>,\n",
       " <div class=\"rounded-pill p-1 h-100 bg-danger text-white bg-gradient\"><div class=\"d-flex align-items-center justify-content-center h-100\"><div><div class=\"h1 m-0 fw-bolder\"><span class=\"num\" data-num=\"107\">107</span></div><div class=\"h5 m-0\">New Deaths<br/><small><span class=\"badge bg-secondary\">+46.58% *</span></small><br/><small><small><em>* vs 2 Jul (73) </em></small></small><hr class=\"m-0 mt-1\"/><small><small>5,434 (Total Deaths)</small></small> <small><small><span class=\"badge bg-secondary\">+2.01% *</span><br/><em>* vs 2 Jul (5,327) </em></small></small></div></div></div></div>,\n",
       " <div class=\"rounded-pill p-1 h-100 bg-success text-white bg-gradient\"><div class=\"d-flex align-items-center justify-content-center h-100\"><div><div class=\"h1 m-0 fw-bolder\"><span class=\"num\" data-num=\"5677\">5,677</span></div><div class=\"h5 m-0\">New Recovered<br/><small><span class=\"badge bg-secondary\">-9.57% *</span></small><br/><small><small><em>* vs 2 Jul (6,278) </em></small></small><hr class=\"m-0 mt-1\"/><small><small>700,215 (Recovered)</small></small> <small><small><span class=\"badge bg-secondary\">+0.82% *</span><br/><em>* vs 2 Jul (694,538) </em></small></small></div></div></div></div>,\n",
       " <div class=\"rounded-pill p-1 h-100 bg-primary text-white bg-gradient\"><div class=\"d-flex align-items-center justify-content-center h-100\"><div><div class=\"h1 m-0 fw-bolder\"><span class=\"num\" data-num=\"66958\">66,958</span></div><div class=\"h5 m-0\">Active Cases<br/><small><span class=\"badge bg-secondary\">+1.32% *</span></small><br/><small><small><em>* vs 2 Jul (66,084) </em></small></small><hr class=\"m-0 mt-1\"/><small><small>892 (ICU) • 443 (Intubated)</small></small></div></div></div></div>,\n",
       " <div class=\"rounded-pill p-1 h-100 bg-success text-white bg-gradient\"><div class=\"d-flex align-items-center justify-content-center h-100\"><div><div class=\"h1 m-0 fw-bolder\"><span class=\"num\" data-num=\"6261014\">6,261,014</span></div><div class=\"h5 m-0\">1st Dose<br/><small><small><span class=\"badge bg-secondary\">+37.91%</span> <small>/ Population**</small></small></small><br/><hr class=\"m-0 mt-1\"/>2,539,686<br/>Vaccinated***<br/><small><small><span class=\"badge bg-secondary\">+15.38%</span> <small>/ Population**</small></small></small></div></div></div></div>,\n",
       " <div class=\"rounded-pill p-1 h-100 bg-info text-white bg-gradient\"><div class=\"d-flex align-items-center justify-content-center h-100\"><div><div class=\"h1 m-0 fw-bolder\"><span class=\"num\" data-num=\"772607\">772,607</span></div><div class=\"h5 m-0\">Total Cases<br/><small><span class=\"badge bg-secondary\">+0.87% *</span></small><br/><small><small><em>* vs 2 Jul (765,949) </em></small></small></div></div></div></div>]"
      ]
     },
     "metadata": {},
     "execution_count": 8
    }
   ],
   "source": [
    "gen_stats"
   ]
  },
  {
   "cell_type": "code",
   "execution_count": 9,
   "metadata": {},
   "outputs": [
    {
     "output_type": "execute_result",
     "data": {
      "text/plain": [
       "➜</span>Cases By Location</button><div aria-hidden=\"true\" aria-labelledby=\"staticBackdropLabel\" class=\"modal fade\" data-bs-backdrop=\"static\" data-bs-keyboard=\"false\" id=\"modal-sarawak\" tabindex=\"-1\"><div class=\"modal-dialog modal-lg modal-dialog-centered modal-dialog-scrollable\"><div class=\"modal-content\"> <div class=\"modal-header\"><div class=\"modal-title h5\" id=\"staticBackdropLabel\">Sarawak</div><button aria-label=\"Close\" class=\"btn-close\" data-bs-dismiss=\"modal\" type=\"button\"></button></div><div class=\"modal-body\"><div><img alt=\"COVID-19 Live Updates\" class=\"img-fluid\" loading=\"lazy\" src=\"https://scontent.fkul10-1.fna.fbcdn.net/v/t1.6435-9/204345487_2266139680184050_5056807174073575866_n.jpg?_nc_cat=111&amp;ccb=1-3&amp;_nc_sid=730e14&amp;_nc_ohc=whjMlLCYzPoAX_ewGrX&amp;_nc_ht=scontent.fkul10-1.fna&amp;oh=0e6dc0f7b3d428ee1aaaef8a28fa9599&amp;oe=60E617B7\" title=\"COVID-19 Live Updates\"/></div><hr/><div><img alt=\"COVID-19 Live Updates\" class=\"img-fluid\" loading=\"lazy\" src=\"https://scontent.fkul10-1.fna.fbcdn.net/v/t1.6435-9/201458940_2266139720184046_5384504149749693986_n.jpg?_nc_cat=107&amp;ccb=1-3&amp;_nc_sid=730e14&amp;_nc_ohc=CCZAEz_QVyAAX8T58Tf&amp;_nc_ht=scontent.fkul10-1.fna&amp;oh=405ba54f4da7162bed1bafe8081317ec&amp;oe=60E53686\" title=\"COVID-19 Live Updates\"/></div><hr/><div><img alt=\"COVID-19 Live Updates\" class=\"img-fluid\" loading=\"lazy\" src=\"https://scontent.fkul10-1.fna.fbcdn.net/v/t1.6435-9/206029421_2266138770184141_6372342586041201926_n.jpg?_nc_cat=103&amp;ccb=1-3&amp;_nc_sid=730e14&amp;_nc_ohc=2MaoaLQmcTsAX80TkKz&amp;_nc_ht=scontent.fkul10-1.fna&amp;oh=7c31c0f9e4a7e29fe95aece8815e47a3&amp;oe=60E51B3A\" title=\"COVID-19 Live Updates\"/></div><hr/><div><img alt=\"COVID-19 Live Updates\" class=\"img-fluid\" loading=\"lazy\" src=\"https://scontent.fkul10-1.fna.fbcdn.net/v/t1.6435-9/201383213_2266138870184131_8351036313708346150_n.jpg?_nc_cat=106&amp;ccb=1-3&amp;_nc_sid=730e14&amp;_nc_ohc=MU8w9Bl3Qq0AX-qYO62&amp;_nc_ht=scontent.fkul10-1.fna&amp;oh=e0a8b03c8ac3ea9e2ca4eda8611f6dc2&amp;oe=60E49855\" title=\"COVID-19 Live Updates\"/></div><hr/><div><img alt=\"COVID-19 Live Updates\" class=\"img-fluid\" loading=\"lazy\" src=\"https://scontent.fkul10-1.fna.fbcdn.net/v/t1.6435-9/202366581_2266138893517462_4644528929786609764_n.jpg?_nc_cat=105&amp;ccb=1-3&amp;_nc_sid=730e14&amp;_nc_ohc=v1goYFk_6dcAX-rcp7Y&amp;tn=Ol7hYA2l0aQXnDp4&amp;_nc_ht=scontent.fkul10-1.fna&amp;oh=715e3d96d2ab3b25cb40606669a806ee&amp;oe=60E5A13E\" title=\"COVID-19 Live Updates\"/></div><hr/><div><img alt=\"COVID-19 Live Updates\" class=\"img-fluid\" loading=\"lazy\" src=\"https://scontent.fkul10-1.fna.fbcdn.net/v/t1.6435-9/204816054_2266138840184134_8762407729337298914_n.jpg?_nc_cat=104&amp;ccb=1-3&amp;_nc_sid=730e14&amp;_nc_ohc=kWFwJx3X8owAX_JcnyL&amp;_nc_ht=scontent.fkul10-1.fna&amp;oh=daaf9e3b0f789b0aae0984f60df32ba5&amp;oe=60E53263\" title=\"COVID-19 Live Updates\"/></div><hr/><div><img alt=\"COVID-19 Live Updates\" class=\"img-fluid\" loading=\"lazy\" src=\"https://scontent.fkul10-1.fna.fbcdn.net/v/t1.6435-9/202770905_2266138880184130_3022233277747036544_n.jpg?_nc_cat=109&amp;ccb=1-3&amp;_nc_sid=730e14&amp;_nc_ohc=MonexnXhHR8AX_rTsgc&amp;tn=Ol7hYA2l0aQXnDp4&amp;_nc_ht=scontent.fkul10-1.fna&amp;oh=332e47c874a5fb7ad8a5f29c4492551f&amp;oe=60E5A71A\" title=\"COVID-19 Live Updates\"/></div><hr/><div><img alt=\"COVID-19 Live Updates\" class=\"img-fluid\" loading=\"lazy\" src=\"https://scontent.fkul10-1.fna.fbcdn.net/v/t1.6435-9/207616073_2266138956850789_340373177247037611_n.jpg?_nc_cat=111&amp;ccb=1-3&amp;_nc_sid=730e14&amp;_nc_ohc=T1g6yOXTFM4AX_HHl4z&amp;_nc_ht=scontent.fkul10-1.fna&amp;oh=afdba18ef0b93b2eef4cb93a2b424f6a&amp;oe=60E47C64\" title=\"COVID-19 Live Updates\"/></div><hr/><div><img alt=\"COVID-19 Live Updates\" class=\"img-fluid\" loading=\"lazy\" src=\"https://scontent.fkul10-1.fna.fbcdn.net/v/t1.6435-9/200198680_2266139010184117_8646125224644181743_n.jpg?_nc_cat=103&amp;ccb=1-3&amp;_nc_sid=730e14&amp;_nc_ohc=4VSh1ookCmEAX8Z5MyI&amp;_nc_ht=scontent.fkul10-1.fna&amp;oh=3b82be2dd52fa9784907f880b228f9e7&amp;oe=60E53270\" title=\"COVID-19 Live Updates\"/></div><hr/><div><img alt=\"COVID-19 Live Updates\" class=\"img-fluid\" loading=\"lazy\" src=\"https://scontent.fkul10-1.fna.fbcdn.net/v/t1.6435-9/204646459_2266139000184118_2433563756831613345_n.jpg?_nc_cat=105&amp;ccb=1-3&amp;_nc_sid=730e14&amp;_nc_ohc=7T89BGy9r9IAX-q47v6&amp;_nc_ht=scontent.fkul10-1.fna&amp;oh=fceeb4d3652dcbe2227c16a0d3e702d9&amp;oe=60E5E90F\" title=\"COVID-19 Live Updates\"/></div><hr/><div><img alt=\"COVID-19 Live Updates\" class=\"img-fluid\" loading=\"lazy\" src=\"https://scontent.fkul10-1.fna.fbcdn.net/v/t1.6435-9/202074230_2266139056850779_2104443288706960755_n.jpg?_nc_cat=101&amp;ccb=1-3&amp;_nc_sid=730e14&amp;_nc_ohc=nWQi3wgBVWIAX9ff_fT&amp;_nc_ht=scontent.fkul10-1.fna&amp;oh=8b4974660269e3cee5442932525ed7f9&amp;oe=60E480BC\" title=\"COVID-19 Live Updates\"/></div><hr/><div><img alt=\"COVID-19 Live Updates\" class=\"img-fluid\" loading=\"lazy\" src=\"https://scontent.fkul10-1.fna.fbcdn.net/v/t1.6435-9/201310481_2266139090184109_8897098130639473900_n.jpg?_nc_cat=101&amp;ccb=1-3&amp;_nc_sid=730e14&amp;_nc_ohc=1d8U26aKXFgAX-eLp6h&amp;_nc_oc=AQktyw_KTltHOdzpBwq4Hw3XLYFVDvAMVMViL81wr_6FUipXMS5uC5sKmGE15C8xp7OEHKUQaD4nd9PqkaBT1ekR&amp;_nc_ht=scontent.fkul10-1.fna&amp;oh=5699fda7f1ced9f8d49d5ac055805ddb&amp;oe=60E59208\" title=\"COVID-19 Live Updates\"/></div><hr/><div><img alt=\"COVID-19 Live Updates\" class=\"img-fluid\" loading=\"lazy\" src=\"https://scontent.fkul10-1.fna.fbcdn.net/v/t1.6435-9/208659717_2266139113517440_2731134757988778572_n.jpg?_nc_cat=101&amp;ccb=1-3&amp;_nc_sid=730e14&amp;_nc_ohc=76LppcFavaUAX_hYtqJ&amp;_nc_oc=AQnD_msC9wIEPNXITmTzsKOi4oVlFHVzlj-xRL6_8uKAG4-EU04Rs0BpKZxVGvk_hVOTcdfzCwekq059NiDCwRhQ&amp;tn=Ol7hYA2l0aQXnDp4&amp;_nc_ht=scontent.fkul10-1.fna&amp;oh=4ad2e13755d051eeaa7958cd99a200bb&amp;oe=60E49E82\" title=\"COVID-19 Live Updates\"/></div><hr/><div><img alt=\"COVID-19 Live Updates\" class=\"img-fluid\" loading=\"lazy\" src=\"https://scontent.fkul10-1.fna.fbcdn.net/v/t1.6435-9/201494431_2266139163517435_1098060502905050091_n.jpg?_nc_cat=107&amp;ccb=1-3&amp;_nc_sid=730e14&amp;_nc_ohc=TTL-FmcB43gAX9sn55N&amp;_nc_ht=scontent.fkul10-1.fna&amp;oh=077a2d66a1245e452c3e0a4224221f33&amp;oe=60E5ABA5\" title=\"COVID-19 Live Updates\"/></div><hr/><div><img alt=\"COVID-19 Live Updates\" class=\"img-fluid\" loading=\"lazy\" src=\"https://scontent.fkul10-1.fna.fbcdn.net/v/t1.6435-9/203655671_2266139193517432_6875584363310627944_n.jpg?_nc_cat=100&amp;ccb=1-3&amp;_nc_sid=730e14&amp;_nc_ohc=heZ_DwcfynMAX8bjErp&amp;_nc_ht=scontent.fkul10-1.fna&amp;oh=f6e4218c9e69cd778c2865881335d050&amp;oe=60E57387\" title=\"COVID-19 Live Updates\"/></div><hr/><div><img alt=\"COVID-19 Live Updates\" class=\"img-fluid\" loading=\"lazy\" src=\"https://scontent.fkul10-1.fna.fbcdn.net/v/t1.6435-9/204601943_2266139220184096_9116178061955695915_n.jpg?_nc_cat=109&amp;ccb=1-3&amp;_nc_sid=730e14&amp;_nc_ohc=zHU6zjD5Ic8AX9Mo7Hb&amp;_nc_ht=scontent.fkul10-1.fna&amp;oh=5d9c9f8135b65e7b465fcd2f4dd14936&amp;oe=60E56365\" title=\"COVID-19 Live Updates\"/></div><hr/><div><img alt=\"COVID-19 Live Updates\" class=\"img-fluid\" loading=\"lazy\" src=\"https://scontent.fkul10-1.fna.fbcdn.net/v/t1.6435-9/200654324_2266139263517425_1735953928267503782_n.jpg?_nc_cat=110&amp;ccb=1-3&amp;_nc_sid=730e14&amp;_nc_ohc=4ojWfN8N_m0AX9D12g-&amp;_nc_ht=scontent.fkul10-1.fna&amp;oh=94a88b474bcf40ad480c914c0082e705&amp;oe=60E4DAF4\" title=\"COVID-19 Live Updates\"/></div><hr/><div><img alt=\"COVID-19 Live Updates\" class=\"img-fluid\" loading=\"lazy\" src=\"https://scontent.fkul10-1.fna.fbcdn.net/v/t1.6435-9/205740281_2266139293517422_539114190079197468_n.jpg?_nc_cat=108&amp;ccb=1-3&amp;_nc_sid=730e14&amp;_nc_ohc=ndJ2aG_tmUQAX--NEjQ&amp;_nc_oc=AQllLpvLZT1xKFNsFHXGM89qqoU1ixT_yZ8t3p0dm-Mwa9iStdVZByVjpbvJBHvsGoLCDbqs2gre-ELoURGu3aJQ&amp;_nc_ht=scontent.fkul10-1.fna&amp;oh=b1e53cb11d3ec759acae182b97bcb029&amp;oe=60E4EDAE\" title=\"COVID-19 Live Updates\"/></div><hr/><div><img alt=\"COVID-19 Live Updates\" class=\"img-fluid\" loading=\"lazy\" src=\"https://scontent.fkul10-1.fna.fbcdn.net/v/t1.6435-9/203070462_2266139316850753_5428425673014019190_n.jpg?_nc_cat=109&amp;ccb=1-3&amp;_nc_sid=730e14&amp;_nc_ohc=1VbUbKtYPYkAX95GKII&amp;_nc_ht=scontent.fkul10-1.fna&amp;oh=de6484d1433f01f045c75ec347ff283e&amp;oe=60E57871\" title=\"COVID-19 Live Updates\"/></div><hr/><div><img alt=\"COVID-19 Live Updates\" class=\"img-fluid\" loading=\"lazy\" src=\"https://scontent.fkul10-1.fna.fbcdn.net/v/t1.6435-9/199282959_2266139360184082_8092446219373363876_n.jpg?_nc_cat=108&amp;ccb=1-3&amp;_nc_sid=730e14&amp;_nc_ohc=kec6dJkQ1x0AX_kJemK&amp;_nc_ht=scontent.fkul10-1.fna&amp;oh=5382dbca9e887e6bcf3f56555dfc8d9c&amp;oe=60E5128B\" title=\"COVID-19 Live Updates\"/></div><hr/><div><img alt=\"COVID-19 Live Updates\" class=\"img-fluid\" loading=\"lazy\" src=\"https://scontent.fkul10-1.fna.fbcdn.net/v/t1.6435-9/207068842_2266139386850746_2040206480289232996_n.jpg?_nc_cat=104&amp;ccb=1-3&amp;_nc_sid=730e14&amp;_nc_ohc=UDEyvcHx7LwAX-U88es&amp;_nc_oc=AQm6vBadHA4QhR4d_NDQ1Zc8x75UFXEL8eyJyIcWoVTsKT0rAw4WkGnC-YIHNKlxyff3PdXXAvNbAnPujLoRGCpK&amp;_nc_ht=scontent.fkul10-1.fna&amp;oh=6d3271ef8f8efdcbaf0fb5f1428a749a&amp;oe=60E543C0\" title=\"COVID-19 Live Updates\"/></div><hr/><div><img alt=\"COVID-19 Live Updates\" class=\"img-fluid\" loading=\"lazy\" src=\"https://scontent.fkul10-1.fna.fbcdn.net/v/t1.6435-9/201332450_2266139410184077_6168778627515074275_n.jpg?_nc_cat=103&amp;ccb=1-3&amp;_nc_sid=730e14&amp;_nc_ohc=i2UctpIqOK4AX_P5xTj&amp;tn=Ol7hYA2l0aQXnDp4&amp;_nc_ht=scontent.fkul10-1.fna&amp;oh=8dc7eb2f5f32620892c562f955d3ed0a&amp;oe=60E4E102\" title=\"COVID-19 Live Updates\"/></div><hr/><div><img alt=\"COVID-19 Live Updates\" class=\"img-fluid\" loading=\"lazy\" src=\"https://scontent.fkul10-1.fna.fbcdn.net/v/t1.6435-9/201503939_2266139443517407_9104716395222533644_n.jpg?_nc_cat=111&amp;ccb=1-3&amp;_nc_sid=730e14&amp;_nc_ohc=1xbx7O7rU7wAX8GsmNx&amp;_nc_ht=scontent.fkul10-1.fna&amp;oh=8634d1c6807b3677fe5fe9502a588d6e&amp;oe=60E50477\" title=\"COVID-19 Live Updates\"/></div><hr/></div><div class=\"modal-footer\"><button class=\"btn btn-secondary\" data-bs-dismiss=\"modal\" type=\"button\">Close</button></div></div></div></div></div></div><table class=\"my table table-striped table-sm table-hover table-bordered mb-0\"><thead class=\"table-dark\"><tr><th class=\"sticky\">Area/City</th><th class=\"sticky\">New</th><th class=\"sticky\">14 Days</th><th class=\"sticky\">Active</th><th class=\"sticky\">Total</th></tr></thead><tbody class=\"border\"><tr><th colspan=\"5\" scope=\"colgroup\"><div class=\"table-colspan text-uppercase\">Betong</div></th></tr><tr><td>Betong</td><td class=\"bg-yellow\">1</td><td class=\"bg-warning\">40</td><td>42</td><td>826</td></tr><tr><td>Debak</td><td class=\"bg-success text-white\">0</td><td class=\"bg-success text-white\">0</td><td>0</td><td>0</td></tr><tr><td>Kabong</td><td class=\"bg-success text-white\">0</td><td class=\"bg-yellow\">18</td><td>4</td><td>157</td></tr><tr><td>Malumdam</td><td class=\"bg-success text-white\">0</td><td class=\"bg-success text-white\">0</td><td>0</td><td>0</td></tr><tr><td>Nanga Budu</td><td class=\"bg-success text-white\">0</td><td class=\"bg-success text-white\">0</td><td>0</td><td>0</td></tr><tr><td>Pusa</td><td class=\"bg-success text-white\">0</td><td class=\"bg-yellow\">18</td><td>18</td><td>251</td></tr><tr><td>Roban</td><td class=\"bg-success text-white\">0</td><td class=\"bg-success text-white\">0</td><td>0</td><td>0</td></tr><tr><td>Saratok</td><td class=\"bg-warning\">22</td><td class=\"bg-danger text-white\">106</td><td>80</td><td>435</td></tr><tr><td>Spaoh</td><td class=\"bg-success text-white\">0</td><td class=\"bg-success text-white\">0</td><td>0</td><td>0</td></tr><tr><th colspan=\"5\" scope=\"colgroup\"><div class=\"table-colspan text-uppercase\">Serian</div></th></tr><tr><td>Serian</td><td class=\"bg-yellow\">18</td><td class=\"bg-danger text-white\">193</td><td>204</td><td>1,691</td></tr><tr><td>Siburan</td><td class=\"bg-success text-white\">0</td><td class=\"bg-success text-white\">0</td><td>0</td><td>0</td></tr><tr><td>Tebedu</td><td class=\"bg-success text-white\">0</td><td class=\"bg-danger text-white\">178</td><td>110</td><td>356</td></tr><tr><th colspan=\"5\" scope=\"colgroup\"><div class=\"table-colspan text-uppercase\">Sarikei</div></th></tr><tr><td>Julau</td><td class=\"bg-success text-white\">0</td><td class=\"bg-danger text-white\">44</td><td>24</td><td>703</td></tr><tr><td>Meradong</td><td class=\"bg-yellow\">2</td><td class=\"bg-danger text-white\">109</td><td>124</td><td>1,471</td></tr><tr><td>Pakan</td><td class=\"bg-yellow\">3</td><td class=\"bg-danger text-white\">86</td><td>48</td><td>764</td></tr><tr><td>Sarikei</td><td class=\"bg-yellow\">2</td><td class=\"bg-danger text-white\">243</td><td>136</td><td>1,386</td></tr><tr><th colspan=\"5\" scope=\"colgroup\"><div class=\"table-colspan text-uppercase\">Kuching</div></th></tr><tr><td>Bau</td><td class=\"bg-warning\">26</td><td class=\"bg-danger text-white\">258</td><td>177</td><td>714</td></tr><tr><td>Kuching</td><td class=\"bg-danger text-white\">77</td><td class=\"bg-danger text-white\">1,165</td><td>2,436</td><td>9,075</td></tr><tr><td>Lundu</td><td class=\"bg-yellow\">3</td><td class=\"bg-danger text-white\">59</td><td>25</td><td>358</td></tr><tr><td>Padawan</td><td class=\"bg-success text-white\">0</td><td class=\"bg-success text-white\">0</td><td>0</td><td>0</td></tr><tr><td>Sematan</td><td class=\"bg-success text-white\">0</td><td class=\"bg-success text-white\">0</td><td>0</td><td>0</td></tr><tr><th colspan=\"5\" scope=\"colgroup\"><div class=\"table-colspan text-uppercase\">Miri</div></th></tr><tr><td>Bario</td><td class=\"bg-success text-white\">0</td><td class=\"bg-success text-white\">0</td><td>0</td><td>0</td></tr><tr><td>Beluru</td><td class=\"bg-success text-white\">0</td><td class=\"bg-yellow\">4</td><td>8</td><td>687</td></tr><tr><td>Long Bedian</td><td class=\"bg-success text-white\">0</td><td class=\"bg-success text-white\">0</td><td>0</td><td>0</td></tr><tr><td>Long Lama</td><td class=\"bg-success text-white\">0</td><td class=\"bg-success text-white\">0</td><td>0</td><td>0</td></tr><tr><td>Marudi</td><td class=\"bg-success text-white\">0</td><td class=\"bg-yellow\">14</td><td>30</td><td>170</td></tr><tr><td>Miri</td><td class=\"bg-danger text-white\">65</td><td class=\"bg-danger text-white\">419</td><td>892</td><td>7,216</td></tr><tr><td>Mulu</td><td class=\"bg-success text-white\">0</td><td class=\"bg-success text-white\">0</td><td>0</td><td>0</td></tr><tr><td>Niah Suai</td><td class=\"bg-success text-white\">0</td><td class=\"bg-success text-white\">0</td><td>0</td><td>0</td></tr><tr><td>Subis</td><td class=\"bg-success text-white\">0</td><td class=\"bg-danger text-white\">208</td><td>157</td><td>1,485</td></tr><tr><td>Telang Usan</td><td class=\"bg-success text-white\">0</td><td class=\"bg-danger text-white\">271</td><td>245</td><td>347</td></tr><tr><td>Tinjar</td><td class=\"bg-success text-white\">0</td><td class=\"bg-success text-white\">0</td><td>0</td><td>0</td></tr><tr><th colspan=\"5\" scope=\"colgroup\"><div class=\"table-colspan text-uppercase\">Kapit</div></th></tr><tr><td>Belaga</td><td class=\"bg-yellow\">2</td><td class=\"bg-yellow\">10</td><td>25</td><td>371</td></tr><tr><td>Bukit Mabong</td><td class=\"bg-success text-white\">0</td><td class=\"bg-danger text-white\">44</td><td>67</td><td>890</td></tr><tr><td>Kapit</td><td class=\"bg-yellow\">11</td><td class=\"bg-danger text-white\">323</td><td>398</td><td>3,493</td></tr><tr><td>Nanga Merit</td><td class=\"bg-success text-white\">0</td><td class=\"bg-success text-white\">0</td><td>0</td><td>0</td></tr><tr><td>Song</td><td class=\"bg-yellow\">10</td><td class=\"bg-danger text-white\">211</td><td>341</td><td>1,218</td></tr><tr><td>Sungai Asap</td><td class=\"bg-success text-white\">0</td><td class=\"bg-success text-white\">0</td><td>0</td><td>0</td></tr><tr><th colspan=\"5\" scope=\"colgroup\"><div class=\"table-colspan text-uppercase\">Bintulu</div></th></tr><tr><td>Bintulu</td><td class=\"bg-warning\">33</td><td class=\"bg-danger text-white\">599</td><td>971</td><td>8,156</td></tr><tr><td>Sebauh</td><td class=\"bg-success text-white\">0</td><td class=\"bg-danger text-white\">80</td><td>53</td><td>520</td></tr><tr><td>Tatau</td><td class=\"bg-success text-white\">0</td><td class=\"bg-danger text-white\">231</td><td>142</td><td>953</td></tr><tr><th colspan=\"5\" scope=\"colgroup\"><div class=\"table-colspan text-uppercase\">Samarahan</div></th></tr><tr><td>Asajaya</td><td class=\"bg-yellow\">5</td><td class=\"bg-danger text-white\">61</td><td>104</td><td>327</td></tr><tr><td>Samarahan</td><td class=\"bg-yellow\">9</td><td class=\"bg-danger text-white\">128</td><td>386</td><td>1,577</td></tr><tr><td>Sebuyan</td><td class=\"bg-success text-white\">0</td><td class=\"bg-success text-white\">0</td><td>0</td><td>0</td></tr><tr><td>Simunjan</td><td class=\"bg-yellow\">2</td><td class=\"bg-warning\">30</td><td>17</td><td>131</td></tr><tr><th colspan=\"5\" scope=\"colgroup\"><div class=\"table-colspan text-uppercase\">Mukah</div></th></tr><tr><td>Balingian</td><td class=\"bg-success text-white\">0</td><td class=\"bg-success text-white\">0</td><td>0</td><td>0</td></tr><tr><td>Dalat</td><td class=\"bg-yellow\">5</td><td class=\"bg-yellow\">20</td><td>15</td><td>412</td></tr><tr><td>Daro</td><td class=\"bg-success text-white\">0</td><td class=\"bg-success text-white\">0</td><td>0</td><td>49</td></tr><tr><td>Igan</td><td class=\"bg-success text-white\">0</td><td class=\"bg-success text-white\">0</td><td>0</td><td>0</td></tr><tr><td>Matu</td><td class=\"bg-yellow\">1</td><td class=\"bg-warning\">32</td><td>16</td><td>252</td></tr><tr><td>Mukah</td><td class=\"bg-yellow\">7</td><td class=\"bg-danger text-white\">246</td><td>186</td><td>1,749</td></tr><tr><td>Oya</td><td class=\"bg-success text-white\">0</td><td class=\"bg-success text-white\">0</td><td>0</td><td>0</td></tr><tr><td>Tanjung Manis</td><td class=\"bg-success text-white\">0</td><td class=\"bg-danger text-white\">63</td><td>11</td><td>333</td></tr><tr><th colspan=\"5\" scope=\"colgroup\"><div class=\"table-colspan text-uppercase\">Sri Aman</div></th></tr><tr><td>Engkili</td><td class=\"bg-success text-white\">0</td><td class=\"bg-success text-white\">0</td><td>0</td><td>0</td></tr><tr><td>Lingga</td><td class=\"bg-success text-white\">0</td><td class=\"bg-success text-white\">0</td><td>0</td><td>0</td></tr><tr><td>Lubok Antu</td><td class=\"bg-success text-white\">0</td><td class=\"bg-yellow\">19</td><td>20</td><td>216</td></tr><tr><td>Pantu</td><td class=\"bg-success text-white\">0</td><td class=\"bg-success text-white\">0</td><td>0</td><td>0</td></tr><tr><td>Sri Aman</td><td class=\"bg-yellow\">11</td><td class=\"bg-danger text-white\">271</td><td>362</td><td>1,886</td></tr><tr><th colspan=\"5\" scope=\"colgroup\"><div class=\"table-colspan text-uppercase\">Sibu</div></th></tr><tr><td>Kanowit</td><td class=\"bg-yellow\">2</td><td class=\"bg-danger text-white\">254</td><td>196</td><td>1,588</td></tr><tr><td>Selangau</td><td class=\"bg-success text-white\">0</td><td class=\"bg-danger text-white\">54</td><td>147</td><td>1,289</td></tr><tr><td>Sibu</td><td class=\"bg-warning\">39</td><td class=\"bg-danger text-white\">992</td><td>1,685</td><td>12,512</td></tr><tr><th colspan=\"5\" scope=\"colgroup\"><div class=\"table-colspan text-uppercase\">Limbang</div></th></tr><tr><td>Lawas</td><td class=\"bg-success text-white\">0</td><td class=\"bg-yellow\">9</td><td>14</td><td>92</td></tr><tr><td>Limbang</td><td class=\"bg-yellow\">5</td><td class=\"bg-yellow\">8</td><td>6</td><td>90</td></tr><tr><td>Nanga Medamit</td><td class=\"bg-success text-white\">0</td><td class=\"bg-success text-white\">0</td><td>0</td><td>0</td></tr><tr><td>Sundar</td><td class=\"bg-success text-white\">0</td><td class=\"bg-success text-white\">0</td><td>0</td><td>0</td></tr><tr><td>Trusan</td><td class=\"bg-success text-white\">0</td><td class=\"bg-success text-white\">0</td><td>0</td><td>0</td></tr></tbody><tfoot class=\"font-weight-bold border-bottom\"><tr><td>Total</td><td class=\"bg-danger text-white\">361</td><td class=\"bg-danger text-white\">7,118</td><td>9,922</td><td>66,196</td></tr></tfoot></table></div><div class=\"container max-responsive text-center\"><div class=\"text-muted small mt-3\"><small>Source: CPRC, KKM, MKN</small></div><hr/></div></section>]"
      ]
     },
     "metadata": {},
     "execution_count": 9
    }
   ],
   "source": [
    "# get new cases by area/city\n",
    "area_stats = soup_general.find_all(\"section\", {\"id\": \"MY-area\"})\n",
    "area_stats"
   ]
  },
  {
   "cell_type": "code",
   "execution_count": 10,
   "metadata": {},
   "outputs": [],
   "source": [
    "# list of states\n",
    "stateList = ['selangor', 'kualalumpur', 'putrajaya', 'ppinang', 'johor', 'nsembilan', 'pahang', 'kelantan',\n",
    "'kedah', 'perak', 'melaka', 'terengganu', 'perlis', 'sabah', 'labuan', 'sarawak']"
   ]
  },
  {
   "cell_type": "code",
   "execution_count": 12,
   "metadata": {},
   "outputs": [],
   "source": [
    "# find all tables in area section\n",
    "area_soup = bs(str(area_stats))\n",
    "tableList = area_soup.find_all(\"table\")"
   ]
  },
  {
   "cell_type": "code",
   "execution_count": 13,
   "metadata": {},
   "outputs": [
    {
     "output_type": "execute_result",
     "data": {
      "text/plain": [
       "<td>Kepong</td><td class=\"bg-success text-white\">0</td><td class=\"bg-yellow\">4</td><td>-</td><td>-</td></tr><tr><td>Kuala Ibai</td><td class=\"bg-success text-white\">0</td><td class=\"bg-yellow\">4</td><td>-</td><td>-</td></tr><tr><td>Kubang Parit</td><td class=\"bg-success text-white\">0</td><td class=\"bg-yellow\">2</td><td>-</td><td>-</td></tr><tr><td>Losong</td><td class=\"bg-success text-white\">0</td><td class=\"bg-yellow\">5</td><td>-</td><td>-</td></tr><tr><td>Manir</td><td class=\"bg-yellow\">12</td><td class=\"bg-danger text-white\">100</td><td>-</td><td>-</td></tr><tr><td>Paloh</td><td class=\"bg-success text-white\">0</td><td class=\"bg-yellow\">7</td><td>-</td><td>-</td></tr><tr><td>Pekan Cabang Tiga</td><td class=\"bg-success text-white\">0</td><td class=\"bg-success text-white\">0</td><td>-</td><td>-</td></tr><tr><td>Pengadang Buluh</td><td class=\"bg-success text-white\">0</td><td class=\"bg-success text-white\">0</td><td>-</td><td>-</td></tr><tr><td>Pulau-Pulau</td><td class=\"bg-success text-white\">0</td><td class=\"bg-success text-white\">0</td><td>-</td><td>-</td></tr><tr><td>Rengas</td><td class=\"bg-success text-white\">0</td><td class=\"bg-yellow\">10</td><td>-</td><td>-</td></tr><tr><td>Serada</td><td class=\"bg-success text-white\">0</td><td class=\"bg-yellow\">7</td><td>-</td><td>-</td></tr><tr><td>Tok Jamal</td><td class=\"bg-success text-white\">0</td><td class=\"bg-yellow\">7</td><td>-</td><td>-</td></tr><tr><th colspan=\"5\" scope=\"colgroup\"><div class=\"table-colspan text-uppercase\">Marang</div></th></tr><tr><td>Alor Limbat</td><td class=\"bg-success text-white\">0</td><td class=\"bg-yellow\">4</td><td>-</td><td>-</td></tr><tr><td>Binjai Rendah</td><td class=\"bg-yellow\">1</td><td class=\"bg-success text-white\">0</td><td>-</td><td>-</td></tr><tr><td>Bukit Payong</td><td class=\"bg-success text-white\">0</td><td class=\"bg-yellow\">7</td><td>-</td><td>-</td></tr><tr><td>Jerong</td><td class=\"bg-success text-white\">0</td><td class=\"bg-yellow\">3</td><td>-</td><td>-</td></tr><tr><td>Merchang</td><td class=\"bg-yellow\">1</td><td class=\"bg-yellow\">2</td><td>-</td><td>-</td></tr><tr><td>Pulau Kerengga</td><td class=\"bg-success text-white\">0</td><td class=\"bg-yellow\">1</td><td>-</td><td>-</td></tr><tr><td>Rusila</td><td class=\"bg-yellow\">1</td><td class=\"bg-yellow\">2</td><td>-</td><td>-</td></tr><tr><td>Wakaf Tapai</td><td class=\"bg-success text-white\">0</td><td class=\"bg-yellow\">17</td><td>-</td><td>-</td></tr></tbody><tfoot class=\"font-weight-bold border-bottom\"><tr><td>Total</td><td class=\"bg-danger text-white\">51</td><td class=\"bg-danger text-white\">358</td><td>-</td><td>-</td></tr></tfoot></table>,\n",
       " <table class=\"my table table-striped table-sm table-hover table-bordered mb-3\"><thead class=\"table-dark\"><tr><th class=\"sticky\">Area/City</th><th class=\"sticky\">New</th><th class=\"sticky\">14 Days</th><th class=\"sticky\">Active</th><th class=\"sticky\">Total</th></tr></thead><tbody class=\"border\"><tr><td>(Penjara, Lokap, Tahanan Imigresen)</td><td class=\"bg-success text-white\">0</td><td class=\"bg-success text-white\">0</td><td>-</td><td>-</td></tr><tr><td>Abi</td><td class=\"bg-success text-white\">0</td><td class=\"bg-success text-white\">0</td><td>-</td><td>-</td></tr><tr><td>Arau</td><td class=\"bg-success text-white\">0</td><td class=\"bg-success text-white\">0</td><td>-</td><td>-</td></tr><tr><td>Beseri</td><td class=\"bg-yellow\">1</td><td class=\"bg-yellow\">1</td><td>-</td><td>-</td></tr><tr><td>Chuping</td><td class=\"bg-success text-white\">0</td><td class=\"bg-success text-white\">0</td><td>-</td><td>-</td></tr><tr><td>Jejawi</td><td class=\"bg-success text-white\">0</td><td class=\"bg-success text-white\">0</td><td>-</td><td>-</td></tr><tr><td>Kayang</td><td class=\"bg-success text-white\">0</td><td class=\"bg-success text-white\">0</td><td>-</td><td>-</td></tr><tr><td>Kechor</td><td class=\"bg-success text-white\">0</td><td class=\"bg-yellow\">2</td><td>-</td><td>-</td></tr><tr><td>Kuala Perlis</td><td class=\"bg-success text-white\">0</td><td class=\"bg-yellow\">1</td><td>-</td><td>-</td></tr><tr><td>Kurung Anai</td><td class=\"bg-success text-white\">0</td><td class=\"bg-success text-white\">0</td><td>-</td><td>-</td></tr><tr><td>Kurung Batang</td><td class=\"bg-success text-white\">0</td><td class=\"bg-success text-white\">0</td><td>-</td><td>-</td></tr><tr><td>Ngulang</td><td class=\"bg-success text-white\">0</td><td class=\"bg-success text-white\">0</td><td>-</td><td>-</td></tr><tr><td>Oran</td><td class=\"bg-success text-white\">0</td><td class=\"bg-success text-white\">0</td><td>-</td><td>-</td></tr><tr><td>Padang Pauh</td><td class=\"bg-success text-white\">0</td><td class=\"bg-success text-white\">0</td><td>-</td><td>-</td></tr><tr><td>Padang Siding</td><td class=\"bg-success text-white\">0</td><td class=\"bg-success text-white\">0</td><td>-</td><td>-</td></tr><tr><td>Paya</td><td class=\"bg-success text-white\">0</td><td class=\"bg-success text-white\">0</td><td>-</td><td>-</td></tr><tr><td>Sanglang</td><td class=\"bg-success text-white\">0</td><td class=\"bg-yellow\">6</td><td>-</td><td>-</td></tr><tr><td>Sena</td><td class=\"bg-yellow\">1</td><td class=\"bg-yellow\">6</td><td>-</td><td>-</td></tr><tr><td>Seriab</td><td class=\"bg-success text-white\">0</td><td class=\"bg-success text-white\">0</td><td>-</td><td>-</td></tr><tr><td>Sungai Adam</td><td class=\"bg-success text-white\">0</td><td class=\"bg-success text-white\">0</td><td>-</td><td>-</td></tr><tr><td>Titi Tinggi</td><td class=\"bg-success text-white\">0</td><td class=\"bg-yellow\">4</td><td>-</td><td>-</td></tr><tr><td>Utan Aji</td><td class=\"bg-success text-white\">0</td><td class=\"bg-yellow\">5</td><td>-</td><td>-</td></tr><tr><td>Wang Bintong</td><td class=\"bg-success text-white\">0</td><td class=\"bg-yellow\">1</td><td>-</td><td>-</td></tr></tbody><tfoot class=\"font-weight-bold border-bottom\"><tr><td>Total</td><td class=\"bg-yellow\">2</td><td class=\"bg-warning\">26</td><td>-</td><td>-</td></tr></tfoot></table>,\n",
       " <table class=\"my table table-striped table-sm table-hover table-bordered mb-3\"><thead class=\"table-dark\"><tr><th class=\"sticky\">Area/City</th><th class=\"sticky\">New</th><th class=\"sticky\">14 Days</th><th class=\"sticky\">Active</th><th class=\"sticky\">Total</th></tr></thead><tbody class=\"border\"><tr><td>Beaufort</td><td class=\"bg-warning\">34</td><td class=\"bg-danger text-white\">150</td><td>-</td><td>864</td></tr><tr><td>Beluran</td><td class=\"bg-success text-white\">0</td><td class=\"bg-success text-white\">0</td><td>-</td><td>290</td></tr><tr><td>Kalabakan</td><td class=\"bg-yellow\">1</td><td class=\"bg-danger text-white\">64</td><td>-</td><td>1,475</td></tr><tr><td>Keningau</td><td class=\"bg-yellow\">4</td><td class=\"bg-danger text-white\">95</td><td>-</td><td>2,433</td></tr><tr><td>Kinabatangan</td><td class=\"bg-success text-white\">0</td><td class=\"bg-danger text-white\">47</td><td>-</td><td>1,304</td></tr><tr><td>Kota Belud</td><td class=\"bg-yellow\">11</td><td class=\"bg-danger text-white\">190</td><td>-</td><td>1,659</td></tr><tr><td>Kota Kinabalu</td><td class=\"bg-danger text-white\">72</td><td class=\"bg-danger text-white\">565</td><td>-</td><td>14,773</td></tr><tr><td>Kota Marudu</td><td class=\"bg-yellow\">3</td><td class=\"bg-danger text-white\">78</td><td>-</td><td>645</td></tr><tr><td>Kuala Penyu</td><td class=\"bg-success text-white\">0</td><td class=\"bg-yellow\">16</td><td>-</td><td>248</td></tr><tr><td>Kudat</td><td class=\"bg-warning\">34</td><td class=\"bg-danger text-white\">351</td><td>-</td><td>2,164</td></tr><tr><td>Kunak</td><td class=\"bg-success text-white\">0</td><td class=\"bg-danger text-white\">80</td><td>-</td><td>1,599</td></tr><tr><td>Lahad Datu</td><td class=\"bg-yellow\">2</td><td class=\"bg-danger text-white\">80</td><td>-</td><td>6,549</td></tr><tr><td>Nabawan</td><td class=\"bg-success text-white\">0</td><td class=\"bg-yellow\">9</td><td>-</td><td>616</td></tr><tr><td>Papar</td><td class=\"bg-yellow\">6</td><td class=\"bg-danger text-white\">80</td><td>-</td><td>2,538</td></tr><tr><td>Penampang</td><td class=\"bg-yellow\">3</td><td class=\"bg-danger text-white\">94</td><td>-</td><td>3,798</td></tr><tr><td>Pitas</td><td class=\"bg-yellow\">12</td><td class=\"bg-danger text-white\">60</td><td>-</td><td>402</td></tr><tr><td>Putatan</td><td class=\"bg-yellow\">4</td><td class=\"bg-danger text-white\">84</td><td>-</td><td>2,206</td></tr><tr><td>Ranau</td><td class=\"bg-success text-white\">0</td><td class=\"bg-yellow\">5</td><td>-</td><td>546</td></tr><tr><td>Sandakan</td><td class=\"bg-yellow\">19</td><td class=\"bg-danger text-white\">182</td><td>-</td><td>7,722</td></tr><tr><td>Semporna</td><td class=\"bg-yellow\">4</td><td class=\"bg-danger text-white\">81</td><td>-</td><td>2,743</td></tr><tr><td>Sipitang</td><td class=\"bg-success text-white\">0</td><td class=\"bg-yellow\">9</td><td>-</td><td>367</td></tr><tr><td>Tambunan</td><td class=\"bg-success text-white\">0</td><td class=\"bg-yellow\">11</td><td>-</td><td>360</td></tr><tr><td>Tawau</td><td class=\"bg-danger text-white\">112</td><td class=\"bg-danger text-white\">449</td><td>-</td><td>11,167</td></tr><tr><td>Telupid</td><td class=\"bg-success text-white\">0</td><td class=\"bg-yellow\">4</td><td>-</td><td>188</td></tr><tr><td>Tenom</td><td class=\"bg-success text-white\">0</td><td class=\"bg-yellow\">1</td><td>-</td><td>248</td></tr><tr><td>Tongod</td><td class=\"bg-success text-white\">0</td><td class=\"bg-yellow\">4</td><td>-</td><td>85</td></tr><tr><td>Tuaran</td><td class=\"bg-yellow\">1</td><td class=\"bg-danger text-white\">62</td><td>-</td><td>3,240</td></tr></tbody><tfoot class=\"font-weight-bold border-bottom\"><tr><td>Total</td><td class=\"bg-danger text-white\">322</td><td class=\"bg-danger text-white\">2,851</td><td>-</td><td>70,229</td></tr></tfoot></table>,\n",
       " <table class=\"my table table-striped table-sm table-hover table-bordered mb-3\"><thead class=\"table-dark\"><tr><th class=\"sticky\">Area/City</th><th class=\"sticky\">New</th><th class=\"sticky\">14 Days</th><th class=\"sticky\">Active</th><th class=\"sticky\">Total</th></tr></thead><tbody class=\"border\"><tr><td>Labuan</td><td class=\"bg-danger text-white\">108</td><td class=\"bg-danger text-white\">1,614</td><td>-</td><td>8,537</td></tr></tbody><tfoot class=\"font-weight-bold border-bottom\"><tr><td>Total</td><td class=\"bg-danger text-white\">108</td><td class=\"bg-danger text-white\">1,614</td><td>-</td><td>8,537</td></tr></tfoot></table>,\n",
       " <table class=\"my table table-striped table-sm table-hover table-bordered mb-0\"><thead class=\"table-dark\"><tr><th class=\"sticky\">Area/City</th><th class=\"sticky\">New</th><th class=\"sticky\">14 Days</th><th class=\"sticky\">Active</th><th class=\"sticky\">Total</th></tr></thead><tbody class=\"border\"><tr><th colspan=\"5\" scope=\"colgroup\"><div class=\"table-colspan text-uppercase\">Betong</div></th></tr><tr><td>Betong</td><td class=\"bg-yellow\">1</td><td class=\"bg-warning\">40</td><td>42</td><td>826</td></tr><tr><td>Debak</td><td class=\"bg-success text-white\">0</td><td class=\"bg-success text-white\">0</td><td>0</td><td>0</td></tr><tr><td>Kabong</td><td class=\"bg-success text-white\">0</td><td class=\"bg-yellow\">18</td><td>4</td><td>157</td></tr><tr><td>Malumdam</td><td class=\"bg-success text-white\">0</td><td class=\"bg-success text-white\">0</td><td>0</td><td>0</td></tr><tr><td>Nanga Budu</td><td class=\"bg-success text-white\">0</td><td class=\"bg-success text-white\">0</td><td>0</td><td>0</td></tr><tr><td>Pusa</td><td class=\"bg-success text-white\">0</td><td class=\"bg-yellow\">18</td><td>18</td><td>251</td></tr><tr><td>Roban</td><td class=\"bg-success text-white\">0</td><td class=\"bg-success text-white\">0</td><td>0</td><td>0</td></tr><tr><td>Saratok</td><td class=\"bg-warning\">22</td><td class=\"bg-danger text-white\">106</td><td>80</td><td>435</td></tr><tr><td>Spaoh</td><td class=\"bg-success text-white\">0</td><td class=\"bg-success text-white\">0</td><td>0</td><td>0</td></tr><tr><th colspan=\"5\" scope=\"colgroup\"><div class=\"table-colspan text-uppercase\">Serian</div></th></tr><tr><td>Serian</td><td class=\"bg-yellow\">18</td><td class=\"bg-danger text-white\">193</td><td>204</td><td>1,691</td></tr><tr><td>Siburan</td><td class=\"bg-success text-white\">0</td><td class=\"bg-success text-white\">0</td><td>0</td><td>0</td></tr><tr><td>Tebedu</td><td class=\"bg-success text-white\">0</td><td class=\"bg-danger text-white\">178</td><td>110</td><td>356</td></tr><tr><th colspan=\"5\" scope=\"colgroup\"><div class=\"table-colspan text-uppercase\">Sarikei</div></th></tr><tr><td>Julau</td><td class=\"bg-success text-white\">0</td><td class=\"bg-danger text-white\">44</td><td>24</td><td>703</td></tr><tr><td>Meradong</td><td class=\"bg-yellow\">2</td><td class=\"bg-danger text-white\">109</td><td>124</td><td>1,471</td></tr><tr><td>Pakan</td><td class=\"bg-yellow\">3</td><td class=\"bg-danger text-white\">86</td><td>48</td><td>764</td></tr><tr><td>Sarikei</td><td class=\"bg-yellow\">2</td><td class=\"bg-danger text-white\">243</td><td>136</td><td>1,386</td></tr><tr><th colspan=\"5\" scope=\"colgroup\"><div class=\"table-colspan text-uppercase\">Kuching</div></th></tr><tr><td>Bau</td><td class=\"bg-warning\">26</td><td class=\"bg-danger text-white\">258</td><td>177</td><td>714</td></tr><tr><td>Kuching</td><td class=\"bg-danger text-white\">77</td><td class=\"bg-danger text-white\">1,165</td><td>2,436</td><td>9,075</td></tr><tr><td>Lundu</td><td class=\"bg-yellow\">3</td><td class=\"bg-danger text-white\">59</td><td>25</td><td>358</td></tr><tr><td>Padawan</td><td class=\"bg-success text-white\">0</td><td class=\"bg-success text-white\">0</td><td>0</td><td>0</td></tr><tr><td>Sematan</td><td class=\"bg-success text-white\">0</td><td class=\"bg-success text-white\">0</td><td>0</td><td>0</td></tr><tr><th colspan=\"5\" scope=\"colgroup\"><div class=\"table-colspan text-uppercase\">Miri</div></th></tr><tr><td>Bario</td><td class=\"bg-success text-white\">0</td><td class=\"bg-success text-white\">0</td><td>0</td><td>0</td></tr><tr><td>Beluru</td><td class=\"bg-success text-white\">0</td><td class=\"bg-yellow\">4</td><td>8</td><td>687</td></tr><tr><td>Long Bedian</td><td class=\"bg-success text-white\">0</td><td class=\"bg-success text-white\">0</td><td>0</td><td>0</td></tr><tr><td>Long Lama</td><td class=\"bg-success text-white\">0</td><td class=\"bg-success text-white\">0</td><td>0</td><td>0</td></tr><tr><td>Marudi</td><td class=\"bg-success text-white\">0</td><td class=\"bg-yellow\">14</td><td>30</td><td>170</td></tr><tr><td>Miri</td><td class=\"bg-danger text-white\">65</td><td class=\"bg-danger text-white\">419</td><td>892</td><td>7,216</td></tr><tr><td>Mulu</td><td class=\"bg-success text-white\">0</td><td class=\"bg-success text-white\">0</td><td>0</td><td>0</td></tr><tr><td>Niah Suai</td><td class=\"bg-success text-white\">0</td><td class=\"bg-success text-white\">0</td><td>0</td><td>0</td></tr><tr><td>Subis</td><td class=\"bg-success text-white\">0</td><td class=\"bg-danger text-white\">208</td><td>157</td><td>1,485</td></tr><tr><td>Telang Usan</td><td class=\"bg-success text-white\">0</td><td class=\"bg-danger text-white\">271</td><td>245</td><td>347</td></tr><tr><td>Tinjar</td><td class=\"bg-success text-white\">0</td><td class=\"bg-success text-white\">0</td><td>0</td><td>0</td></tr><tr><th colspan=\"5\" scope=\"colgroup\"><div class=\"table-colspan text-uppercase\">Kapit</div></th></tr><tr><td>Belaga</td><td class=\"bg-yellow\">2</td><td class=\"bg-yellow\">10</td><td>25</td><td>371</td></tr><tr><td>Bukit Mabong</td><td class=\"bg-success text-white\">0</td><td class=\"bg-danger text-white\">44</td><td>67</td><td>890</td></tr><tr><td>Kapit</td><td class=\"bg-yellow\">11</td><td class=\"bg-danger text-white\">323</td><td>398</td><td>3,493</td></tr><tr><td>Nanga Merit</td><td class=\"bg-success text-white\">0</td><td class=\"bg-success text-white\">0</td><td>0</td><td>0</td></tr><tr><td>Song</td><td class=\"bg-yellow\">10</td><td class=\"bg-danger text-white\">211</td><td>341</td><td>1,218</td></tr><tr><td>Sungai Asap</td><td class=\"bg-success text-white\">0</td><td class=\"bg-success text-white\">0</td><td>0</td><td>0</td></tr><tr><th colspan=\"5\" scope=\"colgroup\"><div class=\"table-colspan text-uppercase\">Bintulu</div></th></tr><tr><td>Bintulu</td><td class=\"bg-warning\">33</td><td class=\"bg-danger text-white\">599</td><td>971</td><td>8,156</td></tr><tr><td>Sebauh</td><td class=\"bg-success text-white\">0</td><td class=\"bg-danger text-white\">80</td><td>53</td><td>520</td></tr><tr><td>Tatau</td><td class=\"bg-success text-white\">0</td><td class=\"bg-danger text-white\">231</td><td>142</td><td>953</td></tr><tr><th colspan=\"5\" scope=\"colgroup\"><div class=\"table-colspan text-uppercase\">Samarahan</div></th></tr><tr><td>Asajaya</td><td class=\"bg-yellow\">5</td><td class=\"bg-danger text-white\">61</td><td>104</td><td>327</td></tr><tr><td>Samarahan</td><td class=\"bg-yellow\">9</td><td class=\"bg-danger text-white\">128</td><td>386</td><td>1,577</td></tr><tr><td>Sebuyan</td><td class=\"bg-success text-white\">0</td><td class=\"bg-success text-white\">0</td><td>0</td><td>0</td></tr><tr><td>Simunjan</td><td class=\"bg-yellow\">2</td><td class=\"bg-warning\">30</td><td>17</td><td>131</td></tr><tr><th colspan=\"5\" scope=\"colgroup\"><div class=\"table-colspan text-uppercase\">Mukah</div></th></tr><tr><td>Balingian</td><td class=\"bg-success text-white\">0</td><td class=\"bg-success text-white\">0</td><td>0</td><td>0</td></tr><tr><td>Dalat</td><td class=\"bg-yellow\">5</td><td class=\"bg-yellow\">20</td><td>15</td><td>412</td></tr><tr><td>Daro</td><td class=\"bg-success text-white\">0</td><td class=\"bg-success text-white\">0</td><td>0</td><td>49</td></tr><tr><td>Igan</td><td class=\"bg-success text-white\">0</td><td class=\"bg-success text-white\">0</td><td>0</td><td>0</td></tr><tr><td>Matu</td><td class=\"bg-yellow\">1</td><td class=\"bg-warning\">32</td><td>16</td><td>252</td></tr><tr><td>Mukah</td><td class=\"bg-yellow\">7</td><td class=\"bg-danger text-white\">246</td><td>186</td><td>1,749</td></tr><tr><td>Oya</td><td class=\"bg-success text-white\">0</td><td class=\"bg-success text-white\">0</td><td>0</td><td>0</td></tr><tr><td>Tanjung Manis</td><td class=\"bg-success text-white\">0</td><td class=\"bg-danger text-white\">63</td><td>11</td><td>333</td></tr><tr><th colspan=\"5\" scope=\"colgroup\"><div class=\"table-colspan text-uppercase\">Sri Aman</div></th></tr><tr><td>Engkili</td><td class=\"bg-success text-white\">0</td><td class=\"bg-success text-white\">0</td><td>0</td><td>0</td></tr><tr><td>Lingga</td><td class=\"bg-success text-white\">0</td><td class=\"bg-success text-white\">0</td><td>0</td><td>0</td></tr><tr><td>Lubok Antu</td><td class=\"bg-success text-white\">0</td><td class=\"bg-yellow\">19</td><td>20</td><td>216</td></tr><tr><td>Pantu</td><td class=\"bg-success text-white\">0</td><td class=\"bg-success text-white\">0</td><td>0</td><td>0</td></tr><tr><td>Sri Aman</td><td class=\"bg-yellow\">11</td><td class=\"bg-danger text-white\">271</td><td>362</td><td>1,886</td></tr><tr><th colspan=\"5\" scope=\"colgroup\"><div class=\"table-colspan text-uppercase\">Sibu</div></th></tr><tr><td>Kanowit</td><td class=\"bg-yellow\">2</td><td class=\"bg-danger text-white\">254</td><td>196</td><td>1,588</td></tr><tr><td>Selangau</td><td class=\"bg-success text-white\">0</td><td class=\"bg-danger text-white\">54</td><td>147</td><td>1,289</td></tr><tr><td>Sibu</td><td class=\"bg-warning\">39</td><td class=\"bg-danger text-white\">992</td><td>1,685</td><td>12,512</td></tr><tr><th colspan=\"5\" scope=\"colgroup\"><div class=\"table-colspan text-uppercase\">Limbang</div></th></tr><tr><td>Lawas</td><td class=\"bg-success text-white\">0</td><td class=\"bg-yellow\">9</td><td>14</td><td>92</td></tr><tr><td>Limbang</td><td class=\"bg-yellow\">5</td><td class=\"bg-yellow\">8</td><td>6</td><td>90</td></tr><tr><td>Nanga Medamit</td><td class=\"bg-success text-white\">0</td><td class=\"bg-success text-white\">0</td><td>0</td><td>0</td></tr><tr><td>Sundar</td><td class=\"bg-success text-white\">0</td><td class=\"bg-success text-white\">0</td><td>0</td><td>0</td></tr><tr><td>Trusan</td><td class=\"bg-success text-white\">0</td><td class=\"bg-success text-white\">0</td><td>0</td><td>0</td></tr></tbody><tfoot class=\"font-weight-bold border-bottom\"><tr><td>Total</td><td class=\"bg-danger text-white\">361</td><td class=\"bg-danger text-white\">7,118</td><td>9,922</td><td>66,196</td></tr></tfoot></table>]"
      ]
     },
     "metadata": {},
     "execution_count": 13
    }
   ],
   "source": [
    "tableList"
   ]
  },
  {
   "cell_type": "code",
   "execution_count": 14,
   "metadata": {},
   "outputs": [
    {
     "output_type": "execute_result",
     "data": {
      "text/plain": [
       "16"
      ]
     },
     "metadata": {},
     "execution_count": 14
    }
   ],
   "source": [
    "len(tableList)"
   ]
  },
  {
   "cell_type": "code",
   "execution_count": 16,
   "metadata": {},
   "outputs": [
    {
     "output_type": "stream",
     "name": "stdout",
     "text": [
      "3\n7\n11\n"
     ]
    }
   ],
   "source": [
    "for [a, b] in [[1, 2], [3, 4], [5, 6]]:\n",
    "    print(a+b)"
   ]
  },
  {
   "cell_type": "code",
   "execution_count": 19,
   "metadata": {},
   "outputs": [
    {
     "output_type": "execute_result",
     "data": {
      "text/plain": [
       "<table class=\"my table table-striped table-sm table-hover table-bordered mb-3\"><thead class=\"table-dark\"><tr><th class=\"sticky\">Area/City</th><th class=\"sticky\">New</th><th class=\"sticky\">14 Days</th><th class=\"sticky\">Active</th><th class=\"sticky\">Total</th></tr></thead><tbody class=\"border\"><tr><td>Import A (Luar Negara)</td><td class=\"bg-yellow\">2</td><td class=\"bg-success text-white\">0</td><td>5</td><td>745</td></tr><tr><td>Import B (Luar Negeri)</td><td class=\"bg-success text-white\">0</td><td class=\"bg-success text-white\">0</td><td>0</td><td>0</td></tr><tr><th colspan=\"5\" scope=\"colgroup\"><div class=\"table-colspan text-uppercase\">Sabak Bernam</div></th></tr><tr><td>(Penjara/Lokap)</td><td class=\"bg-success text-white\">0</td><td class=\"bg-success text-white\">0</td><td>0</td><td>4</td></tr><tr><td>Bagan N. Omar</td><td class=\"bg-success text-white\">0</td><td class=\"bg-yellow\">6</td><td>1</td><td>122</td></tr><tr><td>Pancang Bedena</td><td class=\"bg-yellow\">5</td><td class=\"bg-warning\">32</td><td>15</td><td>259</td></tr><tr><td>Pasir Panjang</td><td class=\"bg-yellow\">4</td><td class=\"bg-danger text-white\">48</td><td>21</td><td>309</td></tr><tr><td>Sabak</td><td class=\"bg-yellow\">2</td><td class=\"bg-warning\">21</td><td>12</td><td>410</td></tr><tr><td>Sungai Panjang</td><td class=\"bg-yellow\">2</td><td class=\"bg-yellow\">16</td><td>12</td><td>262</td></tr><tr><th colspan=\"5\" scope=\"colgroup\"><div class=\"table-colspan text-uppercase\">Kuala Selangor</div></th></tr><tr><td>(Penjara/Lokap)</td><td class=\"bg-success text-white\">0</td><td class=\"bg-success text-white\">0</td><td>0</td><td>7</td></tr><tr><td>Api-Api</td><td class=\"bg-success text-white\">0</td><td class=\"bg-yellow\">16</td><td>9</td><td>162</td></tr><tr><td>Bestari Jaya</td><td class=\"bg-yellow\">17</td><td class=\"bg-danger text-white\">175</td><td>68</td><td>1,580</td></tr><tr><td>Hujung Permatang</td><td class=\"bg-success text-white\">0</td><td class=\"bg-yellow\">2</td><td>2</td><td>132</td></tr><tr><td>Hulu Tinggi</td><td class=\"bg-success text-white\">0</td><td class=\"bg-success text-white\">0</td><td>0</td><td>0</td></tr><tr><td>Ijok</td><td class=\"bg-warning\">35</td><td class=\"bg-danger text-white\">464</td><td>112</td><td>3,803</td></tr><tr><td>Jeram</td><td class=\"bg-yellow\">12</td><td class=\"bg-danger text-white\">69</td><td>37</td><td>1,139</td></tr><tr><td>Kuala Selangor</td><td class=\"bg-yellow\">3</td><td class=\"bg-danger text-white\">42</td><td>24</td><td>577</td></tr><tr><td>Pasangan</td><td class=\"bg-success text-white\">0</td><td class=\"bg-yellow\">2</td><td>5</td><td>42</td></tr><tr><td>Tanjung Karang</td><td class=\"bg-yellow\">1</td><td class=\"bg-danger text-white\">80</td><td>16</td><td>694</td></tr><tr><th colspan=\"5\" scope=\"colgroup\"><div class=\"table-colspan text-uppercase\">Klang</div></th></tr><tr><td>(Penjara/Lokap)</td><td class=\"bg-success text-white\">0</td><td class=\"bg-success text-white\">0</td><td>0</td><td>13</td></tr><tr><td>Kapar</td><td class=\"bg-danger text-white\">60</td><td class=\"bg-danger text-white\">1,201</td><td>64</td><td>20,485</td></tr><tr><td>Klang</td><td class=\"bg-danger text-white\">383</td><td class=\"bg-danger text-white\">4,184</td><td>394</td><td>32,150</td></tr><tr><th colspan=\"5\" scope=\"colgroup\"><div class=\"table-colspan text-uppercase\">Kuala Langat</div></th></tr><tr><td>(Penjara/Lokap)</td><td class=\"bg-success text-white\">0</td><td class=\"bg-success text-white\">0</td><td>0</td><td>9</td></tr><tr><td>Bandar</td><td class=\"bg-yellow\">1</td><td class=\"bg-danger text-white\">74</td><td>13</td><td>385</td></tr><tr><td>Batu</td><td class=\"bg-success text-white\">0</td><td class=\"bg-danger text-white\">44</td><td>3</td><td>335</td></tr><tr><td>Jugra</td><td class=\"bg-yellow\">5</td><td class=\"bg-danger text-white\">56</td><td>16</td><td>380</td></tr><tr><td>Kelanang</td><td class=\"bg-success text-white\">0</td><td class=\"bg-warning\">40</td><td>1</td><td>154</td></tr><tr><td>Morib</td><td class=\"bg-yellow\">2</td><td class=\"bg-danger text-white\">54</td><td>3</td><td>485</td></tr><tr><td>Tanjung 12 (1)</td><td class=\"bg-warning\">32</td><td class=\"bg-danger text-white\">459</td><td>57</td><td>4,532</td></tr><tr><td>Tanjung 12 (2)</td><td class=\"bg-warning\">32</td><td class=\"bg-danger text-white\">246</td><td>29</td><td>1,737</td></tr><tr><td>Teluk Panglima Garang</td><td class=\"bg-yellow\">13</td><td class=\"bg-danger text-white\">670</td><td>51</td><td>5,614</td></tr><tr><th colspan=\"5\" scope=\"colgroup\"><div class=\"table-colspan text-uppercase\">Petaling</div></th></tr><tr><td>(Penjara/Lokap)</td><td class=\"bg-success text-white\">0</td><td class=\"bg-success text-white\">0</td><td>1</td><td>18</td></tr><tr><td>Bukit Raja</td><td class=\"bg-warning\">38</td><td class=\"bg-danger text-white\">621</td><td>32</td><td>5,965</td></tr><tr><td>Damansara</td><td class=\"bg-danger text-white\">222</td><td class=\"bg-danger text-white\">2,893</td><td>315</td><td>25,466</td></tr><tr><td>Petaling</td><td class=\"bg-danger text-white\">251</td><td class=\"bg-danger text-white\">3,614</td><td>222</td><td>27,546</td></tr><tr><td>Sungai Buloh</td><td class=\"bg-danger text-white\">96</td><td class=\"bg-danger text-white\">1,970</td><td>213</td><td>17,490</td></tr><tr><th colspan=\"5\" scope=\"colgroup\"><div class=\"table-colspan text-uppercase\">Sepang</div></th></tr><tr><td>(Penjara/Lokap)</td><td class=\"bg-success text-white\">0</td><td class=\"bg-success text-white\">0</td><td>0</td><td>83</td></tr><tr><td>Dengkil</td><td class=\"bg-danger text-white\">167</td><td class=\"bg-danger text-white\">1,230</td><td>482</td><td>9,933</td></tr><tr><td>Labu</td><td class=\"bg-danger text-white\">54</td><td class=\"bg-danger text-white\">635</td><td>80</td><td>6,212</td></tr><tr><td>Sepang</td><td class=\"bg-danger text-white\">81</td><td class=\"bg-danger text-white\">496</td><td>148</td><td>1,688</td></tr><tr><th colspan=\"5\" scope=\"colgroup\"><div class=\"table-colspan text-uppercase\">Hulu Selangor</div></th></tr><tr><td>(Penjara/Lokap)</td><td class=\"bg-success text-white\">0</td><td class=\"bg-success text-white\">0</td><td>0</td><td>276</td></tr><tr><td>Ampang Pecah</td><td class=\"bg-success text-white\">0</td><td class=\"bg-warning\">30</td><td>11</td><td>432</td></tr><tr><td>Batang Kali</td><td class=\"bg-yellow\">6</td><td class=\"bg-danger text-white\">79</td><td>22</td><td>488</td></tr><tr><td>Buluh Telur</td><td class=\"bg-success text-white\">0</td><td class=\"bg-success text-white\">0</td><td>0</td><td>1</td></tr><tr><td>Hulu Bernam</td><td class=\"bg-success text-white\">0</td><td class=\"bg-yellow\">18</td><td>4</td><td>192</td></tr><tr><td>Hulu Yam</td><td class=\"bg-yellow\">1</td><td class=\"bg-danger text-white\">181</td><td>261</td><td>343</td></tr><tr><td>K. Kalumpang</td><td class=\"bg-success text-white\">0</td><td class=\"bg-success text-white\">0</td><td>0</td><td>0</td></tr><tr><td>Kalumpang</td><td class=\"bg-yellow\">1</td><td class=\"bg-warning\">33</td><td>12</td><td>155</td></tr><tr><td>Kerling</td><td class=\"bg-success text-white\">0</td><td class=\"bg-yellow\">5</td><td>1</td><td>70</td></tr><tr><td>Pertak</td><td class=\"bg-success text-white\">0</td><td class=\"bg-success text-white\">0</td><td>0</td><td>0</td></tr><tr><td>Rasa</td><td class=\"bg-yellow\">6</td><td class=\"bg-danger text-white\">67</td><td>26</td><td>224</td></tr><tr><td>Serendah</td><td class=\"bg-danger text-white\">62</td><td class=\"bg-danger text-white\">638</td><td>161</td><td>3,955</td></tr><tr><td>Sungai Gumut</td><td class=\"bg-success text-white\">0</td><td class=\"bg-success text-white\">0</td><td>0</td><td>0</td></tr><tr><td>Sungai Tinggi</td><td class=\"bg-success text-white\">0</td><td class=\"bg-success text-white\">0</td><td>0</td><td>91</td></tr><tr><th colspan=\"5\" scope=\"colgroup\"><div class=\"table-colspan text-uppercase\">Gombak</div></th></tr><tr><td>(Penjara/Lokap)</td><td class=\"bg-success text-white\">0</td><td class=\"bg-success text-white\">0</td><td>0</td><td>241</td></tr><tr><td>Batu</td><td class=\"bg-danger text-white\">149</td><td class=\"bg-danger text-white\">1,488</td><td>248</td><td>12,403</td></tr><tr><td>Hulu Kelang</td><td class=\"bg-danger text-white\">61</td><td class=\"bg-danger text-white\">483</td><td>103</td><td>3,687</td></tr><tr><td>Kuang</td><td class=\"bg-danger text-white\">42</td><td class=\"bg-danger text-white\">302</td><td>57</td><td>2,301</td></tr><tr><td>Rawang</td><td class=\"bg-danger text-white\">91</td><td class=\"bg-danger text-white\">766</td><td>142</td><td>5,361</td></tr><tr><td>Setapak</td><td class=\"bg-danger text-white\">73</td><td class=\"bg-danger text-white\">504</td><td>128</td><td>2,329</td></tr><tr><th colspan=\"5\" scope=\"colgroup\"><div class=\"table-colspan text-uppercase\">Hulu Langat</div></th></tr><tr><td>(Penjara/Lokap)</td><td class=\"bg-yellow\">14</td><td class=\"bg-success text-white\">0</td><td>82</td><td>2,426</td></tr><tr><td>Ampang</td><td class=\"bg-danger text-white\">290</td><td class=\"bg-danger text-white\">1,975</td><td>645</td><td>12,218</td></tr><tr><td>Beranang</td><td class=\"bg-warning\">28</td><td class=\"bg-danger text-white\">212</td><td>75</td><td>1,023</td></tr><tr><td>Cheras</td><td class=\"bg-danger text-white\">193</td><td class=\"bg-danger text-white\">1,633</td><td>464</td><td>11,925</td></tr><tr><td>H. Semenyih</td><td class=\"bg-success text-white\">0</td><td class=\"bg-success text-white\">0</td><td>0</td><td>0</td></tr><tr><td>Hulu Langat</td><td class=\"bg-warning\">25</td><td class=\"bg-danger text-white\">269</td><td>77</td><td>2,495</td></tr><tr><td>Kajang</td><td class=\"bg-danger text-white\">327</td><td class=\"bg-danger text-white\">1,922</td><td>855</td><td>18,932</td></tr><tr><td>Semenyih</td><td class=\"bg-danger text-white\">158</td><td class=\"bg-danger text-white\">716</td><td>265</td><td>5,095</td></tr></tbody><tfoot class=\"font-weight-bold border-bottom\"><tr><td>Total</td><td class=\"bg-danger text-white\">3,047</td><td class=\"bg-danger text-white\">30,781</td><td>6,102</td><td>257,590</td></tr></tfoot></table>"
      ]
     },
     "metadata": {},
     "execution_count": 19
    }
   ],
   "source": [
    "# test of concept for only first table (data from Selangor)\n",
    "table = tableList[0]\n",
    "# initialize beautiful soup object to fetch state data\n",
    "state_soup = bs(str(table))\n",
    "table"
   ]
  },
  {
   "cell_type": "code",
   "execution_count": 32,
   "metadata": {},
   "outputs": [],
   "source": [
    "# extract column names from headers of table\n",
    "columnNames = [head.contents[0] for head in state_soup.find(\"thead\").contents[0].findAll(\"th\")]"
   ]
  },
  {
   "cell_type": "code",
   "execution_count": 35,
   "metadata": {},
   "outputs": [
    {
     "output_type": "execute_result",
     "data": {
      "text/plain": [
       "[<tr><td>Import A (Luar Negara)</td><td class=\"bg-yellow\">2</td><td class=\"bg-success text-white\">0</td><td>5</td><td>745</td></tr>,\n",
       " <tr><td>Import B (Luar Negeri)</td><td class=\"bg-success text-white\">0</td><td class=\"bg-success text-white\">0</td><td>0</td><td>0</td></tr>,\n",
       " <tr><th colspan=\"5\" scope=\"colgroup\"><div class=\"table-colspan text-uppercase\">Sabak Bernam</div></th></tr>,\n",
       " <tr><td>(Penjara/Lokap)</td><td class=\"bg-success text-white\">0</td><td class=\"bg-success text-white\">0</td><td>0</td><td>4</td></tr>,\n",
       " <tr><td>Bagan N. Omar</td><td class=\"bg-success text-white\">0</td><td class=\"bg-yellow\">6</td><td>1</td><td>122</td></tr>,\n",
       " <tr><td>Pancang Bedena</td><td class=\"bg-yellow\">5</td><td class=\"bg-warning\">32</td><td>15</td><td>259</td></tr>,\n",
       " <tr><td>Pasir Panjang</td><td class=\"bg-yellow\">4</td><td class=\"bg-danger text-white\">48</td><td>21</td><td>309</td></tr>,\n",
       " <tr><td>Sabak</td><td class=\"bg-yellow\">2</td><td class=\"bg-warning\">21</td><td>12</td><td>410</td></tr>,\n",
       " <tr><td>Sungai Panjang</td><td class=\"bg-yellow\">2</td><td class=\"bg-yellow\">16</td><td>12</td><td>262</td></tr>,\n",
       " <tr><th colspan=\"5\" scope=\"colgroup\"><div class=\"table-colspan text-uppercase\">Kuala Selangor</div></th></tr>,\n",
       " <tr><td>(Penjara/Lokap)</td><td class=\"bg-success text-white\">0</td><td class=\"bg-success text-white\">0</td><td>0</td><td>7</td></tr>,\n",
       " <tr><td>Api-Api</td><td class=\"bg-success text-white\">0</td><td class=\"bg-yellow\">16</td><td>9</td><td>162</td></tr>,\n",
       " <tr><td>Bestari Jaya</td><td class=\"bg-yellow\">17</td><td class=\"bg-danger text-white\">175</td><td>68</td><td>1,580</td></tr>,\n",
       " <tr><td>Hujung Permatang</td><td class=\"bg-success text-white\">0</td><td class=\"bg-yellow\">2</td><td>2</td><td>132</td></tr>,\n",
       " <tr><td>Hulu Tinggi</td><td class=\"bg-success text-white\">0</td><td class=\"bg-success text-white\">0</td><td>0</td><td>0</td></tr>,\n",
       " <tr><td>Ijok</td><td class=\"bg-warning\">35</td><td class=\"bg-danger text-white\">464</td><td>112</td><td>3,803</td></tr>,\n",
       " <tr><td>Jeram</td><td class=\"bg-yellow\">12</td><td class=\"bg-danger text-white\">69</td><td>37</td><td>1,139</td></tr>,\n",
       " <tr><td>Kuala Selangor</td><td class=\"bg-yellow\">3</td><td class=\"bg-danger text-white\">42</td><td>24</td><td>577</td></tr>,\n",
       " <tr><td>Pasangan</td><td class=\"bg-success text-white\">0</td><td class=\"bg-yellow\">2</td><td>5</td><td>42</td></tr>,\n",
       " <tr><td>Tanjung Karang</td><td class=\"bg-yellow\">1</td><td class=\"bg-danger text-white\">80</td><td>16</td><td>694</td></tr>,\n",
       " <tr><th colspan=\"5\" scope=\"colgroup\"><div class=\"table-colspan text-uppercase\">Klang</div></th></tr>,\n",
       " <tr><td>(Penjara/Lokap)</td><td class=\"bg-success text-white\">0</td><td class=\"bg-success text-white\">0</td><td>0</td><td>13</td></tr>,\n",
       " <tr><td>Kapar</td><td class=\"bg-danger text-white\">60</td><td class=\"bg-danger text-white\">1,201</td><td>64</td><td>20,485</td></tr>,\n",
       " <tr><td>Klang</td><td class=\"bg-danger text-white\">383</td><td class=\"bg-danger text-white\">4,184</td><td>394</td><td>32,150</td></tr>,\n",
       " <tr><th colspan=\"5\" scope=\"colgroup\"><div class=\"table-colspan text-uppercase\">Kuala Langat</div></th></tr>,\n",
       " <tr><td>(Penjara/Lokap)</td><td class=\"bg-success text-white\">0</td><td class=\"bg-success text-white\">0</td><td>0</td><td>9</td></tr>,\n",
       " <tr><td>Bandar</td><td class=\"bg-yellow\">1</td><td class=\"bg-danger text-white\">74</td><td>13</td><td>385</td></tr>,\n",
       " <tr><td>Batu</td><td class=\"bg-success text-white\">0</td><td class=\"bg-danger text-white\">44</td><td>3</td><td>335</td></tr>,\n",
       " <tr><td>Jugra</td><td class=\"bg-yellow\">5</td><td class=\"bg-danger text-white\">56</td><td>16</td><td>380</td></tr>,\n",
       " <tr><td>Kelanang</td><td class=\"bg-success text-white\">0</td><td class=\"bg-warning\">40</td><td>1</td><td>154</td></tr>,\n",
       " <tr><td>Morib</td><td class=\"bg-yellow\">2</td><td class=\"bg-danger text-white\">54</td><td>3</td><td>485</td></tr>,\n",
       " <tr><td>Tanjung 12 (1)</td><td class=\"bg-warning\">32</td><td class=\"bg-danger text-white\">459</td><td>57</td><td>4,532</td></tr>,\n",
       " <tr><td>Tanjung 12 (2)</td><td class=\"bg-warning\">32</td><td class=\"bg-danger text-white\">246</td><td>29</td><td>1,737</td></tr>,\n",
       " <tr><td>Teluk Panglima Garang</td><td class=\"bg-yellow\">13</td><td class=\"bg-danger text-white\">670</td><td>51</td><td>5,614</td></tr>,\n",
       " <tr><th colspan=\"5\" scope=\"colgroup\"><div class=\"table-colspan text-uppercase\">Petaling</div></th></tr>,\n",
       " <tr><td>(Penjara/Lokap)</td><td class=\"bg-success text-white\">0</td><td class=\"bg-success text-white\">0</td><td>1</td><td>18</td></tr>,\n",
       " <tr><td>Bukit Raja</td><td class=\"bg-warning\">38</td><td class=\"bg-danger text-white\">621</td><td>32</td><td>5,965</td></tr>,\n",
       " <tr><td>Damansara</td><td class=\"bg-danger text-white\">222</td><td class=\"bg-danger text-white\">2,893</td><td>315</td><td>25,466</td></tr>,\n",
       " <tr><td>Petaling</td><td class=\"bg-danger text-white\">251</td><td class=\"bg-danger text-white\">3,614</td><td>222</td><td>27,546</td></tr>,\n",
       " <tr><td>Sungai Buloh</td><td class=\"bg-danger text-white\">96</td><td class=\"bg-danger text-white\">1,970</td><td>213</td><td>17,490</td></tr>,\n",
       " <tr><th colspan=\"5\" scope=\"colgroup\"><div class=\"table-colspan text-uppercase\">Sepang</div></th></tr>,\n",
       " <tr><td>(Penjara/Lokap)</td><td class=\"bg-success text-white\">0</td><td class=\"bg-success text-white\">0</td><td>0</td><td>83</td></tr>,\n",
       " <tr><td>Dengkil</td><td class=\"bg-danger text-white\">167</td><td class=\"bg-danger text-white\">1,230</td><td>482</td><td>9,933</td></tr>,\n",
       " <tr><td>Labu</td><td class=\"bg-danger text-white\">54</td><td class=\"bg-danger text-white\">635</td><td>80</td><td>6,212</td></tr>,\n",
       " <tr><td>Sepang</td><td class=\"bg-danger text-white\">81</td><td class=\"bg-danger text-white\">496</td><td>148</td><td>1,688</td></tr>,\n",
       " <tr><th colspan=\"5\" scope=\"colgroup\"><div class=\"table-colspan text-uppercase\">Hulu Selangor</div></th></tr>,\n",
       " <tr><td>(Penjara/Lokap)</td><td class=\"bg-success text-white\">0</td><td class=\"bg-success text-white\">0</td><td>0</td><td>276</td></tr>,\n",
       " <tr><td>Ampang Pecah</td><td class=\"bg-success text-white\">0</td><td class=\"bg-warning\">30</td><td>11</td><td>432</td></tr>,\n",
       " <tr><td>Batang Kali</td><td class=\"bg-yellow\">6</td><td class=\"bg-danger text-white\">79</td><td>22</td><td>488</td></tr>,\n",
       " <tr><td>Buluh Telur</td><td class=\"bg-success text-white\">0</td><td class=\"bg-success text-white\">0</td><td>0</td><td>1</td></tr>,\n",
       " <tr><td>Hulu Bernam</td><td class=\"bg-success text-white\">0</td><td class=\"bg-yellow\">18</td><td>4</td><td>192</td></tr>,\n",
       " <tr><td>Hulu Yam</td><td class=\"bg-yellow\">1</td><td class=\"bg-danger text-white\">181</td><td>261</td><td>343</td></tr>,\n",
       " <tr><td>K. Kalumpang</td><td class=\"bg-success text-white\">0</td><td class=\"bg-success text-white\">0</td><td>0</td><td>0</td></tr>,\n",
       " <tr><td>Kalumpang</td><td class=\"bg-yellow\">1</td><td class=\"bg-warning\">33</td><td>12</td><td>155</td></tr>,\n",
       " <tr><td>Kerling</td><td class=\"bg-success text-white\">0</td><td class=\"bg-yellow\">5</td><td>1</td><td>70</td></tr>,\n",
       " <tr><td>Pertak</td><td class=\"bg-success text-white\">0</td><td class=\"bg-success text-white\">0</td><td>0</td><td>0</td></tr>,\n",
       " <tr><td>Rasa</td><td class=\"bg-yellow\">6</td><td class=\"bg-danger text-white\">67</td><td>26</td><td>224</td></tr>,\n",
       " <tr><td>Serendah</td><td class=\"bg-danger text-white\">62</td><td class=\"bg-danger text-white\">638</td><td>161</td><td>3,955</td></tr>,\n",
       " <tr><td>Sungai Gumut</td><td class=\"bg-success text-white\">0</td><td class=\"bg-success text-white\">0</td><td>0</td><td>0</td></tr>,\n",
       " <tr><td>Sungai Tinggi</td><td class=\"bg-success text-white\">0</td><td class=\"bg-success text-white\">0</td><td>0</td><td>91</td></tr>,\n",
       " <tr><th colspan=\"5\" scope=\"colgroup\"><div class=\"table-colspan text-uppercase\">Gombak</div></th></tr>,\n",
       " <tr><td>(Penjara/Lokap)</td><td class=\"bg-success text-white\">0</td><td class=\"bg-success text-white\">0</td><td>0</td><td>241</td></tr>,\n",
       " <tr><td>Batu</td><td class=\"bg-danger text-white\">149</td><td class=\"bg-danger text-white\">1,488</td><td>248</td><td>12,403</td></tr>,\n",
       " <tr><td>Hulu Kelang</td><td class=\"bg-danger text-white\">61</td><td class=\"bg-danger text-white\">483</td><td>103</td><td>3,687</td></tr>,\n",
       " <tr><td>Kuang</td><td class=\"bg-danger text-white\">42</td><td class=\"bg-danger text-white\">302</td><td>57</td><td>2,301</td></tr>,\n",
       " <tr><td>Rawang</td><td class=\"bg-danger text-white\">91</td><td class=\"bg-danger text-white\">766</td><td>142</td><td>5,361</td></tr>,\n",
       " <tr><td>Setapak</td><td class=\"bg-danger text-white\">73</td><td class=\"bg-danger text-white\">504</td><td>128</td><td>2,329</td></tr>,\n",
       " <tr><th colspan=\"5\" scope=\"colgroup\"><div class=\"table-colspan text-uppercase\">Hulu Langat</div></th></tr>,\n",
       " <tr><td>(Penjara/Lokap)</td><td class=\"bg-yellow\">14</td><td class=\"bg-success text-white\">0</td><td>82</td><td>2,426</td></tr>,\n",
       " <tr><td>Ampang</td><td class=\"bg-danger text-white\">290</td><td class=\"bg-danger text-white\">1,975</td><td>645</td><td>12,218</td></tr>,\n",
       " <tr><td>Beranang</td><td class=\"bg-warning\">28</td><td class=\"bg-danger text-white\">212</td><td>75</td><td>1,023</td></tr>,\n",
       " <tr><td>Cheras</td><td class=\"bg-danger text-white\">193</td><td class=\"bg-danger text-white\">1,633</td><td>464</td><td>11,925</td></tr>,\n",
       " <tr><td>H. Semenyih</td><td class=\"bg-success text-white\">0</td><td class=\"bg-success text-white\">0</td><td>0</td><td>0</td></tr>,\n",
       " <tr><td>Hulu Langat</td><td class=\"bg-warning\">25</td><td class=\"bg-danger text-white\">269</td><td>77</td><td>2,495</td></tr>,\n",
       " <tr><td>Kajang</td><td class=\"bg-danger text-white\">327</td><td class=\"bg-danger text-white\">1,922</td><td>855</td><td>18,932</td></tr>,\n",
       " <tr><td>Semenyih</td><td class=\"bg-danger text-white\">158</td><td class=\"bg-danger text-white\">716</td><td>265</td><td>5,095</td></tr>]"
      ]
     },
     "metadata": {},
     "execution_count": 35
    }
   ],
   "source": [
    "# get body of table\n",
    "unparsed_data = state_soup.find(\"tbody\").contents\n",
    "unparsed_data"
   ]
  },
  {
   "source": [
    "#### There are two cases for a table row: \n",
    "- either the table row is a data row for an area/city, in which case it will consist of the\n",
    "area/city and 4 values (new, 14 days, active, total); or\n",
    "- the table row is a heading for a district, in which case the table row will just consist of a\n",
    "table header."
   ],
   "cell_type": "markdown",
   "metadata": {}
  },
  {
   "cell_type": "code",
   "execution_count": 45,
   "metadata": {},
   "outputs": [
    {
     "output_type": "execute_result",
     "data": {
      "text/plain": [
       "[<td>Import A (Luar Negara)</td>,\n",
       " <td class=\"bg-yellow\">2</td>,\n",
       " <td class=\"bg-success text-white\">0</td>,\n",
       " <td>5</td>,\n",
       " <td>745</td>]"
      ]
     },
     "metadata": {},
     "execution_count": 45
    }
   ],
   "source": [
    "unparsed_data[0].contents"
   ]
  },
  {
   "source": [
    "### We make a helper function to help us extract data from a specific state."
   ],
   "cell_type": "markdown",
   "metadata": {}
  },
  {
   "cell_type": "code",
   "execution_count": 63,
   "metadata": {},
   "outputs": [],
   "source": [
    "def fetch_state_data(state_id):\n",
    "\n",
    "    # get the unparsed data first\n",
    "    state_soup = state_soups[state_id]\n",
    "    unparsed_data = state_soup.find(\"tbody\").contents\n",
    "\n",
    "    # initialize result set\n",
    "    # which is a dict with keys = district, and element = lists of lists of [name, new, 14 days, active, total]\n",
    "    result = {}\n",
    "\n",
    "    # initialize local bucket list\n",
    "    l = []\n",
    "    # var to hold current district name\n",
    "    district_name = 'misc'\n",
    "    # get the relevant data\n",
    "    for table_row in unparsed_data:\n",
    "        # if its a data row\n",
    "        if table_row.contents[0].name == 'td':\n",
    "            # then add its contents to l\n",
    "            l += [[val.text for val in table_row.contents]]\n",
    "        # otherwise, its a new district, so we reset the local \"district-specific\"\n",
    "        # list and move on to the next district\n",
    "        else:\n",
    "            result[district_name] = l\n",
    "            # reset vars\n",
    "            l = []\n",
    "            district_name = table_row.contents[0].text\n",
    "\n",
    "    # add the last district to the result\n",
    "    result[district_name] = l\n",
    "\n",
    "    # return the result\n",
    "    return result"
   ]
  },
  {
   "cell_type": "code",
   "execution_count": 53,
   "metadata": {},
   "outputs": [
    {
     "output_type": "execute_result",
     "data": {
      "text/plain": [
       "{'misc': [['Import A (Luar Negara)', '2', '0', '5', '745'],\n",
       "  ['Import B (Luar Negeri)', '0', '0', '0', '0']],\n",
       " 'Sabak Bernam': [['(Penjara/Lokap)', '0', '0', '0', '4'],\n",
       "  ['Bagan N. Omar', '0', '6', '1', '122'],\n",
       "  ['Pancang Bedena', '5', '32', '15', '259'],\n",
       "  ['Pasir Panjang', '4', '48', '21', '309'],\n",
       "  ['Sabak', '2', '21', '12', '410'],\n",
       "  ['Sungai Panjang', '2', '16', '12', '262']],\n",
       " 'Kuala Selangor': [['(Penjara/Lokap)', '0', '0', '0', '7'],\n",
       "  ['Api-Api', '0', '16', '9', '162'],\n",
       "  ['Bestari Jaya', '17', '175', '68', '1,580'],\n",
       "  ['Hujung Permatang', '0', '2', '2', '132'],\n",
       "  ['Hulu Tinggi', '0', '0', '0', '0'],\n",
       "  ['Ijok', '35', '464', '112', '3,803'],\n",
       "  ['Jeram', '12', '69', '37', '1,139'],\n",
       "  ['Kuala Selangor', '3', '42', '24', '577'],\n",
       "  ['Pasangan', '0', '2', '5', '42'],\n",
       "  ['Tanjung Karang', '1', '80', '16', '694']],\n",
       " 'Klang': [['(Penjara/Lokap)', '0', '0', '0', '13'],\n",
       "  ['Kapar', '60', '1,201', '64', '20,485'],\n",
       "  ['Klang', '383', '4,184', '394', '32,150']],\n",
       " 'Kuala Langat': [['(Penjara/Lokap)', '0', '0', '0', '9'],\n",
       "  ['Bandar', '1', '74', '13', '385'],\n",
       "  ['Batu', '0', '44', '3', '335'],\n",
       "  ['Jugra', '5', '56', '16', '380'],\n",
       "  ['Kelanang', '0', '40', '1', '154'],\n",
       "  ['Morib', '2', '54', '3', '485'],\n",
       "  ['Tanjung 12 (1)', '32', '459', '57', '4,532'],\n",
       "  ['Tanjung 12 (2)', '32', '246', '29', '1,737'],\n",
       "  ['Teluk Panglima Garang', '13', '670', '51', '5,614']],\n",
       " 'Petaling': [['(Penjara/Lokap)', '0', '0', '1', '18'],\n",
       "  ['Bukit Raja', '38', '621', '32', '5,965'],\n",
       "  ['Damansara', '222', '2,893', '315', '25,466'],\n",
       "  ['Petaling', '251', '3,614', '222', '27,546'],\n",
       "  ['Sungai Buloh', '96', '1,970', '213', '17,490']],\n",
       " 'Sepang': [['(Penjara/Lokap)', '0', '0', '0', '83'],\n",
       "  ['Dengkil', '167', '1,230', '482', '9,933'],\n",
       "  ['Labu', '54', '635', '80', '6,212'],\n",
       "  ['Sepang', '81', '496', '148', '1,688']],\n",
       " 'Hulu Selangor': [['(Penjara/Lokap)', '0', '0', '0', '276'],\n",
       "  ['Ampang Pecah', '0', '30', '11', '432'],\n",
       "  ['Batang Kali', '6', '79', '22', '488'],\n",
       "  ['Buluh Telur', '0', '0', '0', '1'],\n",
       "  ['Hulu Bernam', '0', '18', '4', '192'],\n",
       "  ['Hulu Yam', '1', '181', '261', '343'],\n",
       "  ['K. Kalumpang', '0', '0', '0', '0'],\n",
       "  ['Kalumpang', '1', '33', '12', '155'],\n",
       "  ['Kerling', '0', '5', '1', '70'],\n",
       "  ['Pertak', '0', '0', '0', '0'],\n",
       "  ['Rasa', '6', '67', '26', '224'],\n",
       "  ['Serendah', '62', '638', '161', '3,955'],\n",
       "  ['Sungai Gumut', '0', '0', '0', '0'],\n",
       "  ['Sungai Tinggi', '0', '0', '0', '91']],\n",
       " 'Gombak': [['(Penjara/Lokap)', '0', '0', '0', '241'],\n",
       "  ['Batu', '149', '1,488', '248', '12,403'],\n",
       "  ['Hulu Kelang', '61', '483', '103', '3,687'],\n",
       "  ['Kuang', '42', '302', '57', '2,301'],\n",
       "  ['Rawang', '91', '766', '142', '5,361'],\n",
       "  ['Setapak', '73', '504', '128', '2,329']],\n",
       " 'Hulu Langat': [['(Penjara/Lokap)', '14', '0', '82', '2,426'],\n",
       "  ['Ampang', '290', '1,975', '645', '12,218'],\n",
       "  ['Beranang', '28', '212', '75', '1,023'],\n",
       "  ['Cheras', '193', '1,633', '464', '11,925'],\n",
       "  ['H. Semenyih', '0', '0', '0', '0'],\n",
       "  ['Hulu Langat', '25', '269', '77', '2,495'],\n",
       "  ['Kajang', '327', '1,922', '855', '18,932'],\n",
       "  ['Semenyih', '158', '716', '265', '5,095']]}"
      ]
     },
     "metadata": {},
     "execution_count": 53
    }
   ],
   "source": [
    "result"
   ]
  },
  {
   "cell_type": "code",
   "execution_count": 55,
   "metadata": {},
   "outputs": [],
   "source": [
    "# "
   ]
  },
  {
   "cell_type": "code",
   "execution_count": 56,
   "metadata": {},
   "outputs": [
    {
     "output_type": "execute_result",
     "data": {
      "text/plain": [
       "Empty DataFrame\n",
       "Columns: [Area/City, New, 14 Days, Active, Total]\n",
       "Index: []"
      ],
      "text/html": "<div>\n<style scoped>\n    .dataframe tbody tr th:only-of-type {\n        vertical-align: middle;\n    }\n\n    .dataframe tbody tr th {\n        vertical-align: top;\n    }\n\n    .dataframe thead th {\n        text-align: right;\n    }\n</style>\n<table border=\"1\" class=\"dataframe\">\n  <thead>\n    <tr style=\"text-align: right;\">\n      <th></th>\n      <th>Area/City</th>\n      <th>New</th>\n      <th>14 Days</th>\n      <th>Active</th>\n      <th>Total</th>\n    </tr>\n  </thead>\n  <tbody>\n  </tbody>\n</table>\n</div>"
     },
     "metadata": {},
     "execution_count": 56
    }
   ],
   "source": [
    "df"
   ]
  },
  {
   "cell_type": "code",
   "execution_count": 59,
   "metadata": {},
   "outputs": [
    {
     "output_type": "execute_result",
     "data": {
      "text/plain": [
       "{1: 2, 2: 4, 3: 6}"
      ]
     },
     "metadata": {},
     "execution_count": 59
    }
   ],
   "source": [
    "{key: value for (key, value) in ((1, 2), (2, 4), (3, 6))}"
   ]
  },
  {
   "source": [
    "Since we have established that this method successfully fetches data for each state, we can\n",
    "now repeat the same process for every state."
   ],
   "cell_type": "markdown",
   "metadata": {}
  },
  {
   "cell_type": "code",
   "execution_count": 66,
   "metadata": {},
   "outputs": [],
   "source": [
    "# make dict for state soups\n",
    "state_soups = {stateList[i]: bs(str(tableList[i])) for i in range(len(stateList))}\n",
    "data = {state_id: fetch_state_data(state_id) for state_id in stateList}"
   ]
  },
  {
   "cell_type": "code",
   "execution_count": 68,
   "metadata": {},
   "outputs": [
    {
     "output_type": "execute_result",
     "data": {
      "text/plain": [
       "{'misc': [],\n",
       " 'Parlimen': [['Bandar Tun Razak', '111', '1,046', '-', '-'],\n",
       "  ['Batu', '88', '1,376', '-', '-'],\n",
       "  ['Bukit Bintang', '34', '478', '-', '-'],\n",
       "  ['Cheras', '45', '396', '-', '-'],\n",
       "  ['Kepong', '42', '518', '-', '-'],\n",
       "  ['Lembah Pantai', '31', '1,131', '-', '-'],\n",
       "  ['Segambut', '109', '1,305', '-', '-'],\n",
       "  ['Seputeh', '21', '365', '-', '-'],\n",
       "  ['Setiawangsa', '52', '974', '-', '-'],\n",
       "  ['Titiwangsa', '40', '621', '-', '-'],\n",
       "  ['Wangsa Maju', '43', '851', '-', '-']],\n",
       " 'Kepong': [['Batu', '36', '755', '-', '-'],\n",
       "  ['Damansara (Bandar)', '3', '14', '-', '-'],\n",
       "  ['Duta', '18', '198', '-', '-'],\n",
       "  ['Kepong', '42', '518', '-', '-'],\n",
       "  ['Manjalara', '17', '517', '-', '-'],\n",
       "  ['Mont Kiara', '71', '577', '-', '-'],\n",
       "  ['Sentul', '52', '620', '-', '-']],\n",
       " 'Lembah Pantai': [['Bangsar', '10', '138', '-', '-'],\n",
       "  ['Brickfields', '6', '103', '-', '-'],\n",
       "  ['Bukit Jalil', '21', '255', '-', '-'],\n",
       "  ['Capital City/Ibu Kota', '16', '288', '-', '-'],\n",
       "  ['Lembah Pantai', '21', '993', '-', '-'],\n",
       "  ['Salak', '12', '87', '-', '-'],\n",
       "  ['Seputeh', '9', '171', '-', '-'],\n",
       "  ['Sri Petaling', '6', '51', '-', '-'],\n",
       "  ['Taman Desa', '4', '92', '-', '-']],\n",
       " 'Titiwangsa': [['Datuk Keramat', '8', '105', '-', '-'],\n",
       "  ['Kampung Baru', '13', '127', '-', '-'],\n",
       "  ['Pandan', '19', '389', '-', '-'],\n",
       "  ['Semarak', '46', '824', '-', '-'],\n",
       "  ['Setapak', '17', '497', '-', '-'],\n",
       "  ['Setiawangsa', '6', '150', '-', '-'],\n",
       "  ['Wangsa Maju', '26', '354', '-', '-']],\n",
       " 'Cheras': [['Alam Damai', '11', '55', '-', '-'],\n",
       "  ['Bandar Tun Razak', '25', '359', '-', '-'],\n",
       "  ['Cheras', '18', '143', '-', '-'],\n",
       "  ['Connaught', '19', '83', '-', '-'],\n",
       "  ['Pudu', '8', '170', '-', '-'],\n",
       "  ['Sungai Besi', '56', '428', '-', '-']]}"
      ]
     },
     "metadata": {},
     "execution_count": 68
    }
   ],
   "source": [
    "data['kualalumpur']"
   ]
  },
  {
   "source": [
    "### We have now successfully parsed the data. The next step is to store the relevant data into our MySQL database."
   ],
   "cell_type": "markdown",
   "metadata": {}
  },
  {
   "cell_type": "code",
   "execution_count": 75,
   "metadata": {},
   "outputs": [],
   "source": [
    "import mysql.connector as msc\n",
    "import json"
   ]
  },
  {
   "cell_type": "code",
   "execution_count": 76,
   "metadata": {},
   "outputs": [],
   "source": [
    "# get database configurations\n",
    "db_config = json.load(open('config.json'))['database']\n",
    "\n",
    "# make connection to the GCloud database\n",
    "connection = msc.connect(\n",
    "    host=db_config['host'], \n",
    "    port=db_config['port'],\n",
    "    user=db_config['user'],\n",
    "    password=db_config['password'],\n",
    "    database=db_config['database']\n",
    ")\n",
    "\n",
    "cursor = connection.cursor()"
   ]
  },
  {
   "source": [
    "Data we need to add:\n",
    "- table __districts__ with district names and the state name they belong to\n",
    "- table __areas__ with area names and the district name they belong to\n",
    "- table __malaysia_area_covid_cases__ with the date, area id, number of new cases, number of cases in last 14 days, number of active cases and total number of cases"
   ],
   "cell_type": "markdown",
   "metadata": {}
  },
  {
   "cell_type": "code",
   "execution_count": 82,
   "metadata": {},
   "outputs": [
    {
     "output_type": "stream",
     "name": "stdout",
     "text": [
      "selangor [('misc', 'selangor'), ('Sabak Bernam', 'selangor'), ('Kuala Selangor', 'selangor'), ('Klang', 'selangor'), ('Kuala Langat', 'selangor'), ('Petaling', 'selangor'), ('Sepang', 'selangor'), ('Hulu Selangor', 'selangor'), ('Gombak', 'selangor'), ('Hulu Langat', 'selangor')]\n",
      "kualalumpur [('misc', 'kualalumpur'), ('Parlimen', 'kualalumpur'), ('Kepong', 'kualalumpur'), ('Lembah Pantai', 'kualalumpur'), ('Titiwangsa', 'kualalumpur'), ('Cheras', 'kualalumpur')]\n",
      "putrajaya [('misc', 'putrajaya')]\n",
      "ppinang [('misc', 'ppinang'), ('Timur Laut', 'ppinang'), ('Barat Daya', 'ppinang'), ('Seberang Perai Selatan', 'ppinang'), ('Seberang Perai Utara', 'ppinang'), ('Seberang Perai Tengah', 'ppinang')]\n",
      "johor [('misc', 'johor'), ('Segamat', 'johor'), ('Tangkak', 'johor'), ('Muar', 'johor'), ('Kluang', 'johor'), ('Batu Pahat', 'johor'), ('Mersing', 'johor'), ('Pontian', 'johor'), ('Kulai', 'johor'), ('Kota Tinggi', 'johor'), ('Johor Bahru', 'johor')]\n",
      "nsembilan [('misc', 'nsembilan'), ('Jelebu', 'nsembilan'), ('Seremban', 'nsembilan'), ('Rembau', 'nsembilan'), ('Jempol', 'nsembilan'), ('Tampin', 'nsembilan'), ('Kuala Pilah', 'nsembilan'), ('Port Dickson', 'nsembilan')]\n",
      "pahang [('misc', 'pahang'), ('Daerah', 'pahang'), ('Bentong', 'pahang'), ('Cameron Highlands', 'pahang'), ('Jerantut', 'pahang'), ('Kuantan', 'pahang'), ('Lipis', 'pahang'), ('Pekan', 'pahang'), ('Raub', 'pahang'), ('Temerloh', 'pahang'), ('Rompin', 'pahang'), ('Maran', 'pahang'), ('Bera', 'pahang')]\n",
      "kelantan [('misc', 'kelantan'), ('Pasir Mas', 'kelantan'), ('Tanah Merah', 'kelantan'), ('Jeli', 'kelantan'), ('Machang', 'kelantan'), ('Tumpat', 'kelantan'), ('Kuala Krai', 'kelantan'), ('Gua Musang', 'kelantan'), ('Kota Bharu', 'kelantan'), ('Bachok', 'kelantan'), ('Pasir Puteh', 'kelantan')]\n",
      "kedah [('misc', 'kedah'), ('Kota Setar', 'kedah'), ('Pokok Sena', 'kedah'), ('Yan', 'kedah'), ('Pendang', 'kedah'), ('Kuala Muda', 'kedah'), ('Bandar Baharu', 'kedah'), ('Langkawi', 'kedah'), ('Kulim', 'kedah'), ('Baling', 'kedah'), ('Sik', 'kedah'), ('Kubang Pasu', 'kedah'), ('Padang Terap', 'kedah')]\n",
      "perak [('misc', 'perak'), ('Larut Matang Selama', 'perak'), ('Kerian', 'perak'), ('Manjung', 'perak'), ('Perak Tengah', 'perak'), ('Hilir Perak', 'perak'), ('Bagan Datuk', 'perak'), ('Hulu Perak', 'perak'), ('Kuala Kangsar', 'perak'), ('Kinta', 'perak'), ('Kampar', 'perak'), ('Batang Padang', 'perak'), ('Muallim', 'perak')]\n",
      "melaka [('misc', 'melaka'), ('Alor Gajah', 'melaka'), ('Melaka Tengah', 'melaka'), ('Jasin', 'melaka')]\n",
      "terengganu [('misc', 'terengganu'), ('Besut', 'terengganu'), ('Hulu Terengganu', 'terengganu'), ('Dungun', 'terengganu'), ('Kemaman', 'terengganu'), ('Setiu', 'terengganu'), ('Kuala Nerus', 'terengganu'), ('Kuala Terengganu', 'terengganu'), ('Marang', 'terengganu')]\n",
      "perlis [('misc', 'perlis')]\n",
      "sabah [('misc', 'sabah')]\n",
      "labuan [('misc', 'labuan')]\n",
      "sarawak [('misc', 'sarawak'), ('Betong', 'sarawak'), ('Serian', 'sarawak'), ('Sarikei', 'sarawak'), ('Kuching', 'sarawak'), ('Miri', 'sarawak'), ('Kapit', 'sarawak'), ('Bintulu', 'sarawak'), ('Samarahan', 'sarawak'), ('Mukah', 'sarawak'), ('Sri Aman', 'sarawak'), ('Sibu', 'sarawak'), ('Limbang', 'sarawak')]\n"
     ]
    }
   ],
   "source": [
    "# add data to table 'districts' first\n",
    "for state in data:\n",
    "    print(state, [(district, state) for district in data[state]])\n",
    "    sql = \"INSERT INTO districts (district_name, state_name) VALUES (%s, %s)\"\n",
    "    cursor.executemany(sql, [(district, state) for district in data[state]])\n",
    "\n",
    "connection.commit()"
   ]
  },
  {
   "cell_type": "code",
   "execution_count": 90,
   "metadata": {},
   "outputs": [
    {
     "output_type": "execute_result",
     "data": {
      "text/plain": [
       "[[0, 4, 5, 6], [1, 4, 5, 6], [2, 4, 5, 6]]"
      ]
     },
     "metadata": {},
     "execution_count": 90
    }
   ],
   "source": [
    "[[n, *[4, 5, 6]] for n in range(3)]"
   ]
  },
  {
   "cell_type": "code",
   "execution_count": 101,
   "metadata": {},
   "outputs": [],
   "source": [
    "# next, add data into table 'areas'\n",
    "area_list = [i for j in [[[area, *[data[state][area]]] for area in data[state]] for state in data] for i in j]"
   ]
  },
  {
   "cell_type": "code",
   "execution_count": 107,
   "metadata": {
    "tags": []
   },
   "outputs": [],
   "source": [
    "for state in data:\n",
    "    for district in data[state]:\n",
    "        sql = \"INSERT INTO areas (area_name, district_name) VALUES (%s, %s)\"\n",
    "        cursor.executemany(sql, [(val[0], district) for val in data[state][district]])\n",
    "\n",
    "connection.commit()"
   ]
  },
  {
   "cell_type": "code",
   "execution_count": 129,
   "metadata": {},
   "outputs": [
    {
     "output_type": "execute_result",
     "data": {
      "text/plain": [
       "'04/07/2021'"
      ]
     },
     "metadata": {},
     "execution_count": 129
    }
   ],
   "source": [
    "datetime.date.today().strftime(\"%d/%m/%Y\")"
   ]
  },
  {
   "cell_type": "code",
   "execution_count": null,
   "metadata": {},
   "outputs": [],
   "source": []
  },
  {
   "cell_type": "code",
   "execution_count": 142,
   "metadata": {},
   "outputs": [],
   "source": [
    "# finally, add data into table 'malaysia_area_covid_cases'\n",
    "for state in data:\n",
    "    for district in data[state]:\n",
    "        sql = \"INSERT INTO malaysia_area_covid_cases (date, district_name, area_name, new_cases, fourteen_days_cases, active_cases, total_cases) VALUES (STR_TO_DATE(%s, '%d/%m/%Y'), %s, %s, %s, %s, %s, %s)\"\n",
    "        cursor.executemany(\n",
    "            sql,\n",
    "            [tuple([datetime.date.today().strftime(\"%d/%m/%Y\"), district, *[(None if i.replace(',', '')=='-' else i.replace(',', '')) for i in val]]) for val in data[state][district]]\n",
    "        )\n",
    "\n",
    "connection.commit()"
   ]
  },
  {
   "cell_type": "code",
   "execution_count": null,
   "metadata": {},
   "outputs": [],
   "source": []
  }
 ]
}