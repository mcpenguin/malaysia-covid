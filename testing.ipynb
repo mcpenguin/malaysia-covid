{
 "metadata": {
  "language_info": {
   "codemirror_mode": {
    "name": "ipython",
    "version": 3
   },
   "file_extension": ".py",
   "mimetype": "text/x-python",
   "name": "python",
   "nbconvert_exporter": "python",
   "pygments_lexer": "ipython3",
   "version": "3.9.5"
  },
  "orig_nbformat": 4,
  "kernelspec": {
   "name": "python3",
   "display_name": "Python 3.9.5 64-bit ('PythonSoftwareFoundation.Python.3.9_qbz5n2kfra8p0')"
  },
  "interpreter": {
   "hash": "343b6ac7eff0d382f058e14c2ddeb6cb57577d740f11beca8e43569b1defe6e1"
  }
 },
 "nbformat": 4,
 "nbformat_minor": 2,
 "cells": [
  {
   "source": [
    "## Testing notebook playground for extracting data"
   ],
   "cell_type": "markdown",
   "metadata": {}
  },
  {
   "cell_type": "code",
   "execution_count": 199,
   "metadata": {},
   "outputs": [],
   "source": [
    "import pandas as pd\n",
    "import mysql.connector as msc\n",
    "import json\n",
    "import tweepy\n",
    "import csv\n",
    "import re\n",
    "import string\n",
    "import requests\n",
    "import pprint\n",
    "import datetime\n",
    "from bs4 import BeautifulSoup"
   ]
  },
  {
   "cell_type": "code",
   "execution_count": 3,
   "metadata": {},
   "outputs": [],
   "source": [
    "# read config file into JSON object\n",
    "configFile = open('config.json')\n",
    "config = json.load(configFile)\n",
    "\n",
    "# make connection to the GCloud database\n",
    "db_config = config['database']\n",
    "connection = msc.connect(\n",
    "    host=db_config['host'], \n",
    "    port=db_config['port'],\n",
    "    user=db_config['user'],\n",
    "    password=db_config['password'],\n",
    "    database=db_config['database']\n",
    ")\n",
    "\n",
    "# authorize Twitter app with Tweepy OAuthHandler\n",
    "twit_config = config['twitter']\n",
    "auth = tweepy.OAuthHandler(twit_config['api_key'], twit_config['api_key_secret'])\n",
    "auth.set_access_token(twit_config['access_token'], twit_config['access_token_secret'])\n",
    "twitapi = tweepy.API(auth, wait_on_rate_limit=True)"
   ]
  },
  {
   "cell_type": "code",
   "execution_count": 4,
   "metadata": {},
   "outputs": [
    {
     "output_type": "stream",
     "name": "stdout",
     "text": [
      "15\n"
     ]
    }
   ],
   "source": [
    "# extract Tweets from Malaysian MOH about Malaysian COVID-19 case data\n",
    "# write to pandas database\n",
    "tweet_collection = twitapi.search(\"KKMPutrajaya\")"
   ]
  },
  {
   "cell_type": "code",
   "execution_count": 82,
   "metadata": {},
   "outputs": [],
   "source": [
    "# Get user id of @KKMPutrajaya\n",
    "url = \"https://api.twitter.com\"\n",
    "headers = {\"Authorization\": \"Bearer {}\".format(twit_config['bearer_token'])}\n",
    "response = requests.request(\"GET\", url + \"/2/users/by/username/KKMPutrajaya\", headers=headers)\n",
    "user_id = response.json()['data']['id']"
   ]
  },
  {
   "cell_type": "code",
   "execution_count": 44,
   "metadata": {},
   "outputs": [],
   "source": [
    "# initialize pandas data set\n",
    "tweets = []\n",
    "next_tokens = []"
   ]
  },
  {
   "cell_type": "code",
   "execution_count": 81,
   "metadata": {},
   "outputs": [],
   "source": [
    "# get posts from Malaysian MOH (@KKMPutrajaya)\n",
    "search_url = (url + \"/2/users/{}/tweets\".format(user_id))\n",
    "response = requests.request(\"GET\", search_url, headers=headers)\n",
    "data = response.json()['data']"
   ]
  },
  {
   "cell_type": "code",
   "execution_count": 47,
   "metadata": {},
   "outputs": [],
   "source": [
    "# fetch tweet data\n",
    "# this fetches thousands of MOH's tweets, which are factored into the quota for my \n",
    "# Twitter account, so beware!\n",
    "def fetch_data():\n",
    "    # get posts from Malaysian MOH (@KKMPutrajaya)\n",
    "    search_url = (url + \"/2/users/{}/tweets\".format(user_id))\n",
    "    response = requests.request(\"GET\", search_url, headers=headers)\n",
    "    data = response.json()['data']\n",
    "\n",
    "    # cycle and add to data\n",
    "    for tweet in data:\n",
    "        if \"Status Terkini #COVID19\" in tweet['text']:\n",
    "            tweets.append(tweet)\n",
    "    # get next pagination token\n",
    "    next_token = response.json()['meta'].get('next_token')\n",
    "    next_tokens.append(next_token)\n",
    "    # while next token is not None (ie there is still a next page)\n",
    "    while next_token is not None:\n",
    "        # get next page\n",
    "        search_url = (url + \"/2/users/{}/tweets?pagination_token={}\".format(user_id, next_token))\n",
    "        response = requests.request(\"GET\", search_url, headers=headers)\n",
    "        data = response.json()['data']\n",
    "        next_token = response.json()['meta'].get('next_token')\n",
    "        # cycle through the next page\n",
    "        for tweet in data:\n",
    "            if \"Status Terkini #COVID19\" in tweet['text']:\n",
    "                tweets.append(tweet)\n",
    "                next_tokens.append(next_token)"
   ]
  },
  {
   "cell_type": "code",
   "execution_count": 80,
   "metadata": {},
   "outputs": [],
   "source": [
    "tweetsdf = pd.DataFrame(tweets)"
   ]
  },
  {
   "cell_type": "code",
   "execution_count": 83,
   "metadata": {},
   "outputs": [],
   "source": [
    "next_tokensdf = pd.DataFrame(next_tokens)"
   ]
  },
  {
   "cell_type": "code",
   "execution_count": 79,
   "metadata": {},
   "outputs": [],
   "source": [
    "search_url = (url + \"/2/users/{}/tweets?end_time={}\".format(user_id, \"2021-03-11T12:00:00Z\"))\n",
    "response = requests.request(\"GET\", search_url, headers=headers)"
   ]
  },
  {
   "cell_type": "code",
   "execution_count": 77,
   "metadata": {},
   "outputs": [
    {
     "output_type": "stream",
     "name": "stdout",
     "text": [
      "None\n"
     ]
    }
   ],
   "source": [
    "# function to cycle through pages automatically\n",
    "print(next_token)\n",
    "def goForward():\n",
    "    global next_token\n",
    "    if next_token is None:\n",
    "        raise Exception(\"no next page\")\n",
    "    else:\n",
    "        search_url = (url + \"/2/users/{}/tweets?end_time={}&pagination_token={}\".format(user_id, \"2021-03-11T12:00:00Z\", next_token))\n",
    "        response = requests.request(\"GET\", search_url, headers=headers)\n",
    "        next_token = response.json()['meta'].get('next_token')\n",
    "        print(response.json()['data'])"
   ]
  },
  {
   "cell_type": "code",
   "execution_count": 98,
   "metadata": {},
   "outputs": [],
   "source": [
    "example_tweet = tweetsdf.iloc[0, :]['text']"
   ]
  },
  {
   "cell_type": "code",
   "execution_count": 110,
   "metadata": {},
   "outputs": [],
   "source": [
    "# parser for tweet content\n",
    "def parseTweetContent(tweet):\n",
    "    # get tweet content without \\n and \n",
    "    # explode it via spaces\n",
    "    exploded_tweet = re.split('\\n| ', tweet)\n",
    "    \n",
    "    # get date as \"DD MMM YYYY\", where the month is in Malay\n",
    "    date = \"{} {} {}\".format(exploded_tweet[3], exploded_tweet[4], exploded_tweet[5])\n",
    "\n",
    "    "
   ]
  },
  {
   "cell_type": "code",
   "execution_count": 108,
   "metadata": {},
   "outputs": [
    {
     "output_type": "execute_result",
     "data": {
      "text/plain": [
       "['Status',\n",
       " 'Terkini',\n",
       " '#COVID19,',\n",
       " '21',\n",
       " 'Jun',\n",
       " '2021',\n",
       " '',\n",
       " 'Kes',\n",
       " 'sembuh=',\n",
       " '5,439',\n",
       " 'Jumlah',\n",
       " 'kes',\n",
       " 'sembuh=',\n",
       " '633,624',\n",
       " 'Kes',\n",
       " 'baharu',\n",
       " 'positif=',\n",
       " '4,611',\n",
       " '(8',\n",
       " 'import)',\n",
       " '',\n",
       " 'Jumlah',\n",
       " 'positif=',\n",
       " '701,019',\n",
       " 'Kes',\n",
       " 'kematian=',\n",
       " '69',\n",
       " 'Jumlah',\n",
       " 'kes',\n",
       " 'kematian=',\n",
       " '4,477',\n",
       " 'Kes',\n",
       " 'dirawat',\n",
       " 'di',\n",
       " 'ICU=',\n",
       " '880',\n",
       " 'Bantuan',\n",
       " 'alat',\n",
       " 'pernafasan=',\n",
       " '452',\n",
       " 'https://t.co/zUQch1MbEs']"
      ]
     },
     "metadata": {},
     "execution_count": 108
    }
   ],
   "source": [
    "# example tweet content\n",
    "parseTweetContent(example_tweet)"
   ]
  },
  {
   "source": [
    "### Testing out web scraper for kpkesihatan.com instead to fetch data"
   ],
   "cell_type": "markdown",
   "metadata": {}
  },
  {
   "cell_type": "code",
   "execution_count": 200,
   "metadata": {},
   "outputs": [],
   "source": [
    "# function to convert python date to DD-MMM-YYYY, where \"MMM\" is the month in malay\n",
    "month_dict = [\n",
    "    'januari',\n",
    "    'februari',\n",
    "    'mac',\n",
    "    'april',\n",
    "    'mei',\n",
    "    'jun',\n",
    "    'julai',\n",
    "    'ogos',\n",
    "    'september',\n",
    "    'oktober',\n",
    "    'november',\n",
    "    'disember'\n",
    "]\n",
    "def convertDate(date):\n",
    "    return date.strftime(\"%d-{}-%Y\".format(month_dict[int(date.strftime(\"%m\"))-1]))"
   ]
  },
  {
   "cell_type": "code",
   "execution_count": 204,
   "metadata": {},
   "outputs": [
    {
     "output_type": "execute_result",
     "data": {
      "text/plain": [
       "['21-januari-2021',\n",
       " '21-februari-2021',\n",
       " '21-mac-2021',\n",
       " '21-april-2021',\n",
       " '21-mei-2021',\n",
       " '21-jun-2021',\n",
       " '21-julai-2021',\n",
       " '21-ogos-2021',\n",
       " '21-september-2021',\n",
       " '21-oktober-2021',\n",
       " '21-november-2021',\n",
       " '21-disember-2021']"
      ]
     },
     "metadata": {},
     "execution_count": 204
    }
   ],
   "source": [
    "[convertDate(datetime.datetime(2021, i, 21)) for i in range(1, 13)]"
   ]
  },
  {
   "cell_type": "code",
   "execution_count": 207,
   "metadata": {},
   "outputs": [],
   "source": [
    "# can do formatting on this later\n",
    "def makeURL(date):\n",
    "    return \"https://kpkesihatan.com/{}/kenyataan-akhbar-kpk-{}-situasi-semasa-jangkitan-penyakit-coronavirus-2019-covid-19-di-malaysia/\".format(\n",
    "        date.strftime(\"%d/%m/%Y\"), \n",
    "        convertDate(date)\n",
    "    )"
   ]
  },
  {
   "cell_type": "code",
   "execution_count": 208,
   "metadata": {},
   "outputs": [
    {
     "output_type": "execute_result",
     "data": {
      "text/plain": [
       "'https://kpkesihatan.com/21/06/2021/kenyataan-akhbar-kpk-21-jun-2021-situasi-semasa-jangkitan-penyakit-coronavirus-2019-covid-19-di-malaysia/'"
      ]
     },
     "metadata": {},
     "execution_count": 208
    }
   ],
   "source": [
    "makeURL(datetime.datetime(2021, 6, 21))"
   ]
  },
  {
   "cell_type": "code",
   "execution_count": 119,
   "metadata": {},
   "outputs": [],
   "source": [
    "# get content of website\n",
    "response = requests.get(myurl)\n",
    "# initialize printer\n",
    "pp = pprint.PrettyPrinter(indent=4)"
   ]
  },
  {
   "cell_type": "code",
   "execution_count": 146,
   "metadata": {
    "tags": []
   },
   "outputs": [
    {
     "output_type": "execute_result",
     "data": {
      "text/plain": [
       "<ul><li>Kes sembuh : <strong>5,941 kes </strong>(628,185 kes kumulatif, 90.2%);</li><li>Kes baharu :<strong> 5,293 kes</strong> (696,408 kes kumulatif);</li><li>Kes import : <strong>7 kes </strong>(3 warganegara, 4 bukan warganegara);</li><li>Kes tempatan : <strong>5,286 kes </strong>[3,894 warganegara (73.7%); 1,392 bukan warganegara (26.3%)];</li><li>Kes aktif :<strong> 63,815 kes</strong>;</li><li>Kes yang memerlukan rawatan di Unit Rawatan Rapi (ICU) : <strong>880 kes</strong>;</li><li>Kes memerlukan bantuan pernafasan : <strong>454 kes</strong>;</li><li>Kes kematian :<strong> 60 kes </strong>(4,408 kes kumulatif, 0.63%; 56 warganegara, 4 bukan warganegara);</li><li>Jumlah kluster : <strong>2,623 kluster</strong>;</li><li>Jumlah kluster baharu :<strong> 19 kluster</strong>;</li><li>Jumlah kluster yang telah tamat :<strong>1,789 kluster</strong>; dan</li><li>Jumlah kluster aktif : <strong>834 kluster</strong>.</li></ul>"
      ]
     },
     "metadata": {},
     "execution_count": 146
    }
   ],
   "source": [
    "# create soup object\n",
    "soup = BeautifulSoup(response.content, 'html.parser')\n",
    "# get all bulleted lists\n",
    "result = soup.find_all('ul')\n",
    "# the case data will be the second element\n",
    "result[1]"
   ]
  },
  {
   "cell_type": "code",
   "execution_count": 173,
   "metadata": {
    "tags": []
   },
   "outputs": [],
   "source": [
    "# Create soup specifically for the response content\n",
    "soup_cases = BeautifulSoup(str(result[1]), 'html.parser')\n",
    "# Create variable to (Malay) text mapping\n",
    "vtt_map = {\n",
    "    'cured_cases': 'Kes sembuh',\n",
    "    'new_cases': 'Kes baharu',\n",
    "    'import_cases': 'Kes import',\n",
    "    'local_cases': 'Kes tempatan',\n",
    "    'active_cases': 'Kes aktif',\n",
    "    'resp_asst_cases': 'Kes yang memerlukan rawatan',\n",
    "    'death_cases': 'Kes kematian',\n",
    "    'number_of_clusters': 'Jumlah kluster',\n",
    "    'number_of_new_clusters': 'Jumlah kluster baharu',\n",
    "    'number_of_expired_clusters': 'Jumlah kluster yang telah tamat',\n",
    "    'number_of_active_clusters': 'Jumlah kluster aktif'\n",
    "}"
   ]
  },
  {
   "cell_type": "code",
   "execution_count": 192,
   "metadata": {},
   "outputs": [],
   "source": [
    "# Fetch data into dict object\n",
    "day_data = {}\n",
    "for var in vtt_map:\n",
    "    # Get the string containing the key words\n",
    "    keyword_string = str(soup_cases.find(lambda tag: tag.name == \"li\" and vtt_map[var] in tag.text))\n",
    "    # Get the soup for the specific string\n",
    "    soup_var = BeautifulSoup(keyword_string, 'html.parser')\n",
    "    # use the custom soup to extract the case data, which is stored into the day_data object\n",
    "    content = soup_var.find(lambda tag: tag.name == \"strong\").contents[0]\n",
    "    # parse the content to only extract the integer value for the corresponding variable\n",
    "    for s in [\"\\xa0\", \"kes\", \"kluster\", \" \", \",\"]:\n",
    "        content = content.replace(s, \"\")\n",
    "    # convert value to int\n",
    "    day_data[var] = int(content)"
   ]
  },
  {
   "cell_type": "code",
   "execution_count": 193,
   "metadata": {},
   "outputs": [
    {
     "output_type": "execute_result",
     "data": {
      "text/plain": [
       "{'cured_cases': 5941,\n",
       " 'new_cases': 5293,\n",
       " 'import_cases': 7,\n",
       " 'local_cases': 5286,\n",
       " 'active_cases': 63815,\n",
       " 'resp_asst_cases': 880,\n",
       " 'death_cases': 60,\n",
       " 'number_of_clusters': 2623,\n",
       " 'number_of_new_clusters': 19,\n",
       " 'number_of_expired_clusters': 1789,\n",
       " 'number_of_active_clusters': 834}"
      ]
     },
     "metadata": {},
     "execution_count": 193
    }
   ],
   "source": [
    "day_data"
   ]
  },
  {
   "cell_type": "code",
   "execution_count": null,
   "metadata": {},
   "outputs": [],
   "source": []
  }
 ]
}