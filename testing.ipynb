{
 "metadata": {
  "language_info": {
   "codemirror_mode": {
    "name": "ipython",
    "version": 3
   },
   "file_extension": ".py",
   "mimetype": "text/x-python",
   "name": "python",
   "nbconvert_exporter": "python",
   "pygments_lexer": "ipython3",
   "version": "3.9.5"
  },
  "orig_nbformat": 4,
  "kernelspec": {
   "name": "python3",
   "display_name": "Python 3.9.5 64-bit ('PythonSoftwareFoundation.Python.3.9_qbz5n2kfra8p0')"
  },
  "interpreter": {
   "hash": "343b6ac7eff0d382f058e14c2ddeb6cb57577d740f11beca8e43569b1defe6e1"
  }
 },
 "nbformat": 4,
 "nbformat_minor": 2,
 "cells": [
  {
   "source": [
    "## Testing notebook playground for extracting data"
   ],
   "cell_type": "markdown",
   "metadata": {}
  },
  {
   "cell_type": "code",
   "execution_count": 2,
   "metadata": {},
   "outputs": [],
   "source": [
    "import pandas as pd\n",
    "import mysql.connector as msc\n",
    "import json\n",
    "import tweepy\n",
    "import csv\n",
    "import re\n",
    "import string\n",
    "import requests"
   ]
  },
  {
   "cell_type": "code",
   "execution_count": 3,
   "metadata": {},
   "outputs": [],
   "source": [
    "# read config file into JSON object\n",
    "configFile = open('config.json')\n",
    "config = json.load(configFile)\n",
    "\n",
    "# make connection to the GCloud database\n",
    "db_config = config['database']\n",
    "connection = msc.connect(\n",
    "    host=db_config['host'], \n",
    "    port=db_config['port'],\n",
    "    user=db_config['user'],\n",
    "    password=db_config['password'],\n",
    "    database=db_config['database']\n",
    ")\n",
    "\n",
    "# authorize Twitter app with Tweepy OAuthHandler\n",
    "twit_config = config['twitter']\n",
    "auth = tweepy.OAuthHandler(twit_config['api_key'], twit_config['api_key_secret'])\n",
    "auth.set_access_token(twit_config['access_token'], twit_config['access_token_secret'])\n",
    "twitapi = tweepy.API(auth, wait_on_rate_limit=True)"
   ]
  },
  {
   "cell_type": "code",
   "execution_count": 4,
   "metadata": {},
   "outputs": [
    {
     "output_type": "stream",
     "name": "stdout",
     "text": [
      "15\n"
     ]
    }
   ],
   "source": [
    "# extract Tweets from Malaysian MOH about Malaysian COVID-19 case data\n",
    "# write to pandas database\n",
    "tweet_collection = twitapi.search(\"KKMPutrajaya\")\n",
    "print(len(tweet_collection))"
   ]
  },
  {
   "cell_type": "code",
   "execution_count": 7,
   "metadata": {},
   "outputs": [
    {
     "output_type": "execute_result",
     "data": {
      "text/plain": [
       "'531041640'"
      ]
     },
     "metadata": {},
     "execution_count": 7
    }
   ],
   "source": [
    "# Get user id of @KKMPutrajaya\n",
    "url = \"https://api.twitter.com\"\n",
    "headers = {\"Authorization\": \"Bearer {}\".format(twit_config['bearer_token'])}\n",
    "response = requests.request(\"GET\", url + \"/2/users/by/username/KKMPutrajaya\", headers=headers)\n",
    "user_id = response.json()['data']['id']\n",
    "user_id"
   ]
  },
  {
   "cell_type": "code",
   "execution_count": 29,
   "metadata": {},
   "outputs": [],
   "source": [
    "# initialize pandas data set\n",
    "tweets = []"
   ]
  },
  {
   "cell_type": "code",
   "execution_count": 30,
   "metadata": {},
   "outputs": [],
   "source": [
    "# get posts from Malaysian MOH (@KKMPutrajaya)\n",
    "search_url = (url + \"/2/users/{}/tweets\".format(user_id))\n",
    "response = requests.request(\"GET\", search_url, headers=headers)\n",
    "data = response.json()['data']"
   ]
  },
  {
   "cell_type": "code",
   "execution_count": 31,
   "metadata": {},
   "outputs": [],
   "source": [
    "# cycle and add to data\n",
    "for tweet in data:\n",
    "    if \"Status Terkini #COVID19\" in tweet['text']:\n",
    "        tweets.append(tweet)"
   ]
  },
  {
   "cell_type": "code",
   "execution_count": 32,
   "metadata": {},
   "outputs": [
    {
     "output_type": "execute_result",
     "data": {
      "text/plain": [
       "[{'id': '1406914442466447363',\n",
       "  'text': 'Status Terkini #COVID19, 21 Jun 2021 \\nKes sembuh= 5,439\\nJumlah kes sembuh= 633,624\\nKes baharu positif= 4,611 (21 import) \\nJumlah positif= 701,019\\nKes kematian= 69\\nJumlah kes kematian= 4,477\\nKes dirawat di ICU= 880\\nBantuan alat pernafasan= 452 https://t.co/SKuAbcwQyK'}]"
      ]
     },
     "metadata": {},
     "execution_count": 32
    }
   ],
   "source": [
    "tweets"
   ]
  },
  {
   "cell_type": "code",
   "execution_count": null,
   "metadata": {},
   "outputs": [],
   "source": []
  }
 ]
}