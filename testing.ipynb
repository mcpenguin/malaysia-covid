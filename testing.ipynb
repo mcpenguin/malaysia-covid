{
 "metadata": {
  "language_info": {
   "codemirror_mode": {
    "name": "ipython",
    "version": 3
   },
   "file_extension": ".py",
   "mimetype": "text/x-python",
   "name": "python",
   "nbconvert_exporter": "python",
   "pygments_lexer": "ipython3",
   "version": "3.9.5"
  },
  "orig_nbformat": 4,
  "kernelspec": {
   "name": "python3",
   "display_name": "Python 3.9.5 64-bit ('PythonSoftwareFoundation.Python.3.9_qbz5n2kfra8p0')"
  },
  "interpreter": {
   "hash": "343b6ac7eff0d382f058e14c2ddeb6cb57577d740f11beca8e43569b1defe6e1"
  }
 },
 "nbformat": 4,
 "nbformat_minor": 2,
 "cells": [
  {
   "source": [
    "## Testing notebook playground for extracting data"
   ],
   "cell_type": "markdown",
   "metadata": {}
  },
  {
   "cell_type": "code",
   "execution_count": 3,
   "metadata": {},
   "outputs": [],
   "source": [
    "import pandas as pd\n",
    "import mysql.connector as msc\n",
    "import json\n",
    "import tweepy\n",
    "import csv\n",
    "import re\n",
    "import string\n",
    "import requests\n",
    "import pprint\n",
    "import datetime\n",
    "from dateutil.rrule import rrule, DAILY\n",
    "from bs4 import BeautifulSoup"
   ]
  },
  {
   "cell_type": "code",
   "execution_count": 4,
   "metadata": {},
   "outputs": [],
   "source": [
    "# read config file into JSON object\n",
    "configFile = open('config.json')\n",
    "config = json.load(configFile)\n",
    "\n",
    "# make connection to the GCloud database\n",
    "db_config = config['database']\n",
    "connection = msc.connect(\n",
    "    host=db_config['host'], \n",
    "    port=db_config['port'],\n",
    "    user=db_config['user'],\n",
    "    password=db_config['password'],\n",
    "    database=db_config['database']\n",
    ")\n",
    "\n",
    "# authorize Twitter app with Tweepy OAuthHandler\n",
    "twit_config = config['twitter']\n",
    "auth = tweepy.OAuthHandler(twit_config['api_key'], twit_config['api_key_secret'])\n",
    "auth.set_access_token(twit_config['access_token'], twit_config['access_token_secret'])\n",
    "twitapi = tweepy.API(auth, wait_on_rate_limit=True)"
   ]
  },
  {
   "cell_type": "code",
   "execution_count": 5,
   "metadata": {},
   "outputs": [],
   "source": [
    "# extract Tweets from Malaysian MOH about Malaysian COVID-19 case data\n",
    "# write to pandas database\n",
    "tweet_collection = twitapi.search(\"KKMPutrajaya\")"
   ]
  },
  {
   "cell_type": "code",
   "execution_count": 6,
   "metadata": {},
   "outputs": [],
   "source": [
    "# Get user id of @KKMPutrajaya\n",
    "url = \"https://api.twitter.com\"\n",
    "headers = {\"Authorization\": \"Bearer {}\".format(twit_config['bearer_token'])}\n",
    "response = requests.request(\"GET\", url + \"/2/users/by/username/KKMPutrajaya\", headers=headers)\n",
    "user_id = response.json()['data']['id']"
   ]
  },
  {
   "cell_type": "code",
   "execution_count": 7,
   "metadata": {},
   "outputs": [],
   "source": [
    "# initialize pandas data set\n",
    "tweets = []\n",
    "next_tokens = []"
   ]
  },
  {
   "cell_type": "code",
   "execution_count": 8,
   "metadata": {},
   "outputs": [],
   "source": [
    "# get posts from Malaysian MOH (@KKMPutrajaya)\n",
    "search_url = (url + \"/2/users/{}/tweets\".format(user_id))\n",
    "response = requests.request(\"GET\", search_url, headers=headers)\n",
    "data = response.json()['data']"
   ]
  },
  {
   "cell_type": "code",
   "execution_count": 9,
   "metadata": {},
   "outputs": [],
   "source": [
    "# fetch tweet data\n",
    "# this fetches thousands of MOH's tweets, which are factored into the quota for my \n",
    "# Twitter account, so beware!\n",
    "def fetch_data():\n",
    "    # get posts from Malaysian MOH (@KKMPutrajaya)\n",
    "    search_url = (url + \"/2/users/{}/tweets\".format(user_id))\n",
    "    response = requests.request(\"GET\", search_url, headers=headers)\n",
    "    data = response.json()['data']\n",
    "\n",
    "    # cycle and add to data\n",
    "    for tweet in data:\n",
    "        if \"Status Terkini #COVID19\" in tweet['text']:\n",
    "            tweets.append(tweet)\n",
    "    # get next pagination token\n",
    "    next_token = response.json()['meta'].get('next_token')\n",
    "    next_tokens.append(next_token)\n",
    "    # while next token is not None (ie there is still a next page)\n",
    "    while next_token is not None:\n",
    "        # get next page\n",
    "        search_url = (url + \"/2/users/{}/tweets?pagination_token={}\".format(user_id, next_token))\n",
    "        response = requests.request(\"GET\", search_url, headers=headers)\n",
    "        data = response.json()['data']\n",
    "        next_token = response.json()['meta'].get('next_token')\n",
    "        # cycle through the next page\n",
    "        for tweet in data:\n",
    "            if \"Status Terkini #COVID19\" in tweet['text']:\n",
    "                tweets.append(tweet)\n",
    "                next_tokens.append(next_token)"
   ]
  },
  {
   "cell_type": "code",
   "execution_count": 10,
   "metadata": {},
   "outputs": [],
   "source": [
    "tweetsdf = pd.DataFrame(tweets)"
   ]
  },
  {
   "cell_type": "code",
   "execution_count": 11,
   "metadata": {},
   "outputs": [],
   "source": [
    "next_tokensdf = pd.DataFrame(next_tokens)"
   ]
  },
  {
   "cell_type": "code",
   "execution_count": 12,
   "metadata": {},
   "outputs": [],
   "source": [
    "search_url = (url + \"/2/users/{}/tweets?end_time={}\".format(user_id, \"2021-03-11T12:00:00Z\"))\n",
    "response = requests.request(\"GET\", search_url, headers=headers)"
   ]
  },
  {
   "cell_type": "code",
   "execution_count": 14,
   "metadata": {},
   "outputs": [
    {
     "output_type": "error",
     "ename": "NameError",
     "evalue": "name 'next_token' is not defined",
     "traceback": [
      "\u001b[1;31m---------------------------------------------------------------------------\u001b[0m",
      "\u001b[1;31mNameError\u001b[0m                                 Traceback (most recent call last)",
      "\u001b[1;32m<ipython-input-14-924d7e0bcd08>\u001b[0m in \u001b[0;36m<module>\u001b[1;34m\u001b[0m\n\u001b[0;32m      1\u001b[0m \u001b[1;31m# function to cycle through pages automatically\u001b[0m\u001b[1;33m\u001b[0m\u001b[1;33m\u001b[0m\u001b[1;33m\u001b[0m\u001b[0m\n\u001b[1;32m----> 2\u001b[1;33m \u001b[0mprint\u001b[0m\u001b[1;33m(\u001b[0m\u001b[0mnext_token\u001b[0m\u001b[1;33m)\u001b[0m\u001b[1;33m\u001b[0m\u001b[1;33m\u001b[0m\u001b[0m\n\u001b[0m\u001b[0;32m      3\u001b[0m \u001b[1;32mdef\u001b[0m \u001b[0mgoForward\u001b[0m\u001b[1;33m(\u001b[0m\u001b[1;33m)\u001b[0m\u001b[1;33m:\u001b[0m\u001b[1;33m\u001b[0m\u001b[1;33m\u001b[0m\u001b[0m\n\u001b[0;32m      4\u001b[0m     \u001b[1;32mglobal\u001b[0m \u001b[0mnext_token\u001b[0m\u001b[1;33m\u001b[0m\u001b[1;33m\u001b[0m\u001b[0m\n\u001b[0;32m      5\u001b[0m     \u001b[1;32mif\u001b[0m \u001b[0mnext_token\u001b[0m \u001b[1;32mis\u001b[0m \u001b[1;32mNone\u001b[0m\u001b[1;33m:\u001b[0m\u001b[1;33m\u001b[0m\u001b[1;33m\u001b[0m\u001b[0m\n",
      "\u001b[1;31mNameError\u001b[0m: name 'next_token' is not defined"
     ]
    }
   ],
   "source": [
    "# function to cycle through pages automatically\n",
    "print(next_token)\n",
    "def goForward():\n",
    "    global next_token\n",
    "    if next_token is None:\n",
    "        raise Exception(\"no next page\")\n",
    "    else:\n",
    "        search_url = (url + \"/2/users/{}/tweets?end_time={}&pagination_token={}\".format(user_id, \"2021-03-11T12:00:00Z\", next_token))\n",
    "        response = requests.request(\"GET\", search_url, headers=headers)\n",
    "        next_token = response.json()['meta'].get('next_token')\n",
    "        print(response.json()['data'])"
   ]
  },
  {
   "cell_type": "code",
   "execution_count": 18,
   "metadata": {},
   "outputs": [
    {
     "output_type": "error",
     "ename": "IndexError",
     "evalue": "single positional indexer is out-of-bounds",
     "traceback": [
      "\u001b[1;31m---------------------------------------------------------------------------\u001b[0m",
      "\u001b[1;31mIndexError\u001b[0m                                Traceback (most recent call last)",
      "\u001b[1;32m<ipython-input-18-2fbce29b0cb9>\u001b[0m in \u001b[0;36m<module>\u001b[1;34m\u001b[0m\n\u001b[1;32m----> 1\u001b[1;33m \u001b[0mexample_tweet\u001b[0m \u001b[1;33m=\u001b[0m \u001b[0mtweetsdf\u001b[0m\u001b[1;33m.\u001b[0m\u001b[0miloc\u001b[0m\u001b[1;33m[\u001b[0m\u001b[1;36m0\u001b[0m\u001b[1;33m,\u001b[0m \u001b[1;33m:\u001b[0m\u001b[1;33m]\u001b[0m\u001b[1;33m[\u001b[0m\u001b[1;34m'text'\u001b[0m\u001b[1;33m]\u001b[0m\u001b[1;33m\u001b[0m\u001b[1;33m\u001b[0m\u001b[0m\n\u001b[0m",
      "\u001b[1;32m~\\AppData\\Local\\Packages\\PythonSoftwareFoundation.Python.3.9_qbz5n2kfra8p0\\LocalCache\\local-packages\\Python39\\site-packages\\pandas\\core\\indexing.py\u001b[0m in \u001b[0;36m__getitem__\u001b[1;34m(self, key)\u001b[0m\n\u001b[0;32m    887\u001b[0m                     \u001b[1;31m# AttributeError for IntervalTree get_value\u001b[0m\u001b[1;33m\u001b[0m\u001b[1;33m\u001b[0m\u001b[1;33m\u001b[0m\u001b[0m\n\u001b[0;32m    888\u001b[0m                     \u001b[1;32mreturn\u001b[0m \u001b[0mself\u001b[0m\u001b[1;33m.\u001b[0m\u001b[0mobj\u001b[0m\u001b[1;33m.\u001b[0m\u001b[0m_get_value\u001b[0m\u001b[1;33m(\u001b[0m\u001b[1;33m*\u001b[0m\u001b[0mkey\u001b[0m\u001b[1;33m,\u001b[0m \u001b[0mtakeable\u001b[0m\u001b[1;33m=\u001b[0m\u001b[0mself\u001b[0m\u001b[1;33m.\u001b[0m\u001b[0m_takeable\u001b[0m\u001b[1;33m)\u001b[0m\u001b[1;33m\u001b[0m\u001b[1;33m\u001b[0m\u001b[0m\n\u001b[1;32m--> 889\u001b[1;33m             \u001b[1;32mreturn\u001b[0m \u001b[0mself\u001b[0m\u001b[1;33m.\u001b[0m\u001b[0m_getitem_tuple\u001b[0m\u001b[1;33m(\u001b[0m\u001b[0mkey\u001b[0m\u001b[1;33m)\u001b[0m\u001b[1;33m\u001b[0m\u001b[1;33m\u001b[0m\u001b[0m\n\u001b[0m\u001b[0;32m    890\u001b[0m         \u001b[1;32melse\u001b[0m\u001b[1;33m:\u001b[0m\u001b[1;33m\u001b[0m\u001b[1;33m\u001b[0m\u001b[0m\n\u001b[0;32m    891\u001b[0m             \u001b[1;31m# we by definition only have the 0th axis\u001b[0m\u001b[1;33m\u001b[0m\u001b[1;33m\u001b[0m\u001b[1;33m\u001b[0m\u001b[0m\n",
      "\u001b[1;32m~\\AppData\\Local\\Packages\\PythonSoftwareFoundation.Python.3.9_qbz5n2kfra8p0\\LocalCache\\local-packages\\Python39\\site-packages\\pandas\\core\\indexing.py\u001b[0m in \u001b[0;36m_getitem_tuple\u001b[1;34m(self, tup)\u001b[0m\n\u001b[0;32m   1448\u001b[0m     \u001b[1;32mdef\u001b[0m \u001b[0m_getitem_tuple\u001b[0m\u001b[1;33m(\u001b[0m\u001b[0mself\u001b[0m\u001b[1;33m,\u001b[0m \u001b[0mtup\u001b[0m\u001b[1;33m:\u001b[0m \u001b[0mTuple\u001b[0m\u001b[1;33m)\u001b[0m\u001b[1;33m:\u001b[0m\u001b[1;33m\u001b[0m\u001b[1;33m\u001b[0m\u001b[0m\n\u001b[0;32m   1449\u001b[0m \u001b[1;33m\u001b[0m\u001b[0m\n\u001b[1;32m-> 1450\u001b[1;33m         \u001b[0mself\u001b[0m\u001b[1;33m.\u001b[0m\u001b[0m_has_valid_tuple\u001b[0m\u001b[1;33m(\u001b[0m\u001b[0mtup\u001b[0m\u001b[1;33m)\u001b[0m\u001b[1;33m\u001b[0m\u001b[1;33m\u001b[0m\u001b[0m\n\u001b[0m\u001b[0;32m   1451\u001b[0m         \u001b[1;32mwith\u001b[0m \u001b[0msuppress\u001b[0m\u001b[1;33m(\u001b[0m\u001b[0mIndexingError\u001b[0m\u001b[1;33m)\u001b[0m\u001b[1;33m:\u001b[0m\u001b[1;33m\u001b[0m\u001b[1;33m\u001b[0m\u001b[0m\n\u001b[0;32m   1452\u001b[0m             \u001b[1;32mreturn\u001b[0m \u001b[0mself\u001b[0m\u001b[1;33m.\u001b[0m\u001b[0m_getitem_lowerdim\u001b[0m\u001b[1;33m(\u001b[0m\u001b[0mtup\u001b[0m\u001b[1;33m)\u001b[0m\u001b[1;33m\u001b[0m\u001b[1;33m\u001b[0m\u001b[0m\n",
      "\u001b[1;32m~\\AppData\\Local\\Packages\\PythonSoftwareFoundation.Python.3.9_qbz5n2kfra8p0\\LocalCache\\local-packages\\Python39\\site-packages\\pandas\\core\\indexing.py\u001b[0m in \u001b[0;36m_has_valid_tuple\u001b[1;34m(self, key)\u001b[0m\n\u001b[0;32m    721\u001b[0m         \u001b[1;32mfor\u001b[0m \u001b[0mi\u001b[0m\u001b[1;33m,\u001b[0m \u001b[0mk\u001b[0m \u001b[1;32min\u001b[0m \u001b[0menumerate\u001b[0m\u001b[1;33m(\u001b[0m\u001b[0mkey\u001b[0m\u001b[1;33m)\u001b[0m\u001b[1;33m:\u001b[0m\u001b[1;33m\u001b[0m\u001b[1;33m\u001b[0m\u001b[0m\n\u001b[0;32m    722\u001b[0m             \u001b[1;32mtry\u001b[0m\u001b[1;33m:\u001b[0m\u001b[1;33m\u001b[0m\u001b[1;33m\u001b[0m\u001b[0m\n\u001b[1;32m--> 723\u001b[1;33m                 \u001b[0mself\u001b[0m\u001b[1;33m.\u001b[0m\u001b[0m_validate_key\u001b[0m\u001b[1;33m(\u001b[0m\u001b[0mk\u001b[0m\u001b[1;33m,\u001b[0m \u001b[0mi\u001b[0m\u001b[1;33m)\u001b[0m\u001b[1;33m\u001b[0m\u001b[1;33m\u001b[0m\u001b[0m\n\u001b[0m\u001b[0;32m    724\u001b[0m             \u001b[1;32mexcept\u001b[0m \u001b[0mValueError\u001b[0m \u001b[1;32mas\u001b[0m \u001b[0merr\u001b[0m\u001b[1;33m:\u001b[0m\u001b[1;33m\u001b[0m\u001b[1;33m\u001b[0m\u001b[0m\n\u001b[0;32m    725\u001b[0m                 raise ValueError(\n",
      "\u001b[1;32m~\\AppData\\Local\\Packages\\PythonSoftwareFoundation.Python.3.9_qbz5n2kfra8p0\\LocalCache\\local-packages\\Python39\\site-packages\\pandas\\core\\indexing.py\u001b[0m in \u001b[0;36m_validate_key\u001b[1;34m(self, key, axis)\u001b[0m\n\u001b[0;32m   1356\u001b[0m             \u001b[1;32mreturn\u001b[0m\u001b[1;33m\u001b[0m\u001b[1;33m\u001b[0m\u001b[0m\n\u001b[0;32m   1357\u001b[0m         \u001b[1;32melif\u001b[0m \u001b[0mis_integer\u001b[0m\u001b[1;33m(\u001b[0m\u001b[0mkey\u001b[0m\u001b[1;33m)\u001b[0m\u001b[1;33m:\u001b[0m\u001b[1;33m\u001b[0m\u001b[1;33m\u001b[0m\u001b[0m\n\u001b[1;32m-> 1358\u001b[1;33m             \u001b[0mself\u001b[0m\u001b[1;33m.\u001b[0m\u001b[0m_validate_integer\u001b[0m\u001b[1;33m(\u001b[0m\u001b[0mkey\u001b[0m\u001b[1;33m,\u001b[0m \u001b[0maxis\u001b[0m\u001b[1;33m)\u001b[0m\u001b[1;33m\u001b[0m\u001b[1;33m\u001b[0m\u001b[0m\n\u001b[0m\u001b[0;32m   1359\u001b[0m         \u001b[1;32melif\u001b[0m \u001b[0misinstance\u001b[0m\u001b[1;33m(\u001b[0m\u001b[0mkey\u001b[0m\u001b[1;33m,\u001b[0m \u001b[0mtuple\u001b[0m\u001b[1;33m)\u001b[0m\u001b[1;33m:\u001b[0m\u001b[1;33m\u001b[0m\u001b[1;33m\u001b[0m\u001b[0m\n\u001b[0;32m   1360\u001b[0m             \u001b[1;31m# a tuple should already have been caught by this point\u001b[0m\u001b[1;33m\u001b[0m\u001b[1;33m\u001b[0m\u001b[1;33m\u001b[0m\u001b[0m\n",
      "\u001b[1;32m~\\AppData\\Local\\Packages\\PythonSoftwareFoundation.Python.3.9_qbz5n2kfra8p0\\LocalCache\\local-packages\\Python39\\site-packages\\pandas\\core\\indexing.py\u001b[0m in \u001b[0;36m_validate_integer\u001b[1;34m(self, key, axis)\u001b[0m\n\u001b[0;32m   1442\u001b[0m         \u001b[0mlen_axis\u001b[0m \u001b[1;33m=\u001b[0m \u001b[0mlen\u001b[0m\u001b[1;33m(\u001b[0m\u001b[0mself\u001b[0m\u001b[1;33m.\u001b[0m\u001b[0mobj\u001b[0m\u001b[1;33m.\u001b[0m\u001b[0m_get_axis\u001b[0m\u001b[1;33m(\u001b[0m\u001b[0maxis\u001b[0m\u001b[1;33m)\u001b[0m\u001b[1;33m)\u001b[0m\u001b[1;33m\u001b[0m\u001b[1;33m\u001b[0m\u001b[0m\n\u001b[0;32m   1443\u001b[0m         \u001b[1;32mif\u001b[0m \u001b[0mkey\u001b[0m \u001b[1;33m>=\u001b[0m \u001b[0mlen_axis\u001b[0m \u001b[1;32mor\u001b[0m \u001b[0mkey\u001b[0m \u001b[1;33m<\u001b[0m \u001b[1;33m-\u001b[0m\u001b[0mlen_axis\u001b[0m\u001b[1;33m:\u001b[0m\u001b[1;33m\u001b[0m\u001b[1;33m\u001b[0m\u001b[0m\n\u001b[1;32m-> 1444\u001b[1;33m             \u001b[1;32mraise\u001b[0m \u001b[0mIndexError\u001b[0m\u001b[1;33m(\u001b[0m\u001b[1;34m\"single positional indexer is out-of-bounds\"\u001b[0m\u001b[1;33m)\u001b[0m\u001b[1;33m\u001b[0m\u001b[1;33m\u001b[0m\u001b[0m\n\u001b[0m\u001b[0;32m   1445\u001b[0m \u001b[1;33m\u001b[0m\u001b[0m\n\u001b[0;32m   1446\u001b[0m     \u001b[1;31m# -------------------------------------------------------------------\u001b[0m\u001b[1;33m\u001b[0m\u001b[1;33m\u001b[0m\u001b[1;33m\u001b[0m\u001b[0m\n",
      "\u001b[1;31mIndexError\u001b[0m: single positional indexer is out-of-bounds"
     ]
    }
   ],
   "source": [
    "example_tweet = tweetsdf.iloc[0, :]['text']"
   ]
  },
  {
   "cell_type": "code",
   "execution_count": 110,
   "metadata": {},
   "outputs": [],
   "source": [
    "# parser for tweet content\n",
    "def parseTweetContent(tweet):\n",
    "    # get tweet content without \\n and \n",
    "    # explode it via spaces\n",
    "    exploded_tweet = re.split('\\n| ', tweet)\n",
    "    \n",
    "    # get date as \"DD MMM YYYY\", where the month is in Malay\n",
    "    date = \"{} {} {}\".format(exploded_tweet[3], exploded_tweet[4], exploded_tweet[5])\n",
    "\n",
    "    "
   ]
  },
  {
   "cell_type": "code",
   "execution_count": 108,
   "metadata": {},
   "outputs": [
    {
     "output_type": "execute_result",
     "data": {
      "text/plain": [
       "['Status',\n",
       " 'Terkini',\n",
       " '#COVID19,',\n",
       " '21',\n",
       " 'Jun',\n",
       " '2021',\n",
       " '',\n",
       " 'Kes',\n",
       " 'sembuh=',\n",
       " '5,439',\n",
       " 'Jumlah',\n",
       " 'kes',\n",
       " 'sembuh=',\n",
       " '633,624',\n",
       " 'Kes',\n",
       " 'baharu',\n",
       " 'positif=',\n",
       " '4,611',\n",
       " '(8',\n",
       " 'import)',\n",
       " '',\n",
       " 'Jumlah',\n",
       " 'positif=',\n",
       " '701,019',\n",
       " 'Kes',\n",
       " 'kematian=',\n",
       " '69',\n",
       " 'Jumlah',\n",
       " 'kes',\n",
       " 'kematian=',\n",
       " '4,477',\n",
       " 'Kes',\n",
       " 'dirawat',\n",
       " 'di',\n",
       " 'ICU=',\n",
       " '880',\n",
       " 'Bantuan',\n",
       " 'alat',\n",
       " 'pernafasan=',\n",
       " '452',\n",
       " 'https://t.co/zUQch1MbEs']"
      ]
     },
     "metadata": {},
     "execution_count": 108
    }
   ],
   "source": [
    "# example tweet content\n",
    "parseTweetContent(example_tweet)"
   ]
  },
  {
   "source": [
    "### Testing out web scraper for kpkesihatan.com instead to fetch data"
   ],
   "cell_type": "markdown",
   "metadata": {}
  },
  {
   "cell_type": "code",
   "execution_count": 19,
   "metadata": {},
   "outputs": [],
   "source": [
    "# function to convert python date to DD-MMM-YYYY, where \"MMM\" is the month in malay\n",
    "month_dict = [\n",
    "    'januari',\n",
    "    'februari',\n",
    "    'mac',\n",
    "    'april',\n",
    "    'mei',\n",
    "    'jun',\n",
    "    'julai',\n",
    "    'ogos',\n",
    "    'september',\n",
    "    'oktober',\n",
    "    'november',\n",
    "    'disember'\n",
    "]\n",
    "def convertDate(date):\n",
    "    return date.strftime(\"%d-{}-%Y\".format(month_dict[int(date.strftime(\"%m\"))-1]))"
   ]
  },
  {
   "cell_type": "code",
   "execution_count": 20,
   "metadata": {},
   "outputs": [
    {
     "output_type": "execute_result",
     "data": {
      "text/plain": [
       "['21-januari-2021',\n",
       " '21-februari-2021',\n",
       " '21-mac-2021',\n",
       " '21-april-2021',\n",
       " '21-mei-2021',\n",
       " '21-jun-2021',\n",
       " '21-julai-2021',\n",
       " '21-ogos-2021',\n",
       " '21-september-2021',\n",
       " '21-oktober-2021',\n",
       " '21-november-2021',\n",
       " '21-disember-2021']"
      ]
     },
     "metadata": {},
     "execution_count": 20
    }
   ],
   "source": [
    "[convertDate(datetime.datetime(2021, i, 21)) for i in range(1, 13)]"
   ]
  },
  {
   "cell_type": "code",
   "execution_count": 21,
   "metadata": {},
   "outputs": [],
   "source": [
    "# can do formatting on this later\n",
    "def makeURL(date):\n",
    "    return \"https://kpkesihatan.com/{}/kenyataan-akhbar-kpk-{}-situasi-semasa-jangkitan-penyakit-coronavirus-2019-covid-19-di-malaysia/\".format(\n",
    "        date.strftime(\"%d/%m/%Y\"), \n",
    "        convertDate(date)\n",
    "    )"
   ]
  },
  {
   "cell_type": "code",
   "execution_count": 22,
   "metadata": {},
   "outputs": [
    {
     "output_type": "execute_result",
     "data": {
      "text/plain": [
       "'https://kpkesihatan.com/21/06/2021/kenyataan-akhbar-kpk-21-jun-2021-situasi-semasa-jangkitan-penyakit-coronavirus-2019-covid-19-di-malaysia/'"
      ]
     },
     "metadata": {},
     "execution_count": 22
    }
   ],
   "source": [
    "makeURL(datetime.datetime(2021, 6, 21))"
   ]
  },
  {
   "cell_type": "code",
   "execution_count": 31,
   "metadata": {
    "tags": []
   },
   "outputs": [
    {
     "output_type": "error",
     "ename": "IndexError",
     "evalue": "list index out of range",
     "traceback": [
      "\u001b[1;31m---------------------------------------------------------------------------\u001b[0m",
      "\u001b[1;31mIndexError\u001b[0m                                Traceback (most recent call last)",
      "\u001b[1;32m<ipython-input-31-cc4f619301db>\u001b[0m in \u001b[0;36m<module>\u001b[1;34m\u001b[0m\n\u001b[0;32m      1\u001b[0m \u001b[1;31m# Create soup specifically for the response content\u001b[0m\u001b[1;33m\u001b[0m\u001b[1;33m\u001b[0m\u001b[1;33m\u001b[0m\u001b[0m\n\u001b[1;32m----> 2\u001b[1;33m \u001b[0msoup_cases\u001b[0m \u001b[1;33m=\u001b[0m \u001b[0mBeautifulSoup\u001b[0m\u001b[1;33m(\u001b[0m\u001b[0mstr\u001b[0m\u001b[1;33m(\u001b[0m\u001b[0mresult\u001b[0m\u001b[1;33m[\u001b[0m\u001b[1;36m1\u001b[0m\u001b[1;33m]\u001b[0m\u001b[1;33m)\u001b[0m\u001b[1;33m,\u001b[0m \u001b[1;34m'html.parser'\u001b[0m\u001b[1;33m)\u001b[0m\u001b[1;33m\u001b[0m\u001b[1;33m\u001b[0m\u001b[0m\n\u001b[0m\u001b[0;32m      3\u001b[0m \u001b[1;31m# Create variable to (Malay) text mapping\u001b[0m\u001b[1;33m\u001b[0m\u001b[1;33m\u001b[0m\u001b[1;33m\u001b[0m\u001b[0m\n\u001b[0;32m      4\u001b[0m vtt_map = {\n\u001b[0;32m      5\u001b[0m     \u001b[1;34m'cured_cases'\u001b[0m\u001b[1;33m:\u001b[0m \u001b[1;34m'Kes sembuh'\u001b[0m\u001b[1;33m,\u001b[0m\u001b[1;33m\u001b[0m\u001b[1;33m\u001b[0m\u001b[0m\n",
      "\u001b[1;31mIndexError\u001b[0m: list index out of range"
     ]
    }
   ],
   "source": [
    "# Create soup specifically for the response content\n",
    "soup_cases = BeautifulSoup(str(result[1]), 'html.parser')\n",
    "# Create variable to (Malay) text mapping\n",
    "vtt_map = {\n",
    "    'cured_cases': 'Kes sembuh',\n",
    "    'new_cases': 'Kes baharu',\n",
    "    'import_cases': 'Kes import',\n",
    "    'local_cases': 'Kes tempatan',\n",
    "    'active_cases': 'Kes aktif',\n",
    "    'resp_asst_cases': 'Kes yang memerlukan rawatan',\n",
    "    'death_cases': 'Kes kematian',\n",
    "    'number_of_clusters': 'Jumlah kluster',\n",
    "    'number_of_new_clusters': 'Jumlah kluster baharu',\n",
    "    'number_of_expired_clusters': 'Jumlah kluster yang telah tamat',\n",
    "    'number_of_active_clusters': 'Jumlah kluster aktif'\n",
    "}"
   ]
  },
  {
   "cell_type": "code",
   "execution_count": 192,
   "metadata": {},
   "outputs": [],
   "source": [
    "# Fetch data into dict object\n",
    "day_data = {}\n",
    "for var in vtt_map:\n",
    "    # Get the string containing the key words\n",
    "    keyword_string = str(soup_cases.find(lambda tag: tag.name == \"li\" and vtt_map[var] in tag.text))\n",
    "    # Get the soup for the specific string\n",
    "    soup_var = BeautifulSoup(keyword_string, 'html.parser')\n",
    "    # use the custom soup to extract the case data, which is stored into the day_data object\n",
    "    content = soup_var.find(lambda tag: tag.name == \"strong\").contents[0]\n",
    "    # parse the content to only extract the integer value for the corresponding variable\n",
    "    for s in [\"\\xa0\", \"kes\", \"kluster\", \" \", \",\"]:\n",
    "        content = content.replace(s, \"\")\n",
    "    # convert value to int\n",
    "    day_data[var] = int(content)"
   ]
  },
  {
   "cell_type": "code",
   "execution_count": 193,
   "metadata": {},
   "outputs": [
    {
     "output_type": "execute_result",
     "data": {
      "text/plain": [
       "{'cured_cases': 5941,\n",
       " 'new_cases': 5293,\n",
       " 'import_cases': 7,\n",
       " 'local_cases': 5286,\n",
       " 'active_cases': 63815,\n",
       " 'resp_asst_cases': 880,\n",
       " 'death_cases': 60,\n",
       " 'number_of_clusters': 2623,\n",
       " 'number_of_new_clusters': 19,\n",
       " 'number_of_expired_clusters': 1789,\n",
       " 'number_of_active_clusters': 834}"
      ]
     },
     "metadata": {},
     "execution_count": 193
    }
   ],
   "source": [
    "day_data"
   ]
  },
  {
   "cell_type": "code",
   "execution_count": 32,
   "metadata": {},
   "outputs": [],
   "source": [
    "# initialize dataset\n",
    "dataset = []\n",
    "# initialize variable to text mapping\n",
    "vtt_map = {\n",
    "    'cured_cases': 'Kes sembuh',\n",
    "    'new_cases': 'Kes baharu',\n",
    "    'import_cases': 'Kes import',\n",
    "    'local_cases': 'Kes tempatan',\n",
    "    'active_cases': 'Kes aktif',\n",
    "    'resp_asst_cases': 'Kes yang memerlukan rawatan',\n",
    "    'death_cases': 'Kes kematian',\n",
    "    'number_of_clusters': 'Jumlah kluster',\n",
    "    'number_of_new_clusters': 'Jumlah kluster baharu',\n",
    "    'number_of_expired_clusters': 'Jumlah kluster yang telah tamat',\n",
    "    'number_of_active_clusters': 'Jumlah kluster aktif'\n",
    "}"
   ]
  },
  {
   "cell_type": "code",
   "execution_count": 50,
   "metadata": {},
   "outputs": [],
   "source": [
    "# function to get data from website by date\n",
    "def get_data(date):\n",
    "    # make url to website for date\n",
    "    url = makeURL(date)\n",
    "\n",
    "    # get content of website\n",
    "    response = requests.get(url)\n",
    "\n",
    "    # filter for the case data\n",
    "    # create soup object\n",
    "    soup = BeautifulSoup(response.content, 'html.parser')\n",
    "    # get all bulleted lists\n",
    "    result = soup.find_all('ul')\n",
    "    # the case data will be the second element\n",
    "    cases_content = str(result[1])\n",
    "\n",
    "    # get soup for cases\n",
    "    soup_cases = BeautifulSoup(cases_content, 'html.parser')\n",
    "\n",
    "    # store the data into the result object\n",
    "    day_data = {}\n",
    "    for var in vtt_map:\n",
    "        # Get the string containing the key words\n",
    "        keyword_string = str(soup_cases.find(lambda tag: tag.name == \"li\" and vtt_map[var] in tag.text))\n",
    "        # Get the soup for the specific string\n",
    "        # soup_var = BeautifulSoup(keyword_string, 'html.parser')\n",
    "        # use the custom soup to extract the case data, which is stored into the day_data object\n",
    "        # content = soup_var.find(lambda tag: tag.name == \"strong\")\n",
    "        # parse the content to only extract the integer value for the corresponding variable\n",
    "        # for s in [\"\\xa0\", \"kes\", \"kluster\", \" \", \",\", \";\"]:\n",
    "        #     content = content.replace(s, \"\")\n",
    "        # convert value to int\n",
    "        day_data[var] = keyword_string\n",
    "\n",
    "    # put date into data\n",
    "    day_data['date'] = date.strftime(\"%d/%m/%Y\")\n",
    "\n",
    "    # return result when done\n",
    "    return day_data"
   ]
  },
  {
   "cell_type": "code",
   "execution_count": 54,
   "metadata": {},
   "outputs": [
    {
     "output_type": "execute_result",
     "data": {
      "text/plain": [
       "{'cured_cases': '<li>Kes sembuh : <strong>1,910 kes </strong>(358,726 kes kumulatif, 94.0%);</li>',\n",
       " 'new_cases': '<li>Kes baharu :<strong> 2,340 kes</strong> (381,813 kes kumulatif);</li>',\n",
       " 'import_cases': '<li>Kes import : <strong>12 kes </strong>(1 warganegara, 11 bukan warganegara);<strong></strong></li>',\n",
       " 'local_cases': '<li>Kes tempatan : <strong>2,328 </strong><strong>kes </strong>[2,136 warganegara (91.8%); 192 bukan warganegara (8.2%)];</li>',\n",
       " 'active_cases': '<li>Kes aktif :<strong> 21,687 kes;</strong></li>',\n",
       " 'resp_asst_cases': '<li>Kes yang memerlukan rawatan di Unit Rawatan Rapi (ICU) :<strong> 248 kes</strong>;</li>',\n",
       " 'death_cases': '<li>Kes kematian :<strong> 11 kes </strong>(1,400 kes kumulatif, 0.37%; 9 warganegara; 2 bukan warganegara).</li>',\n",
       " 'number_of_clusters': 'None',\n",
       " 'number_of_new_clusters': 'None',\n",
       " 'number_of_expired_clusters': 'None',\n",
       " 'number_of_active_clusters': 'None',\n",
       " 'date': '21/04/2021'}"
      ]
     },
     "metadata": {},
     "execution_count": 54
    }
   ],
   "source": [
    "get_data(datetime.date(2021, 4, 21))"
   ]
  },
  {
   "cell_type": "code",
   "execution_count": 59,
   "metadata": {},
   "outputs": [
    {
     "output_type": "execute_result",
     "data": {
      "text/plain": [
       "{'cured_cases': 'None',\n",
       " 'new_cases': 'None',\n",
       " 'import_cases': 'None',\n",
       " 'local_cases': 'None',\n",
       " 'active_cases': 'None',\n",
       " 'resp_asst_cases': 'None',\n",
       " 'death_cases': 'None',\n",
       " 'number_of_clusters': 'None',\n",
       " 'number_of_new_clusters': 'None',\n",
       " 'number_of_expired_clusters': 'None',\n",
       " 'number_of_active_clusters': 'None',\n",
       " 'date': '07/02/2021'}"
      ]
     },
     "metadata": {},
     "execution_count": 59
    }
   ],
   "source": [
    "print(\"hello\")\n",
    "# iterate over Jan 2021 (for now)\n",
    "# start_date = datetime.date(2021, 1, 1)\n",
    "# end_date = datetime.date(2021, 6, 21)\n",
    "# for dt in rrule(DAILY, dtstart=start_date, until=end_date)\n",
    "#     try {\n",
    "#         dataset.append(get_data(dt))\n",
    "#         print(\"Data retrieved for the date {}\".format(dt.strftime(\"%d/%m/%Y\")))\n",
    "#     } catch (e) {\n",
    "#         print(\"Unable to retrieve data for the date {}\".format(dt.strftime(\"%d/%m/%Y\"))\n",
    "#     }"
   ]
  },
  {
   "cell_type": "code",
   "execution_count": 56,
   "metadata": {},
   "outputs": [
    {
     "output_type": "execute_result",
     "data": {
      "text/plain": [
       "                                          cured_cases  \\\n",
       "0                                                None   \n",
       "1                                                None   \n",
       "2                                                None   \n",
       "3                                                None   \n",
       "4                                                None   \n",
       "5                                                None   \n",
       "6                                                None   \n",
       "7                                                None   \n",
       "8                                                None   \n",
       "9   <li>Kes sembuh : <strong>3,454 kes </strong>(4...   \n",
       "10  <li>Kes sembuh : <strong>2,848 kes </strong>(4...   \n",
       "11  <li>Kes sembuh : <strong>3,124 kes </strong>(4...   \n",
       "12  <li>Kes sembuh : <strong>3,347 kes </strong>(4...   \n",
       "13  <li>Kes sembuh : <strong>4,190 kes </strong>(4...   \n",
       "14  <li>Kes sembuh : <strong>3,432 kes </strong>(4...   \n",
       "15  <li>Kes sembuh : <strong>3,990 kes </strong>(4...   \n",
       "16  <li>Kes sembuh : <strong>2,784 kes </strong>(4...   \n",
       "17  <li>Kes sembuh : <strong>3,497 kes </strong>(4...   \n",
       "18  <li>Kes sembuh : <strong>3,516 kes </strong>(4...   \n",
       "19  <li>Kes sembuh : <strong>3,916 kes </strong>(4...   \n",
       "20  <li>Kes sembuh : <strong>4,508 kes </strong>(4...   \n",
       "21  <li>Kes sembuh : <strong>4,694 kes </strong>(4...   \n",
       "22  <li>Kes sembuh : <strong>3,587 kes </strong>(4...   \n",
       "23  <li>Kes sembuh : <strong>3,452 kes </strong>(4...   \n",
       "24  <li>Kes sembuh : <strong>3,789 kes </strong>(4...   \n",
       "25  <li>Kes sembuh : <strong>4,665 kes </strong>(4...   \n",
       "26  <li>Kes sembuh : <strong>4,598 kes </strong>(4...   \n",
       "27  <li>Kes sembuh : <strong>4,814 kes </strong>(4...   \n",
       "28  <li>Kes sembuh : <strong>5,527 kes </strong>(4...   \n",
       "29  <li>Kes sembuh : <strong>5,121 kes </strong>(4...   \n",
       "\n",
       "                                            new_cases  \\\n",
       "0                                                None   \n",
       "1                                                None   \n",
       "2                                                None   \n",
       "3                                                None   \n",
       "4                                                None   \n",
       "5                                                None   \n",
       "6                                                None   \n",
       "7                                                None   \n",
       "8                                                None   \n",
       "9   <li>Kes baharu :<strong> 3,807 kes</strong> (4...   \n",
       "10  <li>Kes baharu :<strong> 3,973 kes</strong> (4...   \n",
       "11  <li>Kes baharu :<strong> 4,765 kes</strong> (4...   \n",
       "12  <li>Kes baharu :<strong> 4,855 kes</strong> (4...   \n",
       "13  <li>Kes baharu :<strong> 4,113 kes</strong> (4...   \n",
       "14  <li>Kes baharu :<strong> 4,140 kes</strong> (4...   \n",
       "15  <li>Kes baharu :<strong> 3,780 kes</strong> (4...   \n",
       "16  <li>Kes baharu :<strong> 4,446 kes</strong> (4...   \n",
       "17  <li>Kes baharu :<strong> 4,865 kes</strong> (4...   \n",
       "18  <li>Kes baharu :<strong> 6,075 kes</strong> (4...   \n",
       "19  <li>Kes baharu :<strong> 6,806 kes</strong> (4...   \n",
       "20  <li>Kes baharu :<strong> 6,493 kes</strong> (4...   \n",
       "21  <li>Kes baharu :<strong> 6,320 kes</strong> (5...   \n",
       "22  <li>Kes baharu :<strong>6,976</strong><strong>...   \n",
       "23  <li>Kes baharu :<strong> 6,509 kes</strong> (5...   \n",
       "24  <li>Kes baharu :<strong> 7,289 kes</strong> (5...   \n",
       "25  <li>Kes baharu :<strong> 7,478 kes</strong> (5...   \n",
       "26  <li>Kes baharu :<strong> 7,857 kes</strong> (5...   \n",
       "27  <li>Kes baharu :<strong> 8,290 kes</strong> (5...   \n",
       "28  <li>Kes baharu :<strong> 9,020 kes</strong> (5...   \n",
       "29  <li>Kes baharu :<strong> 6,999 kes</strong> (5...   \n",
       "\n",
       "                                         import_cases  \\\n",
       "0                                                None   \n",
       "1                                                None   \n",
       "2                                                None   \n",
       "3                                                None   \n",
       "4                                                None   \n",
       "5                                                None   \n",
       "6                                                None   \n",
       "7                                                None   \n",
       "8                                                None   \n",
       "9   <li>Kes import : <strong>5 kes </strong>(2 war...   \n",
       "10  <li>Kes import : <strong>5 kes </strong>(1 war...   \n",
       "11  <li>Kes import : <strong>7 kes </strong>(5 war...   \n",
       "12  <li>Kes import : <strong>3 kes </strong>(3 buk...   \n",
       "13  <li>Kes import : <strong>1 kes </strong>(1 buk...   \n",
       "14  <li>Kes import : <strong>9 kes </strong>(9 war...   \n",
       "15  <li>Kes import : <strong>2 kes </strong>(2 war...   \n",
       "16  <li>Kes import : <strong>3 kes </strong>(3 war...   \n",
       "17  <li>Kes import : <strong>5 kes </strong>(3 war...   \n",
       "18  <li>Kes import : <strong>3 kes </strong>(1 war...   \n",
       "19  <li>Kes import : <strong>2 kes </strong>(2 war...   \n",
       "20  <li>Kes import : <strong>2 kes </strong>(1 war...   \n",
       "21  <li>Kes import : <strong>3 kes </strong>(3 buk...   \n",
       "22  <li>Kes import : <strong>5 kes </strong>(1 war...   \n",
       "23  <li>Kes import : <strong>20 kes </strong>(17 w...   \n",
       "24  <li>Kes import : <strong>4 kes </strong>(1 war...   \n",
       "25  <li>Kes import : <strong>5 kes </strong>(5 buk...   \n",
       "26  <li>Kes import : <strong>8 kes </strong>(2 war...   \n",
       "27  <li>Kes import : <strong>2 kes </strong>(2 buk...   \n",
       "28  <li>Kes import : <strong>5 kes </strong>(4 war...   \n",
       "29  <li>Kes import : <strong>4 kes </strong>(3 war...   \n",
       "\n",
       "                                          local_cases  \\\n",
       "0                                                None   \n",
       "1                                                None   \n",
       "2                                                None   \n",
       "3                                                None   \n",
       "4                                                None   \n",
       "5                                                None   \n",
       "6                                                None   \n",
       "7                                                None   \n",
       "8                                                None   \n",
       "9   <li>Kes tempatan : <strong>3,</strong><strong>...   \n",
       "10  <li>Kes tempatan : <strong>3,968 </strong><str...   \n",
       "11  <li>Kes tempatan : <strong>4,758 </strong><str...   \n",
       "12  <li>Kes tempatan : <strong>4,852 </strong><str...   \n",
       "13  <li>Kes tempatan : <strong>4,112 </strong><str...   \n",
       "14  <li>Kes tempatan : <strong>4,131 </strong><str...   \n",
       "15  <li>Kes tempatan : <strong>3,778 </strong><str...   \n",
       "16  <li>Kes tempatan : <strong>4,443 </strong><str...   \n",
       "17  <li>Kes tempatan : <strong>4,860 </strong><str...   \n",
       "18  <li>Kes tempatan : <strong>6,072 </strong><str...   \n",
       "19  <li>Kes tempatan : <strong>6,804 </strong><str...   \n",
       "20  <li>Kes tempatan : <strong>6,491 </strong><str...   \n",
       "21  <li>Kes tempatan : <strong>6,317 </strong><str...   \n",
       "22  <li>Kes tempatan : <strong>6,971 </strong><str...   \n",
       "23  <li>Kes tempatan : <strong>6,489 </strong><str...   \n",
       "24  <li>Kes tempatan : <strong>7,285 </strong><str...   \n",
       "25  <li>Kes tempatan : <strong>7,473 </strong><str...   \n",
       "26  <li>Kes tempatan : <strong>7,849 </strong><str...   \n",
       "27  <li>Kes tempatan : <strong>8,288 kes </strong>...   \n",
       "28  <li>Kes tempatan : <strong>9,015 </strong><str...   \n",
       "29  <li>Kes tempatan : <strong>6,995 </strong><str...   \n",
       "\n",
       "                                         active_cases  \\\n",
       "0                                                None   \n",
       "1                                                None   \n",
       "2                                                None   \n",
       "3                                                None   \n",
       "4                                                None   \n",
       "5                                                None   \n",
       "6                                                None   \n",
       "7                                                None   \n",
       "8                                                None   \n",
       "9   <li>Kes aktif :<strong> 37,396 kes</strong>;</li>   \n",
       "10  <li>Kes aktif :<strong> 38,499 kes</strong>;</li>   \n",
       "11  <li>Kes aktif :<strong> 40,101 kes</strong>;</li>   \n",
       "12  <li>Kes aktif :<strong> 41,582 kes</strong>;</li>   \n",
       "13  <li>Kes aktif :<strong> 41,471 kes</strong>;</li>   \n",
       "14  <li>Kes aktif :<strong> 42,135 kes</strong>;</li>   \n",
       "15  <li>Kes aktif :<strong> 41,889 kes</strong>;</li>   \n",
       "16  <li>Kes aktif :<strong> 43,506 kes</strong>;</li>   \n",
       "17  <li>Kes aktif :<strong> 44,827 kes</strong>;</li>   \n",
       "18  <li>Kes aktif :<strong> 47,340 kes</strong>;</li>   \n",
       "19  <li>Kes aktif :<strong> 50,171 kes</strong>;</li>   \n",
       "20  <li>Kes aktif :<strong> 52,106 kes</strong>;</li>   \n",
       "21  <li>Kes aktif :<strong> 53,682 kes</strong>;</li>   \n",
       "22  <li>Kes aktif :<strong> 57,022 kes</strong>;</li>   \n",
       "23  <li>Kes aktif :<strong> 60,018 kes</strong>;</li>   \n",
       "24  <li>Kes aktif :<strong> 63,458 kes</strong>;</li>   \n",
       "25  <li>Kes aktif :<strong> 66,208 kes</strong>;</li>   \n",
       "26  <li>Kes aktif :<strong> 69,408 kes</strong>;</li>   \n",
       "27  <li>Kes aktif :<strong> 72,823 kes</strong>;</li>   \n",
       "28  <li>Kes aktif :<strong> 76,218 kes</strong>;</li>   \n",
       "29  <li>Kes aktif :<strong> 78,017 kes</strong>;</li>   \n",
       "\n",
       "                                      resp_asst_cases  \\\n",
       "0                                                None   \n",
       "1                                                None   \n",
       "2                                                None   \n",
       "3                                                None   \n",
       "4                                                None   \n",
       "5                                                None   \n",
       "6                                                None   \n",
       "7                                                None   \n",
       "8                                                None   \n",
       "9   <li>Kes yang memerlukan rawatan di Unit Rawata...   \n",
       "10  <li>Kes yang memerlukan rawatan di Unit Rawata...   \n",
       "11  <li>Kes yang memerlukan rawatan di Unit Rawata...   \n",
       "12  <li>Kes yang memerlukan rawatan di Unit Rawata...   \n",
       "13  <li>Kes yang memerlukan rawatan di Unit Rawata...   \n",
       "14  <li>Kes yang memerlukan rawatan di Unit Rawata...   \n",
       "15  <li>Kes yang memerlukan rawatan di Unit Rawata...   \n",
       "16  <li>Kes yang memerlukan rawatan di Unit Rawata...   \n",
       "17  <li>Kes yang memerlukan rawatan di Unit Rawata...   \n",
       "18  <li>Kes yang memerlukan rawatan di Unit Rawata...   \n",
       "19  <li>Kes yang memerlukan rawatan di Unit Rawata...   \n",
       "20  <li>Kes yang memerlukan rawatan di Unit Rawata...   \n",
       "21  <li>Kes yang memerlukan rawatan di Unit Rawata...   \n",
       "22  <li>Kes yang memerlukan rawatan di Unit Rawata...   \n",
       "23  <li>Kes yang memerlukan rawatan di Unit Rawata...   \n",
       "24  <li>Kes yang memerlukan rawatan di Unit Rawata...   \n",
       "25  <li>Kes yang memerlukan rawatan di Unit Rawata...   \n",
       "26  <li>Kes yang memerlukan rawatan di Unit Rawata...   \n",
       "27  <li>Kes yang memerlukan rawatan di Unit Rawata...   \n",
       "28  <li>Kes yang memerlukan rawatan di Unit Rawata...   \n",
       "29  <li>Kes yang memerlukan rawatan di Unit Rawata...   \n",
       "\n",
       "                                          death_cases  \\\n",
       "0                                                None   \n",
       "1                                                None   \n",
       "2                                                None   \n",
       "3                                                None   \n",
       "4                                                None   \n",
       "5                                                None   \n",
       "6                                                None   \n",
       "7                                                None   \n",
       "8                                                None   \n",
       "9   <li>Kes kematian :<strong> 17 kes </strong>(1,...   \n",
       "10  <li>Kes kematian :<strong> 22 kes </strong>(1,...   \n",
       "11  <li>Kes kematian :<strong> 39 kes </strong>(1,...   \n",
       "12  <li>Kes kematian :<strong> 27 kes </strong>(1,...   \n",
       "13  <li>Kes kematian :<strong> 34 kes </strong>(1,...   \n",
       "14  <li>Kes kematian :<strong> 44 kes </strong>(1,...   \n",
       "15  <li>Kes kematian :<strong> 36 kes </strong>(1,...   \n",
       "16  <li>Kes kematian :<strong> 45 kes </strong>(1,...   \n",
       "17  <li>Kes kematian :<strong> 47 kes </strong>(1,...   \n",
       "18  <li>Kes kematian :<strong> 46 kes </strong>(2,...   \n",
       "19  <li>Kes kematian :<strong> 59 kes </strong>(2,...   \n",
       "20  <li>Kes kematian :<strong> 50 kes </strong>(2,...   \n",
       "21  <li>Kes kematian :<strong> 50 kes </strong>(2,...   \n",
       "22  <li>Kes kematian :<strong> 49 kes </strong>(2,...   \n",
       "23  <li>Kes kematian :<strong> 61 kes </strong>(2,...   \n",
       "24  <li>Kes kematian :<strong> 60 kes </strong>(2,...   \n",
       "25  <li>Kes kematian :<strong> 63 kes </strong>(2,...   \n",
       "26  <li>Kes kematian :<strong> 59 kes </strong>(2,...   \n",
       "27  <li>Kes kematian :<strong> 61 kes </strong>(2,...   \n",
       "28  <li>Kes kematian :<strong> 98 kes </strong>(2,...   \n",
       "29  <li>Kes kematian :<strong> 79 kes </strong>(2,...   \n",
       "\n",
       "                                   number_of_clusters  \\\n",
       "0                                                None   \n",
       "1                                                None   \n",
       "2                                                None   \n",
       "3                                                None   \n",
       "4                                                None   \n",
       "5                                                None   \n",
       "6                                                None   \n",
       "7                                                None   \n",
       "8                                                None   \n",
       "9   <li>Jumlah kluster : <strong>1,807</strong><st...   \n",
       "10  <li>Jumlah kluster : <strong>1,820</strong><st...   \n",
       "11  <li>Jumlah kluster : <strong>1,840</strong><st...   \n",
       "12  <li>Jumlah kluster : <strong>1,848</strong><st...   \n",
       "13  <li>Jumlah kluster : <strong>1,861</strong><st...   \n",
       "14  <li>Jumlah kluster : <strong>1,876</strong><st...   \n",
       "15  <li>Jumlah kluster : <strong>1,887</strong><st...   \n",
       "16  <li>Jumlah kluster : <strong>1,9</strong><stro...   \n",
       "17  <li>Jumlah kluster : <strong>1,9</strong><stro...   \n",
       "18  <li>Jumlah kluster : <strong>1,9</strong><stro...   \n",
       "19  <li>Jumlah kluster : <strong>1,9</strong><stro...   \n",
       "20  <li>Jumlah kluster : <strong>1,984</strong><st...   \n",
       "21  <li>Jumlah kluster : <strong>2,001</strong><st...   \n",
       "22  <li>Jumlah kluster : <strong>2,025</strong><st...   \n",
       "23  <li>Jumlah kluster : <strong>2,045</strong><st...   \n",
       "24  <li>Jumlah kluster : <strong>2,060</strong><st...   \n",
       "25  <li>Jumlah kluster : <strong>2,082</strong><st...   \n",
       "26  <li>Jumlah kluster : <strong>2,102</strong><st...   \n",
       "27  <li>Jumlah kluster : <strong>2,123 kluster</st...   \n",
       "28  <li>Jumlah kluster : <strong>2,146</strong><st...   \n",
       "29  <li>Jumlah kluster : <strong>2,163</strong><st...   \n",
       "\n",
       "                               number_of_new_clusters  \\\n",
       "0                                                None   \n",
       "1                                                None   \n",
       "2                                                None   \n",
       "3                                                None   \n",
       "4                                                None   \n",
       "5                                                None   \n",
       "6                                                None   \n",
       "7                                                None   \n",
       "8                                                None   \n",
       "9   <li>Jumlah kluster baharu :<strong> 19 kluster...   \n",
       "10  <li>Jumlah kluster baharu :<strong> 13 kluster...   \n",
       "11  <li>Jumlah kluster baharu :<strong> 20 kluster...   \n",
       "12  <li>Jumlah kluster baharu :<strong> 8 kluster<...   \n",
       "13  <li>Jumlah kluster baharu :<strong> 13 kluster...   \n",
       "14  <li>Jumlah kluster baharu :<strong> 15 kluster...   \n",
       "15  <li>Jumlah kluster baharu :<strong> 11 kluster...   \n",
       "16  <li>Jumlah kluster baharu :<strong> 14 kluster...   \n",
       "17  <li>Jumlah kluster baharu :<strong> 19 kluster...   \n",
       "18  <li>Jumlah kluster baharu :<strong> 22 kluster...   \n",
       "19  <li>Jumlah kluster baharu :<strong> 24 kluster...   \n",
       "20  <li>Jumlah kluster baharu :<strong> 18 kluster...   \n",
       "21  <li>Jumlah kluster baharu :<strong> 17 kluster...   \n",
       "22  <li>Jumlah kluster baharu :<strong> 24 kluster...   \n",
       "23  <li>Jumlah kluster baharu :<strong> 20 kluster...   \n",
       "24  <li>Jumlah kluster baharu :<strong> 15 kluster...   \n",
       "25  <li>Jumlah kluster baharu :<strong> 22 kluster...   \n",
       "26  <li>Jumlah kluster baharu :<strong> 20 kluster...   \n",
       "27  <li>Jumlah kluster baharu :<strong> 21 kluster...   \n",
       "28  <li>Jumlah kluster baharu :<strong> 23 kluster...   \n",
       "29  <li>Jumlah kluster baharu :<strong> 17 kluster...   \n",
       "\n",
       "                           number_of_expired_clusters  \\\n",
       "0                                                None   \n",
       "1                                                None   \n",
       "2                                                None   \n",
       "3                                                None   \n",
       "4                                                None   \n",
       "5                                                None   \n",
       "6                                                None   \n",
       "7                                                None   \n",
       "8                                                None   \n",
       "9   <li>Jumlah kluster yang telah tamat :<strong>1...   \n",
       "10  <li>Jumlah kluster yang telah tamat :<strong>1...   \n",
       "11  <li>Jumlah kluster yang telah tamat :<strong>1...   \n",
       "12  <li>Jumlah kluster yang telah tamat :<strong>1...   \n",
       "13  <li>Jumlah kluster yang telah tamat :<strong>1...   \n",
       "14  <li>Jumlah kluster yang telah tamat :<strong>1...   \n",
       "15  <li>Jumlah kluster yang telah tamat :<strong>1...   \n",
       "16  <li>Jumlah kluster yang telah tamat :<strong>1...   \n",
       "17  <li>Jumlah kluster yang telah tamat :<strong>1...   \n",
       "18  <li>Jumlah kluster yang telah tamat :<strong>1...   \n",
       "19  <li>Jumlah kluster yang telah tamat :<strong>1...   \n",
       "20  <li>Jumlah kluster yang telah tamat :<strong>1...   \n",
       "21  <li>Jumlah kluster yang telah tamat :<strong>1...   \n",
       "22  <li>Jumlah kluster yang telah tamat :<strong>1...   \n",
       "23  <li>Jumlah kluster yang telah tamat :<strong>1...   \n",
       "24  <li>Jumlah kluster yang telah tamat :<strong>1...   \n",
       "25  <li>Jumlah kluster yang telah tamat :<strong>1...   \n",
       "26  <li>Jumlah kluster yang telah tamat :<strong>1...   \n",
       "27  <li>Jumlah kluster yang telah tamat :<strong>1...   \n",
       "28  <li>Jumlah kluster yang telah tamat :<strong>1...   \n",
       "29  <li>Jumlah kluster yang telah tamat :<strong>1...   \n",
       "\n",
       "                            number_of_active_clusters        date  \n",
       "0                                                None  01/05/2021  \n",
       "1                                                None  02/05/2021  \n",
       "2                                                None  03/05/2021  \n",
       "3                                                None  04/05/2021  \n",
       "4                                                None  05/05/2021  \n",
       "5                                                None  06/05/2021  \n",
       "6                                                None  07/05/2021  \n",
       "7                                                None  08/05/2021  \n",
       "8                                                None  09/05/2021  \n",
       "9   <li>Jumlah kluster aktif : <strong>448 kluster...  10/05/2021  \n",
       "10  <li>Jumlah kluster aktif : <strong>454 kluster...  11/05/2021  \n",
       "11  <li>Jumlah kluster aktif : <strong>462 kluster...  12/05/2021  \n",
       "12  <li>Jumlah kluster aktif : <strong>457 kluster...  13/05/2021  \n",
       "13  <li>Jumlah kluster aktif : <strong>461 kluster...  14/05/2021  \n",
       "14  <li>Jumlah kluster aktif : <strong>466 kluster...  15/05/2021  \n",
       "15  <li>Jumlah kluster aktif : <strong>470 kluster...  16/05/2021  \n",
       "16  <li>Jumlah kluster aktif : <strong>484</strong...  17/05/2021  \n",
       "17  <li>Jumlah kluster aktif : <strong>497</strong...  18/05/2021  \n",
       "18  <li>Jumlah kluster aktif : <strong>516</strong...  19/05/2021  \n",
       "19  <li>Jumlah kluster aktif : <strong>528</strong...  20/05/2021  \n",
       "20  <li>Jumlah kluster aktif : <strong>529</strong...  21/05/2021  \n",
       "21  <li>Jumlah kluster aktif : <strong>535</strong...  22/05/2021  \n",
       "22  <li>Jumlah kluster aktif : <strong>556</strong...  23/05/2021  \n",
       "23  <li>Jumlah kluster aktif : <strong>570</strong...  24/05/2021  \n",
       "24  <li>Jumlah kluster aktif : <strong>577</strong...  25/05/2021  \n",
       "25  <li>Jumlah kluster aktif : <strong>593</strong...  26/05/2021  \n",
       "26  <li>Jumlah kluster aktif : <strong>604</strong...  27/05/2021  \n",
       "27                                               None  28/05/2021  \n",
       "28  <li>Jumlah kluster aktif : <strong>630</strong...  29/05/2021  \n",
       "29  <li>Jumlah kluster aktif : <strong>635</strong...  30/05/2021  "
      ],
      "text/html": "<div>\n<style scoped>\n    .dataframe tbody tr th:only-of-type {\n        vertical-align: middle;\n    }\n\n    .dataframe tbody tr th {\n        vertical-align: top;\n    }\n\n    .dataframe thead th {\n        text-align: right;\n    }\n</style>\n<table border=\"1\" class=\"dataframe\">\n  <thead>\n    <tr style=\"text-align: right;\">\n      <th></th>\n      <th>cured_cases</th>\n      <th>new_cases</th>\n      <th>import_cases</th>\n      <th>local_cases</th>\n      <th>active_cases</th>\n      <th>resp_asst_cases</th>\n      <th>death_cases</th>\n      <th>number_of_clusters</th>\n      <th>number_of_new_clusters</th>\n      <th>number_of_expired_clusters</th>\n      <th>number_of_active_clusters</th>\n      <th>date</th>\n    </tr>\n  </thead>\n  <tbody>\n    <tr>\n      <th>0</th>\n      <td>None</td>\n      <td>None</td>\n      <td>None</td>\n      <td>None</td>\n      <td>None</td>\n      <td>None</td>\n      <td>None</td>\n      <td>None</td>\n      <td>None</td>\n      <td>None</td>\n      <td>None</td>\n      <td>01/05/2021</td>\n    </tr>\n    <tr>\n      <th>1</th>\n      <td>None</td>\n      <td>None</td>\n      <td>None</td>\n      <td>None</td>\n      <td>None</td>\n      <td>None</td>\n      <td>None</td>\n      <td>None</td>\n      <td>None</td>\n      <td>None</td>\n      <td>None</td>\n      <td>02/05/2021</td>\n    </tr>\n    <tr>\n      <th>2</th>\n      <td>None</td>\n      <td>None</td>\n      <td>None</td>\n      <td>None</td>\n      <td>None</td>\n      <td>None</td>\n      <td>None</td>\n      <td>None</td>\n      <td>None</td>\n      <td>None</td>\n      <td>None</td>\n      <td>03/05/2021</td>\n    </tr>\n    <tr>\n      <th>3</th>\n      <td>None</td>\n      <td>None</td>\n      <td>None</td>\n      <td>None</td>\n      <td>None</td>\n      <td>None</td>\n      <td>None</td>\n      <td>None</td>\n      <td>None</td>\n      <td>None</td>\n      <td>None</td>\n      <td>04/05/2021</td>\n    </tr>\n    <tr>\n      <th>4</th>\n      <td>None</td>\n      <td>None</td>\n      <td>None</td>\n      <td>None</td>\n      <td>None</td>\n      <td>None</td>\n      <td>None</td>\n      <td>None</td>\n      <td>None</td>\n      <td>None</td>\n      <td>None</td>\n      <td>05/05/2021</td>\n    </tr>\n    <tr>\n      <th>5</th>\n      <td>None</td>\n      <td>None</td>\n      <td>None</td>\n      <td>None</td>\n      <td>None</td>\n      <td>None</td>\n      <td>None</td>\n      <td>None</td>\n      <td>None</td>\n      <td>None</td>\n      <td>None</td>\n      <td>06/05/2021</td>\n    </tr>\n    <tr>\n      <th>6</th>\n      <td>None</td>\n      <td>None</td>\n      <td>None</td>\n      <td>None</td>\n      <td>None</td>\n      <td>None</td>\n      <td>None</td>\n      <td>None</td>\n      <td>None</td>\n      <td>None</td>\n      <td>None</td>\n      <td>07/05/2021</td>\n    </tr>\n    <tr>\n      <th>7</th>\n      <td>None</td>\n      <td>None</td>\n      <td>None</td>\n      <td>None</td>\n      <td>None</td>\n      <td>None</td>\n      <td>None</td>\n      <td>None</td>\n      <td>None</td>\n      <td>None</td>\n      <td>None</td>\n      <td>08/05/2021</td>\n    </tr>\n    <tr>\n      <th>8</th>\n      <td>None</td>\n      <td>None</td>\n      <td>None</td>\n      <td>None</td>\n      <td>None</td>\n      <td>None</td>\n      <td>None</td>\n      <td>None</td>\n      <td>None</td>\n      <td>None</td>\n      <td>None</td>\n      <td>09/05/2021</td>\n    </tr>\n    <tr>\n      <th>9</th>\n      <td>&lt;li&gt;Kes sembuh : &lt;strong&gt;3,454 kes &lt;/strong&gt;(4...</td>\n      <td>&lt;li&gt;Kes baharu :&lt;strong&gt; 3,807 kes&lt;/strong&gt; (4...</td>\n      <td>&lt;li&gt;Kes import : &lt;strong&gt;5 kes &lt;/strong&gt;(2 war...</td>\n      <td>&lt;li&gt;Kes tempatan : &lt;strong&gt;3,&lt;/strong&gt;&lt;strong&gt;...</td>\n      <td>&lt;li&gt;Kes aktif :&lt;strong&gt; 37,396 kes&lt;/strong&gt;;&lt;/li&gt;</td>\n      <td>&lt;li&gt;Kes yang memerlukan rawatan di Unit Rawata...</td>\n      <td>&lt;li&gt;Kes kematian :&lt;strong&gt; 17 kes &lt;/strong&gt;(1,...</td>\n      <td>&lt;li&gt;Jumlah kluster : &lt;strong&gt;1,807&lt;/strong&gt;&lt;st...</td>\n      <td>&lt;li&gt;Jumlah kluster baharu :&lt;strong&gt; 19 kluster...</td>\n      <td>&lt;li&gt;Jumlah kluster yang telah tamat :&lt;strong&gt;1...</td>\n      <td>&lt;li&gt;Jumlah kluster aktif : &lt;strong&gt;448 kluster...</td>\n      <td>10/05/2021</td>\n    </tr>\n    <tr>\n      <th>10</th>\n      <td>&lt;li&gt;Kes sembuh : &lt;strong&gt;2,848 kes &lt;/strong&gt;(4...</td>\n      <td>&lt;li&gt;Kes baharu :&lt;strong&gt; 3,973 kes&lt;/strong&gt; (4...</td>\n      <td>&lt;li&gt;Kes import : &lt;strong&gt;5 kes &lt;/strong&gt;(1 war...</td>\n      <td>&lt;li&gt;Kes tempatan : &lt;strong&gt;3,968 &lt;/strong&gt;&lt;str...</td>\n      <td>&lt;li&gt;Kes aktif :&lt;strong&gt; 38,499 kes&lt;/strong&gt;;&lt;/li&gt;</td>\n      <td>&lt;li&gt;Kes yang memerlukan rawatan di Unit Rawata...</td>\n      <td>&lt;li&gt;Kes kematian :&lt;strong&gt; 22 kes &lt;/strong&gt;(1,...</td>\n      <td>&lt;li&gt;Jumlah kluster : &lt;strong&gt;1,820&lt;/strong&gt;&lt;st...</td>\n      <td>&lt;li&gt;Jumlah kluster baharu :&lt;strong&gt; 13 kluster...</td>\n      <td>&lt;li&gt;Jumlah kluster yang telah tamat :&lt;strong&gt;1...</td>\n      <td>&lt;li&gt;Jumlah kluster aktif : &lt;strong&gt;454 kluster...</td>\n      <td>11/05/2021</td>\n    </tr>\n    <tr>\n      <th>11</th>\n      <td>&lt;li&gt;Kes sembuh : &lt;strong&gt;3,124 kes &lt;/strong&gt;(4...</td>\n      <td>&lt;li&gt;Kes baharu :&lt;strong&gt; 4,765 kes&lt;/strong&gt; (4...</td>\n      <td>&lt;li&gt;Kes import : &lt;strong&gt;7 kes &lt;/strong&gt;(5 war...</td>\n      <td>&lt;li&gt;Kes tempatan : &lt;strong&gt;4,758 &lt;/strong&gt;&lt;str...</td>\n      <td>&lt;li&gt;Kes aktif :&lt;strong&gt; 40,101 kes&lt;/strong&gt;;&lt;/li&gt;</td>\n      <td>&lt;li&gt;Kes yang memerlukan rawatan di Unit Rawata...</td>\n      <td>&lt;li&gt;Kes kematian :&lt;strong&gt; 39 kes &lt;/strong&gt;(1,...</td>\n      <td>&lt;li&gt;Jumlah kluster : &lt;strong&gt;1,840&lt;/strong&gt;&lt;st...</td>\n      <td>&lt;li&gt;Jumlah kluster baharu :&lt;strong&gt; 20 kluster...</td>\n      <td>&lt;li&gt;Jumlah kluster yang telah tamat :&lt;strong&gt;1...</td>\n      <td>&lt;li&gt;Jumlah kluster aktif : &lt;strong&gt;462 kluster...</td>\n      <td>12/05/2021</td>\n    </tr>\n    <tr>\n      <th>12</th>\n      <td>&lt;li&gt;Kes sembuh : &lt;strong&gt;3,347 kes &lt;/strong&gt;(4...</td>\n      <td>&lt;li&gt;Kes baharu :&lt;strong&gt; 4,855 kes&lt;/strong&gt; (4...</td>\n      <td>&lt;li&gt;Kes import : &lt;strong&gt;3 kes &lt;/strong&gt;(3 buk...</td>\n      <td>&lt;li&gt;Kes tempatan : &lt;strong&gt;4,852 &lt;/strong&gt;&lt;str...</td>\n      <td>&lt;li&gt;Kes aktif :&lt;strong&gt; 41,582 kes&lt;/strong&gt;;&lt;/li&gt;</td>\n      <td>&lt;li&gt;Kes yang memerlukan rawatan di Unit Rawata...</td>\n      <td>&lt;li&gt;Kes kematian :&lt;strong&gt; 27 kes &lt;/strong&gt;(1,...</td>\n      <td>&lt;li&gt;Jumlah kluster : &lt;strong&gt;1,848&lt;/strong&gt;&lt;st...</td>\n      <td>&lt;li&gt;Jumlah kluster baharu :&lt;strong&gt; 8 kluster&lt;...</td>\n      <td>&lt;li&gt;Jumlah kluster yang telah tamat :&lt;strong&gt;1...</td>\n      <td>&lt;li&gt;Jumlah kluster aktif : &lt;strong&gt;457 kluster...</td>\n      <td>13/05/2021</td>\n    </tr>\n    <tr>\n      <th>13</th>\n      <td>&lt;li&gt;Kes sembuh : &lt;strong&gt;4,190 kes &lt;/strong&gt;(4...</td>\n      <td>&lt;li&gt;Kes baharu :&lt;strong&gt; 4,113 kes&lt;/strong&gt; (4...</td>\n      <td>&lt;li&gt;Kes import : &lt;strong&gt;1 kes &lt;/strong&gt;(1 buk...</td>\n      <td>&lt;li&gt;Kes tempatan : &lt;strong&gt;4,112 &lt;/strong&gt;&lt;str...</td>\n      <td>&lt;li&gt;Kes aktif :&lt;strong&gt; 41,471 kes&lt;/strong&gt;;&lt;/li&gt;</td>\n      <td>&lt;li&gt;Kes yang memerlukan rawatan di Unit Rawata...</td>\n      <td>&lt;li&gt;Kes kematian :&lt;strong&gt; 34 kes &lt;/strong&gt;(1,...</td>\n      <td>&lt;li&gt;Jumlah kluster : &lt;strong&gt;1,861&lt;/strong&gt;&lt;st...</td>\n      <td>&lt;li&gt;Jumlah kluster baharu :&lt;strong&gt; 13 kluster...</td>\n      <td>&lt;li&gt;Jumlah kluster yang telah tamat :&lt;strong&gt;1...</td>\n      <td>&lt;li&gt;Jumlah kluster aktif : &lt;strong&gt;461 kluster...</td>\n      <td>14/05/2021</td>\n    </tr>\n    <tr>\n      <th>14</th>\n      <td>&lt;li&gt;Kes sembuh : &lt;strong&gt;3,432 kes &lt;/strong&gt;(4...</td>\n      <td>&lt;li&gt;Kes baharu :&lt;strong&gt; 4,140 kes&lt;/strong&gt; (4...</td>\n      <td>&lt;li&gt;Kes import : &lt;strong&gt;9 kes &lt;/strong&gt;(9 war...</td>\n      <td>&lt;li&gt;Kes tempatan : &lt;strong&gt;4,131 &lt;/strong&gt;&lt;str...</td>\n      <td>&lt;li&gt;Kes aktif :&lt;strong&gt; 42,135 kes&lt;/strong&gt;;&lt;/li&gt;</td>\n      <td>&lt;li&gt;Kes yang memerlukan rawatan di Unit Rawata...</td>\n      <td>&lt;li&gt;Kes kematian :&lt;strong&gt; 44 kes &lt;/strong&gt;(1,...</td>\n      <td>&lt;li&gt;Jumlah kluster : &lt;strong&gt;1,876&lt;/strong&gt;&lt;st...</td>\n      <td>&lt;li&gt;Jumlah kluster baharu :&lt;strong&gt; 15 kluster...</td>\n      <td>&lt;li&gt;Jumlah kluster yang telah tamat :&lt;strong&gt;1...</td>\n      <td>&lt;li&gt;Jumlah kluster aktif : &lt;strong&gt;466 kluster...</td>\n      <td>15/05/2021</td>\n    </tr>\n    <tr>\n      <th>15</th>\n      <td>&lt;li&gt;Kes sembuh : &lt;strong&gt;3,990 kes &lt;/strong&gt;(4...</td>\n      <td>&lt;li&gt;Kes baharu :&lt;strong&gt; 3,780 kes&lt;/strong&gt; (4...</td>\n      <td>&lt;li&gt;Kes import : &lt;strong&gt;2 kes &lt;/strong&gt;(2 war...</td>\n      <td>&lt;li&gt;Kes tempatan : &lt;strong&gt;3,778 &lt;/strong&gt;&lt;str...</td>\n      <td>&lt;li&gt;Kes aktif :&lt;strong&gt; 41,889 kes&lt;/strong&gt;;&lt;/li&gt;</td>\n      <td>&lt;li&gt;Kes yang memerlukan rawatan di Unit Rawata...</td>\n      <td>&lt;li&gt;Kes kematian :&lt;strong&gt; 36 kes &lt;/strong&gt;(1,...</td>\n      <td>&lt;li&gt;Jumlah kluster : &lt;strong&gt;1,887&lt;/strong&gt;&lt;st...</td>\n      <td>&lt;li&gt;Jumlah kluster baharu :&lt;strong&gt; 11 kluster...</td>\n      <td>&lt;li&gt;Jumlah kluster yang telah tamat :&lt;strong&gt;1...</td>\n      <td>&lt;li&gt;Jumlah kluster aktif : &lt;strong&gt;470 kluster...</td>\n      <td>16/05/2021</td>\n    </tr>\n    <tr>\n      <th>16</th>\n      <td>&lt;li&gt;Kes sembuh : &lt;strong&gt;2,784 kes &lt;/strong&gt;(4...</td>\n      <td>&lt;li&gt;Kes baharu :&lt;strong&gt; 4,446 kes&lt;/strong&gt; (4...</td>\n      <td>&lt;li&gt;Kes import : &lt;strong&gt;3 kes &lt;/strong&gt;(3 war...</td>\n      <td>&lt;li&gt;Kes tempatan : &lt;strong&gt;4,443 &lt;/strong&gt;&lt;str...</td>\n      <td>&lt;li&gt;Kes aktif :&lt;strong&gt; 43,506 kes&lt;/strong&gt;;&lt;/li&gt;</td>\n      <td>&lt;li&gt;Kes yang memerlukan rawatan di Unit Rawata...</td>\n      <td>&lt;li&gt;Kes kematian :&lt;strong&gt; 45 kes &lt;/strong&gt;(1,...</td>\n      <td>&lt;li&gt;Jumlah kluster : &lt;strong&gt;1,9&lt;/strong&gt;&lt;stro...</td>\n      <td>&lt;li&gt;Jumlah kluster baharu :&lt;strong&gt; 14 kluster...</td>\n      <td>&lt;li&gt;Jumlah kluster yang telah tamat :&lt;strong&gt;1...</td>\n      <td>&lt;li&gt;Jumlah kluster aktif : &lt;strong&gt;484&lt;/strong...</td>\n      <td>17/05/2021</td>\n    </tr>\n    <tr>\n      <th>17</th>\n      <td>&lt;li&gt;Kes sembuh : &lt;strong&gt;3,497 kes &lt;/strong&gt;(4...</td>\n      <td>&lt;li&gt;Kes baharu :&lt;strong&gt; 4,865 kes&lt;/strong&gt; (4...</td>\n      <td>&lt;li&gt;Kes import : &lt;strong&gt;5 kes &lt;/strong&gt;(3 war...</td>\n      <td>&lt;li&gt;Kes tempatan : &lt;strong&gt;4,860 &lt;/strong&gt;&lt;str...</td>\n      <td>&lt;li&gt;Kes aktif :&lt;strong&gt; 44,827 kes&lt;/strong&gt;;&lt;/li&gt;</td>\n      <td>&lt;li&gt;Kes yang memerlukan rawatan di Unit Rawata...</td>\n      <td>&lt;li&gt;Kes kematian :&lt;strong&gt; 47 kes &lt;/strong&gt;(1,...</td>\n      <td>&lt;li&gt;Jumlah kluster : &lt;strong&gt;1,9&lt;/strong&gt;&lt;stro...</td>\n      <td>&lt;li&gt;Jumlah kluster baharu :&lt;strong&gt; 19 kluster...</td>\n      <td>&lt;li&gt;Jumlah kluster yang telah tamat :&lt;strong&gt;1...</td>\n      <td>&lt;li&gt;Jumlah kluster aktif : &lt;strong&gt;497&lt;/strong...</td>\n      <td>18/05/2021</td>\n    </tr>\n    <tr>\n      <th>18</th>\n      <td>&lt;li&gt;Kes sembuh : &lt;strong&gt;3,516 kes &lt;/strong&gt;(4...</td>\n      <td>&lt;li&gt;Kes baharu :&lt;strong&gt; 6,075 kes&lt;/strong&gt; (4...</td>\n      <td>&lt;li&gt;Kes import : &lt;strong&gt;3 kes &lt;/strong&gt;(1 war...</td>\n      <td>&lt;li&gt;Kes tempatan : &lt;strong&gt;6,072 &lt;/strong&gt;&lt;str...</td>\n      <td>&lt;li&gt;Kes aktif :&lt;strong&gt; 47,340 kes&lt;/strong&gt;;&lt;/li&gt;</td>\n      <td>&lt;li&gt;Kes yang memerlukan rawatan di Unit Rawata...</td>\n      <td>&lt;li&gt;Kes kematian :&lt;strong&gt; 46 kes &lt;/strong&gt;(2,...</td>\n      <td>&lt;li&gt;Jumlah kluster : &lt;strong&gt;1,9&lt;/strong&gt;&lt;stro...</td>\n      <td>&lt;li&gt;Jumlah kluster baharu :&lt;strong&gt; 22 kluster...</td>\n      <td>&lt;li&gt;Jumlah kluster yang telah tamat :&lt;strong&gt;1...</td>\n      <td>&lt;li&gt;Jumlah kluster aktif : &lt;strong&gt;516&lt;/strong...</td>\n      <td>19/05/2021</td>\n    </tr>\n    <tr>\n      <th>19</th>\n      <td>&lt;li&gt;Kes sembuh : &lt;strong&gt;3,916 kes &lt;/strong&gt;(4...</td>\n      <td>&lt;li&gt;Kes baharu :&lt;strong&gt; 6,806 kes&lt;/strong&gt; (4...</td>\n      <td>&lt;li&gt;Kes import : &lt;strong&gt;2 kes &lt;/strong&gt;(2 war...</td>\n      <td>&lt;li&gt;Kes tempatan : &lt;strong&gt;6,804 &lt;/strong&gt;&lt;str...</td>\n      <td>&lt;li&gt;Kes aktif :&lt;strong&gt; 50,171 kes&lt;/strong&gt;;&lt;/li&gt;</td>\n      <td>&lt;li&gt;Kes yang memerlukan rawatan di Unit Rawata...</td>\n      <td>&lt;li&gt;Kes kematian :&lt;strong&gt; 59 kes &lt;/strong&gt;(2,...</td>\n      <td>&lt;li&gt;Jumlah kluster : &lt;strong&gt;1,9&lt;/strong&gt;&lt;stro...</td>\n      <td>&lt;li&gt;Jumlah kluster baharu :&lt;strong&gt; 24 kluster...</td>\n      <td>&lt;li&gt;Jumlah kluster yang telah tamat :&lt;strong&gt;1...</td>\n      <td>&lt;li&gt;Jumlah kluster aktif : &lt;strong&gt;528&lt;/strong...</td>\n      <td>20/05/2021</td>\n    </tr>\n    <tr>\n      <th>20</th>\n      <td>&lt;li&gt;Kes sembuh : &lt;strong&gt;4,508 kes &lt;/strong&gt;(4...</td>\n      <td>&lt;li&gt;Kes baharu :&lt;strong&gt; 6,493 kes&lt;/strong&gt; (4...</td>\n      <td>&lt;li&gt;Kes import : &lt;strong&gt;2 kes &lt;/strong&gt;(1 war...</td>\n      <td>&lt;li&gt;Kes tempatan : &lt;strong&gt;6,491 &lt;/strong&gt;&lt;str...</td>\n      <td>&lt;li&gt;Kes aktif :&lt;strong&gt; 52,106 kes&lt;/strong&gt;;&lt;/li&gt;</td>\n      <td>&lt;li&gt;Kes yang memerlukan rawatan di Unit Rawata...</td>\n      <td>&lt;li&gt;Kes kematian :&lt;strong&gt; 50 kes &lt;/strong&gt;(2,...</td>\n      <td>&lt;li&gt;Jumlah kluster : &lt;strong&gt;1,984&lt;/strong&gt;&lt;st...</td>\n      <td>&lt;li&gt;Jumlah kluster baharu :&lt;strong&gt; 18 kluster...</td>\n      <td>&lt;li&gt;Jumlah kluster yang telah tamat :&lt;strong&gt;1...</td>\n      <td>&lt;li&gt;Jumlah kluster aktif : &lt;strong&gt;529&lt;/strong...</td>\n      <td>21/05/2021</td>\n    </tr>\n    <tr>\n      <th>21</th>\n      <td>&lt;li&gt;Kes sembuh : &lt;strong&gt;4,694 kes &lt;/strong&gt;(4...</td>\n      <td>&lt;li&gt;Kes baharu :&lt;strong&gt; 6,320 kes&lt;/strong&gt; (5...</td>\n      <td>&lt;li&gt;Kes import : &lt;strong&gt;3 kes &lt;/strong&gt;(3 buk...</td>\n      <td>&lt;li&gt;Kes tempatan : &lt;strong&gt;6,317 &lt;/strong&gt;&lt;str...</td>\n      <td>&lt;li&gt;Kes aktif :&lt;strong&gt; 53,682 kes&lt;/strong&gt;;&lt;/li&gt;</td>\n      <td>&lt;li&gt;Kes yang memerlukan rawatan di Unit Rawata...</td>\n      <td>&lt;li&gt;Kes kematian :&lt;strong&gt; 50 kes &lt;/strong&gt;(2,...</td>\n      <td>&lt;li&gt;Jumlah kluster : &lt;strong&gt;2,001&lt;/strong&gt;&lt;st...</td>\n      <td>&lt;li&gt;Jumlah kluster baharu :&lt;strong&gt; 17 kluster...</td>\n      <td>&lt;li&gt;Jumlah kluster yang telah tamat :&lt;strong&gt;1...</td>\n      <td>&lt;li&gt;Jumlah kluster aktif : &lt;strong&gt;535&lt;/strong...</td>\n      <td>22/05/2021</td>\n    </tr>\n    <tr>\n      <th>22</th>\n      <td>&lt;li&gt;Kes sembuh : &lt;strong&gt;3,587 kes &lt;/strong&gt;(4...</td>\n      <td>&lt;li&gt;Kes baharu :&lt;strong&gt;6,976&lt;/strong&gt;&lt;strong&gt;...</td>\n      <td>&lt;li&gt;Kes import : &lt;strong&gt;5 kes &lt;/strong&gt;(1 war...</td>\n      <td>&lt;li&gt;Kes tempatan : &lt;strong&gt;6,971 &lt;/strong&gt;&lt;str...</td>\n      <td>&lt;li&gt;Kes aktif :&lt;strong&gt; 57,022 kes&lt;/strong&gt;;&lt;/li&gt;</td>\n      <td>&lt;li&gt;Kes yang memerlukan rawatan di Unit Rawata...</td>\n      <td>&lt;li&gt;Kes kematian :&lt;strong&gt; 49 kes &lt;/strong&gt;(2,...</td>\n      <td>&lt;li&gt;Jumlah kluster : &lt;strong&gt;2,025&lt;/strong&gt;&lt;st...</td>\n      <td>&lt;li&gt;Jumlah kluster baharu :&lt;strong&gt; 24 kluster...</td>\n      <td>&lt;li&gt;Jumlah kluster yang telah tamat :&lt;strong&gt;1...</td>\n      <td>&lt;li&gt;Jumlah kluster aktif : &lt;strong&gt;556&lt;/strong...</td>\n      <td>23/05/2021</td>\n    </tr>\n    <tr>\n      <th>23</th>\n      <td>&lt;li&gt;Kes sembuh : &lt;strong&gt;3,452 kes &lt;/strong&gt;(4...</td>\n      <td>&lt;li&gt;Kes baharu :&lt;strong&gt; 6,509 kes&lt;/strong&gt; (5...</td>\n      <td>&lt;li&gt;Kes import : &lt;strong&gt;20 kes &lt;/strong&gt;(17 w...</td>\n      <td>&lt;li&gt;Kes tempatan : &lt;strong&gt;6,489 &lt;/strong&gt;&lt;str...</td>\n      <td>&lt;li&gt;Kes aktif :&lt;strong&gt; 60,018 kes&lt;/strong&gt;;&lt;/li&gt;</td>\n      <td>&lt;li&gt;Kes yang memerlukan rawatan di Unit Rawata...</td>\n      <td>&lt;li&gt;Kes kematian :&lt;strong&gt; 61 kes &lt;/strong&gt;(2,...</td>\n      <td>&lt;li&gt;Jumlah kluster : &lt;strong&gt;2,045&lt;/strong&gt;&lt;st...</td>\n      <td>&lt;li&gt;Jumlah kluster baharu :&lt;strong&gt; 20 kluster...</td>\n      <td>&lt;li&gt;Jumlah kluster yang telah tamat :&lt;strong&gt;1...</td>\n      <td>&lt;li&gt;Jumlah kluster aktif : &lt;strong&gt;570&lt;/strong...</td>\n      <td>24/05/2021</td>\n    </tr>\n    <tr>\n      <th>24</th>\n      <td>&lt;li&gt;Kes sembuh : &lt;strong&gt;3,789 kes &lt;/strong&gt;(4...</td>\n      <td>&lt;li&gt;Kes baharu :&lt;strong&gt; 7,289 kes&lt;/strong&gt; (5...</td>\n      <td>&lt;li&gt;Kes import : &lt;strong&gt;4 kes &lt;/strong&gt;(1 war...</td>\n      <td>&lt;li&gt;Kes tempatan : &lt;strong&gt;7,285 &lt;/strong&gt;&lt;str...</td>\n      <td>&lt;li&gt;Kes aktif :&lt;strong&gt; 63,458 kes&lt;/strong&gt;;&lt;/li&gt;</td>\n      <td>&lt;li&gt;Kes yang memerlukan rawatan di Unit Rawata...</td>\n      <td>&lt;li&gt;Kes kematian :&lt;strong&gt; 60 kes &lt;/strong&gt;(2,...</td>\n      <td>&lt;li&gt;Jumlah kluster : &lt;strong&gt;2,060&lt;/strong&gt;&lt;st...</td>\n      <td>&lt;li&gt;Jumlah kluster baharu :&lt;strong&gt; 15 kluster...</td>\n      <td>&lt;li&gt;Jumlah kluster yang telah tamat :&lt;strong&gt;1...</td>\n      <td>&lt;li&gt;Jumlah kluster aktif : &lt;strong&gt;577&lt;/strong...</td>\n      <td>25/05/2021</td>\n    </tr>\n    <tr>\n      <th>25</th>\n      <td>&lt;li&gt;Kes sembuh : &lt;strong&gt;4,665 kes &lt;/strong&gt;(4...</td>\n      <td>&lt;li&gt;Kes baharu :&lt;strong&gt; 7,478 kes&lt;/strong&gt; (5...</td>\n      <td>&lt;li&gt;Kes import : &lt;strong&gt;5 kes &lt;/strong&gt;(5 buk...</td>\n      <td>&lt;li&gt;Kes tempatan : &lt;strong&gt;7,473 &lt;/strong&gt;&lt;str...</td>\n      <td>&lt;li&gt;Kes aktif :&lt;strong&gt; 66,208 kes&lt;/strong&gt;;&lt;/li&gt;</td>\n      <td>&lt;li&gt;Kes yang memerlukan rawatan di Unit Rawata...</td>\n      <td>&lt;li&gt;Kes kematian :&lt;strong&gt; 63 kes &lt;/strong&gt;(2,...</td>\n      <td>&lt;li&gt;Jumlah kluster : &lt;strong&gt;2,082&lt;/strong&gt;&lt;st...</td>\n      <td>&lt;li&gt;Jumlah kluster baharu :&lt;strong&gt; 22 kluster...</td>\n      <td>&lt;li&gt;Jumlah kluster yang telah tamat :&lt;strong&gt;1...</td>\n      <td>&lt;li&gt;Jumlah kluster aktif : &lt;strong&gt;593&lt;/strong...</td>\n      <td>26/05/2021</td>\n    </tr>\n    <tr>\n      <th>26</th>\n      <td>&lt;li&gt;Kes sembuh : &lt;strong&gt;4,598 kes &lt;/strong&gt;(4...</td>\n      <td>&lt;li&gt;Kes baharu :&lt;strong&gt; 7,857 kes&lt;/strong&gt; (5...</td>\n      <td>&lt;li&gt;Kes import : &lt;strong&gt;8 kes &lt;/strong&gt;(2 war...</td>\n      <td>&lt;li&gt;Kes tempatan : &lt;strong&gt;7,849 &lt;/strong&gt;&lt;str...</td>\n      <td>&lt;li&gt;Kes aktif :&lt;strong&gt; 69,408 kes&lt;/strong&gt;;&lt;/li&gt;</td>\n      <td>&lt;li&gt;Kes yang memerlukan rawatan di Unit Rawata...</td>\n      <td>&lt;li&gt;Kes kematian :&lt;strong&gt; 59 kes &lt;/strong&gt;(2,...</td>\n      <td>&lt;li&gt;Jumlah kluster : &lt;strong&gt;2,102&lt;/strong&gt;&lt;st...</td>\n      <td>&lt;li&gt;Jumlah kluster baharu :&lt;strong&gt; 20 kluster...</td>\n      <td>&lt;li&gt;Jumlah kluster yang telah tamat :&lt;strong&gt;1...</td>\n      <td>&lt;li&gt;Jumlah kluster aktif : &lt;strong&gt;604&lt;/strong...</td>\n      <td>27/05/2021</td>\n    </tr>\n    <tr>\n      <th>27</th>\n      <td>&lt;li&gt;Kes sembuh : &lt;strong&gt;4,814 kes &lt;/strong&gt;(4...</td>\n      <td>&lt;li&gt;Kes baharu :&lt;strong&gt; 8,290 kes&lt;/strong&gt; (5...</td>\n      <td>&lt;li&gt;Kes import : &lt;strong&gt;2 kes &lt;/strong&gt;(2 buk...</td>\n      <td>&lt;li&gt;Kes tempatan : &lt;strong&gt;8,288 kes &lt;/strong&gt;...</td>\n      <td>&lt;li&gt;Kes aktif :&lt;strong&gt; 72,823 kes&lt;/strong&gt;;&lt;/li&gt;</td>\n      <td>&lt;li&gt;Kes yang memerlukan rawatan di Unit Rawata...</td>\n      <td>&lt;li&gt;Kes kematian :&lt;strong&gt; 61 kes &lt;/strong&gt;(2,...</td>\n      <td>&lt;li&gt;Jumlah kluster : &lt;strong&gt;2,123 kluster&lt;/st...</td>\n      <td>&lt;li&gt;Jumlah kluster baharu :&lt;strong&gt; 21 kluster...</td>\n      <td>&lt;li&gt;Jumlah kluster yang telah tamat :&lt;strong&gt;1...</td>\n      <td>None</td>\n      <td>28/05/2021</td>\n    </tr>\n    <tr>\n      <th>28</th>\n      <td>&lt;li&gt;Kes sembuh : &lt;strong&gt;5,527 kes &lt;/strong&gt;(4...</td>\n      <td>&lt;li&gt;Kes baharu :&lt;strong&gt; 9,020 kes&lt;/strong&gt; (5...</td>\n      <td>&lt;li&gt;Kes import : &lt;strong&gt;5 kes &lt;/strong&gt;(4 war...</td>\n      <td>&lt;li&gt;Kes tempatan : &lt;strong&gt;9,015 &lt;/strong&gt;&lt;str...</td>\n      <td>&lt;li&gt;Kes aktif :&lt;strong&gt; 76,218 kes&lt;/strong&gt;;&lt;/li&gt;</td>\n      <td>&lt;li&gt;Kes yang memerlukan rawatan di Unit Rawata...</td>\n      <td>&lt;li&gt;Kes kematian :&lt;strong&gt; 98 kes &lt;/strong&gt;(2,...</td>\n      <td>&lt;li&gt;Jumlah kluster : &lt;strong&gt;2,146&lt;/strong&gt;&lt;st...</td>\n      <td>&lt;li&gt;Jumlah kluster baharu :&lt;strong&gt; 23 kluster...</td>\n      <td>&lt;li&gt;Jumlah kluster yang telah tamat :&lt;strong&gt;1...</td>\n      <td>&lt;li&gt;Jumlah kluster aktif : &lt;strong&gt;630&lt;/strong...</td>\n      <td>29/05/2021</td>\n    </tr>\n    <tr>\n      <th>29</th>\n      <td>&lt;li&gt;Kes sembuh : &lt;strong&gt;5,121 kes &lt;/strong&gt;(4...</td>\n      <td>&lt;li&gt;Kes baharu :&lt;strong&gt; 6,999 kes&lt;/strong&gt; (5...</td>\n      <td>&lt;li&gt;Kes import : &lt;strong&gt;4 kes &lt;/strong&gt;(3 war...</td>\n      <td>&lt;li&gt;Kes tempatan : &lt;strong&gt;6,995 &lt;/strong&gt;&lt;str...</td>\n      <td>&lt;li&gt;Kes aktif :&lt;strong&gt; 78,017 kes&lt;/strong&gt;;&lt;/li&gt;</td>\n      <td>&lt;li&gt;Kes yang memerlukan rawatan di Unit Rawata...</td>\n      <td>&lt;li&gt;Kes kematian :&lt;strong&gt; 79 kes &lt;/strong&gt;(2,...</td>\n      <td>&lt;li&gt;Jumlah kluster : &lt;strong&gt;2,163&lt;/strong&gt;&lt;st...</td>\n      <td>&lt;li&gt;Jumlah kluster baharu :&lt;strong&gt; 17 kluster...</td>\n      <td>&lt;li&gt;Jumlah kluster yang telah tamat :&lt;strong&gt;1...</td>\n      <td>&lt;li&gt;Jumlah kluster aktif : &lt;strong&gt;635&lt;/strong...</td>\n      <td>30/05/2021</td>\n    </tr>\n  </tbody>\n</table>\n</div>"
     },
     "metadata": {},
     "execution_count": 56
    }
   ],
   "source": [
    "get_data(datetime.date(2021, 2, 7))"
   ]
  },
  {
   "cell_type": "code",
   "execution_count": null,
   "metadata": {},
   "outputs": [],
   "source": [
    "pd.DataFrame(dataset)"
   ]
  }
 ]
}