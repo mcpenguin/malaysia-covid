{
 "metadata": {
  "language_info": {
   "codemirror_mode": {
    "name": "ipython",
    "version": 3
   },
   "file_extension": ".py",
   "mimetype": "text/x-python",
   "name": "python",
   "nbconvert_exporter": "python",
   "pygments_lexer": "ipython3",
   "version": "3.9.5"
  },
  "orig_nbformat": 4,
  "kernelspec": {
   "name": "python3",
   "display_name": "Python 3.9.5 64-bit ('PythonSoftwareFoundation.Python.3.9_qbz5n2kfra8p0')"
  },
  "interpreter": {
   "hash": "343b6ac7eff0d382f058e14c2ddeb6cb57577d740f11beca8e43569b1defe6e1"
  }
 },
 "nbformat": 4,
 "nbformat_minor": 2,
 "cells": [
  {
   "source": [
    "## Testing notebook playground for extracting data"
   ],
   "cell_type": "markdown",
   "metadata": {}
  },
  {
   "cell_type": "code",
   "execution_count": 122,
   "metadata": {},
   "outputs": [],
   "source": [
    "import pandas as pd\n",
    "import mysql.connector as msc\n",
    "import json\n",
    "import tweepy\n",
    "import csv\n",
    "import re\n",
    "import string\n",
    "import requests\n",
    "import pprint\n",
    "from bs4 import BeautifulSoup"
   ]
  },
  {
   "cell_type": "code",
   "execution_count": 3,
   "metadata": {},
   "outputs": [],
   "source": [
    "# read config file into JSON object\n",
    "configFile = open('config.json')\n",
    "config = json.load(configFile)\n",
    "\n",
    "# make connection to the GCloud database\n",
    "db_config = config['database']\n",
    "connection = msc.connect(\n",
    "    host=db_config['host'], \n",
    "    port=db_config['port'],\n",
    "    user=db_config['user'],\n",
    "    password=db_config['password'],\n",
    "    database=db_config['database']\n",
    ")\n",
    "\n",
    "# authorize Twitter app with Tweepy OAuthHandler\n",
    "twit_config = config['twitter']\n",
    "auth = tweepy.OAuthHandler(twit_config['api_key'], twit_config['api_key_secret'])\n",
    "auth.set_access_token(twit_config['access_token'], twit_config['access_token_secret'])\n",
    "twitapi = tweepy.API(auth, wait_on_rate_limit=True)"
   ]
  },
  {
   "cell_type": "code",
   "execution_count": 4,
   "metadata": {},
   "outputs": [
    {
     "output_type": "stream",
     "name": "stdout",
     "text": [
      "15\n"
     ]
    }
   ],
   "source": [
    "# extract Tweets from Malaysian MOH about Malaysian COVID-19 case data\n",
    "# write to pandas database\n",
    "tweet_collection = twitapi.search(\"KKMPutrajaya\")"
   ]
  },
  {
   "cell_type": "code",
   "execution_count": 82,
   "metadata": {},
   "outputs": [],
   "source": [
    "# Get user id of @KKMPutrajaya\n",
    "url = \"https://api.twitter.com\"\n",
    "headers = {\"Authorization\": \"Bearer {}\".format(twit_config['bearer_token'])}\n",
    "response = requests.request(\"GET\", url + \"/2/users/by/username/KKMPutrajaya\", headers=headers)\n",
    "user_id = response.json()['data']['id']"
   ]
  },
  {
   "cell_type": "code",
   "execution_count": 44,
   "metadata": {},
   "outputs": [],
   "source": [
    "# initialize pandas data set\n",
    "tweets = []\n",
    "next_tokens = []"
   ]
  },
  {
   "cell_type": "code",
   "execution_count": 81,
   "metadata": {},
   "outputs": [],
   "source": [
    "# get posts from Malaysian MOH (@KKMPutrajaya)\n",
    "search_url = (url + \"/2/users/{}/tweets\".format(user_id))\n",
    "response = requests.request(\"GET\", search_url, headers=headers)\n",
    "data = response.json()['data']"
   ]
  },
  {
   "cell_type": "code",
   "execution_count": 47,
   "metadata": {},
   "outputs": [],
   "source": [
    "# fetch tweet data\n",
    "# this fetches thousands of MOH's tweets, which are factored into the quota for my \n",
    "# Twitter account, so beware!\n",
    "def fetch_data():\n",
    "    # get posts from Malaysian MOH (@KKMPutrajaya)\n",
    "    search_url = (url + \"/2/users/{}/tweets\".format(user_id))\n",
    "    response = requests.request(\"GET\", search_url, headers=headers)\n",
    "    data = response.json()['data']\n",
    "\n",
    "    # cycle and add to data\n",
    "    for tweet in data:\n",
    "        if \"Status Terkini #COVID19\" in tweet['text']:\n",
    "            tweets.append(tweet)\n",
    "    # get next pagination token\n",
    "    next_token = response.json()['meta'].get('next_token')\n",
    "    next_tokens.append(next_token)\n",
    "    # while next token is not None (ie there is still a next page)\n",
    "    while next_token is not None:\n",
    "        # get next page\n",
    "        search_url = (url + \"/2/users/{}/tweets?pagination_token={}\".format(user_id, next_token))\n",
    "        response = requests.request(\"GET\", search_url, headers=headers)\n",
    "        data = response.json()['data']\n",
    "        next_token = response.json()['meta'].get('next_token')\n",
    "        # cycle through the next page\n",
    "        for tweet in data:\n",
    "            if \"Status Terkini #COVID19\" in tweet['text']:\n",
    "                tweets.append(tweet)\n",
    "                next_tokens.append(next_token)"
   ]
  },
  {
   "cell_type": "code",
   "execution_count": 80,
   "metadata": {},
   "outputs": [],
   "source": [
    "tweetsdf = pd.DataFrame(tweets)"
   ]
  },
  {
   "cell_type": "code",
   "execution_count": 83,
   "metadata": {},
   "outputs": [],
   "source": [
    "next_tokensdf = pd.DataFrame(next_tokens)"
   ]
  },
  {
   "cell_type": "code",
   "execution_count": 79,
   "metadata": {},
   "outputs": [],
   "source": [
    "search_url = (url + \"/2/users/{}/tweets?end_time={}\".format(user_id, \"2021-03-11T12:00:00Z\"))\n",
    "response = requests.request(\"GET\", search_url, headers=headers)"
   ]
  },
  {
   "cell_type": "code",
   "execution_count": 77,
   "metadata": {},
   "outputs": [
    {
     "output_type": "stream",
     "name": "stdout",
     "text": [
      "None\n"
     ]
    }
   ],
   "source": [
    "# function to cycle through pages automatically\n",
    "print(next_token)\n",
    "def goForward():\n",
    "    global next_token\n",
    "    if next_token is None:\n",
    "        raise Exception(\"no next page\")\n",
    "    else:\n",
    "        search_url = (url + \"/2/users/{}/tweets?end_time={}&pagination_token={}\".format(user_id, \"2021-03-11T12:00:00Z\", next_token))\n",
    "        response = requests.request(\"GET\", search_url, headers=headers)\n",
    "        next_token = response.json()['meta'].get('next_token')\n",
    "        print(response.json()['data'])"
   ]
  },
  {
   "cell_type": "code",
   "execution_count": 98,
   "metadata": {},
   "outputs": [],
   "source": [
    "example_tweet = tweetsdf.iloc[0, :]['text']"
   ]
  },
  {
   "cell_type": "code",
   "execution_count": 110,
   "metadata": {},
   "outputs": [],
   "source": [
    "# parser for tweet content\n",
    "def parseTweetContent(tweet):\n",
    "    # get tweet content without \\n and \n",
    "    # explode it via spaces\n",
    "    exploded_tweet = re.split('\\n| ', tweet)\n",
    "    \n",
    "    # get date as \"DD MMM YYYY\", where the month is in Malay\n",
    "    date = \"{} {} {}\".format(exploded_tweet[3], exploded_tweet[4], exploded_tweet[5])\n",
    "\n",
    "    "
   ]
  },
  {
   "cell_type": "code",
   "execution_count": 108,
   "metadata": {},
   "outputs": [
    {
     "output_type": "execute_result",
     "data": {
      "text/plain": [
       "['Status',\n",
       " 'Terkini',\n",
       " '#COVID19,',\n",
       " '21',\n",
       " 'Jun',\n",
       " '2021',\n",
       " '',\n",
       " 'Kes',\n",
       " 'sembuh=',\n",
       " '5,439',\n",
       " 'Jumlah',\n",
       " 'kes',\n",
       " 'sembuh=',\n",
       " '633,624',\n",
       " 'Kes',\n",
       " 'baharu',\n",
       " 'positif=',\n",
       " '4,611',\n",
       " '(8',\n",
       " 'import)',\n",
       " '',\n",
       " 'Jumlah',\n",
       " 'positif=',\n",
       " '701,019',\n",
       " 'Kes',\n",
       " 'kematian=',\n",
       " '69',\n",
       " 'Jumlah',\n",
       " 'kes',\n",
       " 'kematian=',\n",
       " '4,477',\n",
       " 'Kes',\n",
       " 'dirawat',\n",
       " 'di',\n",
       " 'ICU=',\n",
       " '880',\n",
       " 'Bantuan',\n",
       " 'alat',\n",
       " 'pernafasan=',\n",
       " '452',\n",
       " 'https://t.co/zUQch1MbEs']"
      ]
     },
     "metadata": {},
     "execution_count": 108
    }
   ],
   "source": [
    "# example tweet content\n",
    "parseTweetContent(example_tweet)"
   ]
  },
  {
   "source": [
    "### Testing out web scraper for kpkesihatan.com instead to fetch data"
   ],
   "cell_type": "markdown",
   "metadata": {}
  },
  {
   "cell_type": "code",
   "execution_count": 113,
   "metadata": {},
   "outputs": [
    {
     "output_type": "execute_result",
     "data": {
      "text/plain": [
       "'https://kpkesihatan.com/2021/06/20/kenyataan-akhbar-kpk-20-jun-2021-situasi-semasa-jangkitan-penyakit-coronavirus-2019-covid-19-di-malaysia/'"
      ]
     },
     "metadata": {},
     "execution_count": 113
    }
   ],
   "source": [
    "# can do formatting on this later\n",
    "date1 = \"2021/06/20\"\n",
    "date2 = \"20-jun-2021\"\n",
    "myurl = \"https://kpkesihatan.com/{}/kenyataan-akhbar-kpk-{}-situasi-semasa-jangkitan-penyakit-coronavirus-2019-covid-19-di-malaysia/\".format(date1, date2)\n",
    "myurl"
   ]
  },
  {
   "cell_type": "code",
   "execution_count": 119,
   "metadata": {},
   "outputs": [],
   "source": [
    "# get content of website\n",
    "response = requests.get(myurl)\n",
    "# initialize printer\n",
    "pp = pprint.PrettyPrinter(indent=4)"
   ]
  },
  {
   "cell_type": "code",
   "execution_count": 124,
   "metadata": {
    "tags": []
   },
   "outputs": [],
   "source": [
    "# create soup object\n",
    "soup = BeautifulSoup(response.content, 'html.parser')"
   ]
  },
  {
   "cell_type": "code",
   "execution_count": 128,
   "metadata": {},
   "outputs": [
    {
     "output_type": "execute_result",
     "data": {
      "text/plain": [
       "td>\\n       464\\n      </td>\\n      <td>\\n       129\\n      </td>\\n      <td>\\n       –\\n      </td>\\n      <td>\\n       34\\n      </td>\\n     </tr>\\n     <tr>\\n      <td>\\n       <strong>\\n        WP KUALA LUMPUR\\n       </strong>\\n      </td>\\n      <td>\\n       379\\n      </td>\\n      <td>\\n       35\\n      </td>\\n      <td>\\n       224\\n      </td>\\n      <td>\\n       –\\n      </td>\\n      <td>\\n       120\\n      </td>\\n     </tr>\\n     <tr>\\n      <td>\\n       <strong>\\n        PERAK\\n       </strong>\\n       <strong>\\n       </strong>\\n      </td>\\n      <td>\\n       205\\n      </td>\\n      <td>\\n       171\\n      </td>\\n      <td>\\n       18\\n      </td>\\n      <td>\\n       –\\n      </td>\\n      <td>\\n       16\\n      </td>\\n     </tr>\\n     <tr>\\n      <td>\\n       <strong>\\n        MELAKA\\n       </strong>\\n      </td>\\n      <td>\\n       183\\n      </td>\\n      <td>\\n       110\\n      </td>\\n      <td>\\n       38\\n      </td>\\n      <td>\\n       –\\n      </td>\\n      <td>\\n       35\\n      </td>\\n     </tr>\\n     <tr>\\n      <td>\\n       <strong>\\n        KEDAH\\n       </strong>\\n       <strong>\\n       </strong>\\n      </td>\\n      <td>\\n       170\\n      </td>\\n      <td>\\n       57\\n      </td>\\n      <td>\\n       92\\n      </td>\\n      <td>\\n       –\\n      </td>\\n      <td>\\n       21\\n      </td>\\n     </tr>\\n     <tr>\\n      <td>\\n       <strong>\\n        KELANTAN\\n       </strong>\\n      </td>\\n      <td>\\n       167\\n      </td>\\n      <td>\\n       53\\n      </td>\\n      <td>\\n       69\\n      </td>\\n      <td>\\n       –\\n      </td>\\n      <td>\\n       45\\n      </td>\\n     </tr>\\n     <tr>\\n      <td>\\n       <strong>\\n        SABAH\\n       </strong>\\n       <strong>\\n       </strong>\\n      </td>\\n      <td>\\n       163\\n      </td>\\n      <td>\\n       38\\n      </td>\\n      <td>\\n       95\\n      </td>\\n      <td>\\n       –\\n      </td>\\n      <td>\\n       30\\n      </td>\\n     </tr>\\n     <tr>\\n      <td>\\n       <strong>\\n        WP LABUAN\\n       </strong>\\n      </td>\\n      <td>\\n       156\\n      </td>\\n      <td>\\n       8\\n      </td>\\n      <td>\\n       70\\n      </td>\\n      <td>\\n       –\\n      </td>\\n      <td>\\n       78\\n      </td>\\n     </tr>\\n     <tr>\\n      <td>\\n       <strong>\\n        PULAU PINANG\\n       </strong>\\n       <strong>\\n       </strong>\\n      </td>\\n      <td>\\n       114\\n      </td>\\n      <td>\\n       54\\n      </td>\\n      <td>\\n       28\\n      </td>\\n      <td>\\n       –\\n      </td>\\n      <td>\\n       32\\n      </td>\\n     </tr>\\n     <tr>\\n      <td>\\n       <strong>\\n        PAHANG\\n       </strong>\\n      </td>\\n      <td>\\n       77\\n      </td>\\n      <td>\\n       39\\n      </td>\\n      <td>\\n       29\\n      </td>\\n      <td>\\n       –\\n      </td>\\n      <td>\\n       9\\n      </td>\\n     </tr>\\n     <tr>\\n      <td>\\n       <strong>\\n        TERENGGANU\\n       </strong>\\n       <strong>\\n       </strong>\\n      </td>\\n      <td>\\n       12\\n      </td>\\n      <td>\\n       1\\n      </td>\\n      <td>\\n       9\\n      </td>\\n      <td>\\n       –\\n      </td>\\n      <td>\\n       2\\n      </td>\\n     </tr>\\n     <tr>\\n      <td>\\n       <strong>\\n        WP PUTRAJAYA\\n       </strong>\\n      </td>\\n      <td>\\n       4\\n      </td>\\n      <td>\\n       1\\n      </td>\\n      <td>\\n       1\\n      </td>\\n      <td>\\n       –\\n      </td>\\n      <td>\\n       2\\n      </td>\\n     </tr>\\n     <tr>\\n      <td>\\n       <strong>\\n        PERLIS\\n       </strong>\\n       <strong>\\n       </strong>\\n      </td>\\n      <td>\\n       2\\n      </td>\\n      <td>\\n       –\\n      </td>\\n      <td>\\n       –\\n      </td>\\n      <td>\\n       –\\n      </td>\\n      <td>\\n       2\\n      </td>\\n     </tr>\\n     <tr>\\n      <td>\\n       <strong>\\n        JUMLAH KESELURUHAN\\n       </strong>\\n       <strong>\\n       </strong>\\n      </td>\\n      <td>\\n       <strong>\\n        5,293\\n       </strong>\\n       <strong>\\n       </strong>\\n      </td>\\n      <td>\\n       <strong>\\n        1,44\\n       </strong>\\n       <strong>\\n        2\\n       </strong>\\n       <strong>\\n       </strong>\\n      </td>\\n      <td>\\n       <strong>\\n        2,5\\n       </strong>\\n       <strong>\\n        34\\n       </strong>\\n       <strong>\\n       </strong>\\n      </td>\\n      <td>\\n       <strong>\\n        7\\n       </strong>\\n       <strong>\\n       </strong>\\n      </td>\\n      <td>\\n       <strong>\\n        1,31\\n       </strong>\\n       <strong>\\n        0\\n       </strong>\\n       <strong>\\n       </strong>\\n      </td>\\n     </tr>\\n    </tbody>\\n   </table>\\n  </figure>\\n  <p>\\n   <strong>\\n    *\\n   </strong>\\n   Import A merujuk kepada kes penularan dari luar negara\\n  </p>\\n  <p>\\n   <strong>\\n    <br/>\\n   </strong>\\n   <strong>\\n    LAMPIRAN\\n   </strong>\\n   <strong>\\n    4\\n   </strong>\\n  </p>\\n  <p>\\n   <strong>\\n    KLUSTER-KLUSTER BAHARU YANG DILAPORKAN DI MALAYSIA PADA 20 JUN 2021\\n   </strong>\\n  </p>\\n  <figure class=\"wp-block-table\">\\n   <table>\\n    <tbody>\\n     <tr>\\n      <td>\\n       <strong>\\n        No.\\n       </strong>\\n      </td>\\n      <td>\\n       <strong>\\n        Nama Kluster\\n       </strong>\\n      </td>\\n      <td>\\n       <strong>\\n        Kategori Kluster\\n       </strong>\\n       <strong>\\n       </strong>\\n      </td>\\n      <td>\\n       <strong>\\n        Negeri\\n       </strong>\\n       <strong>\\n       </strong>\\n      </td>\\n      <td>\\n       <strong>\\n        Daerah\\n       </strong>\\n      </td>\\n      <td>\\n       <strong>\\n        Jumlah Kes\\n       </strong>\\n       <strong>\\n       </strong>\\n      </td>\\n      <td>\\n       <strong>\\n        Jumlah Disaring\\n       </strong>\\n       <strong>\\n       </strong>\\n      </td>\\n     </tr>\\n     <tr>\\n      <td>\\n       1\\n      </td>\\n      <td>\\n       Industri Lebuh Satu\\n      </td>\\n      <td>\\n       Tempat Kerja\\n      </td>\\n      <td>\\n       Selangor\\n      </td>\\n      <td>\\n       Klang, Kuala Selangor, dan Petaling\\n      </td>\\n      <td>\\n       18\\n      </td>\\n      <td>\\n       170\\n      </td>\\n     </tr>\\n     <tr>\\n      <td>\\n       2\\n      </td>\\n      <td>\\n       Industri Solok Waja Satu\\n      </td>\\n      <td>\\n       Tempat Kerja\\n      </td>\\n      <td>\\n       Selangor\\n      </td>\\n      <td>\\n       Klang\\n      </td>\\n      <td>\\n       22\\n      </td>\\n      <td>\\n       114\\n      </td>\\n     </tr>\\n     <tr>\\n      <td>\\n       3\\n      </td>\\n      <td>\\n       Industri Meranti Dua\\n      </td>\\n      <td>\\n       Tempat Kerja\\n      </td>\\n      <td>\\n       Selangor\\n      </td>\\n      <td>\\n       Sepang\\n      </td>\\n      <td>\\n       39\\n      </td>\\n      <td>\\n       51\\n      </td>\\n     </tr>\\n     <tr>\\n      <td>\\n       4\\n      </td>\\n      <td>\\n       Tapak Bina Perindustrian Olak Lempit\\n      </td>\\n      <td>\\n       Tempat Kerja\\n      </td>\\n      <td>\\n       Selangor\\n      </td>\\n      <td>\\n       Kuala Langat\\n      </td>\\n      <td>\\n       36\\n      </td>\\n      <td>\\n       43\\n      </td>\\n     </tr>\\n     <tr>\\n      <td>\\n       5\\n      </td>\\n      <td>\\n       Tapak Bina Persiaran Hamidiah\\n      </td>\\n      <td>\\n       Tempat Kerja\\n      </td>\\n      <td>\\n       Selangor\\n      </td>\\n      <td>\\n       Hulu Langat\\n      </td>\\n      <td>\\n       244\\n      </td>\\n      <td>\\n       332\\n      </td>\\n     </tr>\\n     <tr>\\n      <td>\\n       6\\n      </td>\\n      <td>\\n       Tapak Bina Jalan Seri Tanjung Pinang\\n      </td>\\n      <td>\\n       Tempat Kerja\\n      </td>\\n      <td>\\n       Pulau Pinang\\n      </td>\\n      <td>\\n       Timur Laut\\n      </td>\\n      <td>\\n       25\\n      </td>\\n      <td>\\n       177\\n      </td>\\n     </tr>\\n     <tr>\\n      <td>\\n       7\\n      </td>\\n      <td>\\n       Jalan Bundusan\\n      </td>\\n      <td>\\n       Tempat Kerja\\n      </td>\\n      <td>\\n       Sabah\\n      </td>\\n      <td>\\n       Kota Kinabalu dan Penampang\\n      </td>\\n      <td>\\n       9\\n      </td>\\n      <td>\\n       9\\n      </td>\\n     </tr>\\n     <tr>\\n      <td>\\n       8\\n      </td>\\n      <td>\\n       Indera Mahkota 16\\n      </td>\\n      <td>\\n       Tempat Kerja\\n      </td>\\n      <td>\\n       Pahang\\n      </td>\\n      <td>\\n       Kuantan\\n      </td>\\n      <td>\\n       9\\n      </td>\\n      <td>\\n       140\\n      </td>\\n     </tr>\\n     <tr>\\n      <td>\\n       9\\n      </td>\\n      <td>\\n       Lorong Empat Jerantut\\n      </td>\\n      <td>\\n       Tempat Kerja\\n      </td>\\n      <td>\\n       Pahang\\n      </td>\\n      <td>\\n       Jerantut\\n      </td>\\n      <td>\\n       9\\n      </td>\\n      <td>\\n       21\\n      </td>\\n     </tr>\\n     <tr>\\n      <td>\\n       10\\n      </td>\\n      <td>\\n       Kampung Kubang Panjang\\n      </td>\\n      <td>\\n       Tempat Kerja\\n      </td>\\n      <td>\\n       Kelantan\\n      </td>\\n      <td>\\n       Pasir Mas dan Kota Bharu\\n      </td>\\n      <td>\\n       36\\n      </td>\\n      <td>\\n       61\\n      </td>\\n     </tr>\\n     <tr>\\n      <td>\\n       11\\n      </td>\\n      <td>\\n       Industri Lukut Tiga\\n      </td>\\n      <td>\\n       Tempat Kerja\\n      </td>\\n      <td>\\n       Negeri Sembilan\\n      </td>\\n      <td>\\n       Port Dickson\\n      </td>\\n      <td>\\n       35\\n      </td>\\n      <td>\\n       112\\n      </td>\\n     </tr>\\n     <tr>\\n      <td>\\n       12\\n      </td>\\n      <td>\\n       Kampung Tok Kamis\\n      </td>\\n      <td>\\n       Komuniti\\n      </td>\\n      <td>\\n       Kelantan\\n      </td>\\n      <td>\\n       Pasir Puteh\\n      </td>\\n      <td>\\n       19\\n      </td>\\n      <td>\\n       65\\n      </td>\\n     </tr>\\n     <tr>\\n      <td>\\n       13\\n      </td>\\n      <td>\\n       Kampung Pulau Panjang\\n      </td>\\n      <td>\\n       Komuniti\\n      </td>\\n      <td>\\n       Kelantan\\n      </td>\\n      <td>\\n       Kota Bharu\\n      </td>\\n      <td>\\n       14\\n      </td>\\n      <td>\\n       30\\n      </td>\\n     </tr>\\n     <tr>\\n      <td>\\n       14\\n      </td>\\n      <td>\\n       Lorong Perlis Empat\\n      </td>\\n      <td>\\n       Komuniti\\n      </td>\\n      <td>\\n       Sarawak\\n      </td>\\n      <td>\\n       Miri dan Subis\\n      </td>\\n      <td>\\n       33\\n      </td>\\n      <td>\\n       769\\n      </td>\\n     </tr>\\n     <tr>\\n      <td>\\n       15\\n      </td>\\n      <td>\\n       Beladau Selat\\n      </td>\\n      <td>\\n       Komuniti\\n      </td>\\n      <td>\\n       Terengganu\\n      </td>\\n      <td>\\n       Kuala Terengganu\\n      </td>\\n      <td>\\n       24\\n      </td>\\n      <td>\\n       70\\n      </td>\\n     </tr>\\n     <tr>\\n      <td>\\n       16\\n      </td>\\n      <td>\\n       Kampung Nelayan Tengah\\n      </td>\\n      <td>\\n       Komuniti\\n      </td>\\n      <td>\\n       Sabah\\n      </td>\\n      <td>\\n       Sandakan\\n      </td>\\n      <td>\\n       25\\n      </td>\\n      <td>\\n       45\\n      </td>\\n     </tr>\\n     <tr>\\n      <td>\\n       17\\n      </td>\\n      <td>\\n       Jalan Kemboja Tujuh\\n      </td>\\n      <td>\\n       Kumpulan Berisiko Tinggi\\n      </td>\\n      <td>\\n       Negeri Sembilan\\n      </td>\\n      <td>\\n       Seremban\\n      </td>\\n      <td>\\n       27\\n      </td>\\n      <td>\\n       51\\n      </td>\\n     </tr>\\n     <tr>\\n      <td>\\n       18\\n      </td>\\n      <td>\\n       Iris Garden\\n      </td>\\n      <td>\\n       Kumpulan Berisiko Tinggi\\n      </td>\\n      <td>\\n       Sarawak\\n      </td>\\n      <td>\\n       Kuching\\n      </td>\\n      <td>\\n       23\\n      </td>\\n      <td>\\n       46\\n      </td>\\n     </tr>\\n     <tr>\\n      <td>\\n       19\\n      </td>\\n      <td>\\n       Tembok Sungai Udang 2\\n      </td>\\n      <td>\\n       Pusat Tahanan\\n      </td>\\n      <td>\\n       Melaka\\n      </td>\\n      <td>\\n       Melaka Tengah\\n      </td>\\n      <td>\\n       81\\n      </td>\\n      <td>\\n       256\\n      </td>\\n     </tr>\\n    </tbody>\\n   </table>\\n  </figure>\\n  <div class=\"sharedaddy sd-like-enabled sd-sharing-enabled\" id=\"jp-post-flair\">\\n   <div class=\"sharedaddy sd-sharing-enabled\">\\n    <div class=\"robots-nocontent sd-block sd-social sd-social-icon sd-sharing\">\\n     <h3 class=\"sd-title\">\\n      Share this:\\n     </h3>\\n     <div class=\"sd-content\">\\n      <ul>\\n       <li class=\"share-facebook\">\\n        <a class=\"share-facebook sd-button share-icon no-text\" data-shared=\"sharing-facebook-18415\" href=\"https://kpkesihatan.com/2021/06/20/kenyataan-akhbar-kpk-20-jun-2021-situasi-semasa-jangkitan-penyakit-coronavirus-2019-covid-19-di-malaysia/?share=facebook\" rel=\"nofollow noopener noreferrer\" target=\"_blank\" title=\"Click to share on Facebook\">\\n         <span>\\n         </span>\\n         <span class=\"sharing-screen-reader-text\">\\n          Click to share on Facebook (Opens in new window)\\n         </span>\\n        </a>\\n       </li>\\n       <li class=\"share-twitter\">\\n        <a class=\"share-twitter sd-button share-icon no-text\" data-shared=\"sharing-twitter-18415\" href=\"https://kpkesihatan.com/2021/06/20/kenyataan-akhbar-kpk-20-jun-2021-situasi-semasa-jangkitan-penyakit-coronavirus-2019-covid-19-di-malaysia/?share=twitter\" rel=\"nofollow noopener noreferrer\" target=\"_blank\" title=\"Click to share on Twitter\">\\n         <span>\\n         </span>\\n         <span class=\"sharing-screen-reader-text\">\\n          Click to share on Twitter (Opens in new window)\\n         </span>\\n        </a>\\n       </li>\\n       <li class=\"share-jetpack-whatsapp\">\\n        <a class=\"share-jetpack-whatsapp sd-button share-icon no-text\" data-shared=\"\" href=\"https://kpkesihatan.com/2021/06/20/kenyataan-akhbar-kpk-20-jun-2021-situasi-semasa-jangkitan-penyakit-coronavirus-2019-covid-19-di-malaysia/?share=jetpack-whatsapp\" rel=\"nofollow noopener noreferrer\" target=\"_blank\" title=\"Click to share on WhatsApp\">\\n         <span>\\n         </span>\\n         <span class=\"sharing-screen-reader-text\">\\n          Click to share on WhatsApp (Opens in new window)\\n         </span>\\n        </a>\\n       </li>\\n       <li class=\"share-telegram\">\\n        <a class=\"share-telegram sd-button share-icon no-text\" data-shared=\"\" href=\"https://kpkesihatan.com/2021/06/20/kenyataan-akhbar-kpk-20-jun-2021-situasi-semasa-jangkitan-penyakit-coronavirus-2019-covid-19-di-malaysia/?share=telegram\" rel=\"nofollow noopener noreferrer\" target=\"_blank\" title=\"Click to share on Telegram\">\\n         <span>\\n         </span>\\n         <span class=\"sharing-screen-reader-text\">\\n          Click to share on Telegram (Opens in new window)\\n         </span>\\n        </a>\\n       </li>\\n       <li class=\"share-linkedin\">\\n        <a class=\"share-linkedin sd-button share-icon no-text\" data-shared=\"sharing-linkedin-18415\" href=\"https://kpkesihatan.com/2021/06/20/kenyataan-akhbar-kpk-20-jun-2021-situasi-semasa-jangkitan-penyakit-coronavirus-2019-covid-19-di-malaysia/?share=linkedin\" rel=\"nofollow noopener noreferrer\" target=\"_blank\" title=\"Click to share on LinkedIn\">\\n         <span>\\n         </span>\\n         <span class=\"sharing-screen-reader-text\">\\n          Click to share on LinkedIn (Opens in new window)\\n         </span>\\n        </a>\\n       </li>\\n       <li class=\"share-email\">\\n        <a class=\"share-email sd-button share-icon no-text\" data-shared=\"\" href=\"https://kpkesihatan.com/2021/06/20/kenyataan-akhbar-kpk-20-jun-2021-situasi-semasa-jangkitan-penyakit-coronavirus-2019-covid-19-di-malaysia/?share=email\" rel=\"nofollow noopener noreferrer\" target=\"_blank\" title=\"Click to email this to a friend\">\\n         <span>\\n         </span>\\n         <span class=\"sharing-screen-reader-text\">\\n          Click to email this to a friend (Opens in new window)\\n         </span>\\n        </a>\\n       </li>\\n       <li class=\"share-print\">\\n        <a class=\"share-print sd-button share-icon no-text\" data-shared=\"\" href=\"https://kpkesihatan.com/2021/06/20/kenyataan-akhbar-kpk-20-jun-2021-situasi-semasa-jangkitan-penyakit-coronavirus-2019-covid-19-di-malaysia/#print\" rel=\"nofollow noopener noreferrer\" target=\"_blank\" title=\"Click to print\">\\n         <span>\\n         </span>\\n         <span class=\"sharing-screen-reader-text\">\\n          Click to print (Opens in new window)\\n         </span>\\n        </a>\\n       </li>\\n       <li>\\n        <a class=\"sharing-anchor sd-button share-more\" href=\"#\">\\n         <span>\\n          More\\n         </span>\\n        </a>\\n       </li>\\n       <li class=\"share-end\">\\n       </li>\\n      </ul>\\n      <div class=\"sharing-hidden\">\\n       <div class=\"inner\" style=\"display: none;\">\\n        <ul>\\n         <li class=\"share-tumblr\">\\n          <a class=\"share-tumblr sd-button share-icon no-text\" data-shared=\"\" href=\"https://kpkesihatan.com/2021/06/20/kenyataan-akhbar-kpk-20-jun-2021-situasi-semasa-jangkitan-penyakit-coronavirus-2019-covid-19-di-malaysia/?share=tumblr\" rel=\"nofollow noopener noreferrer\" target=\"_blank\" title=\"Click to share on Tumblr\">\\n           <span>\\n           </span>\\n           <span class=\"sharing-screen-reader-text\">\\n            Click to share on Tumblr (Opens in new window)\\n           </span>\\n          </a>\\n         </li>\\n         <li class=\"share-pinterest\">\\n          <a class=\"share-pinterest sd-button share-icon no-text\" data-shared=\"sharing-pinterest-18415\" href=\"https://kpkesihatan.com/2021/06/20/kenyataan-akhbar-kpk-20-jun-2021-situasi-semasa-jangkitan-penyakit-coronavirus-2019-covid-19-di-malaysia/?share=pinterest\" rel=\"nofollow noopener noreferrer\" target=\"_blank\" title=\"Click to share on Pinterest\">\\n           <span>\\n           </span>\\n           <span class=\"sharing-screen-reader-text\">\\n            Click to share on Pinterest (Opens in new window)\\n           </span>\\n          </a>\\n         </li>\\n         <li class=\"share-end\">\\n         </li>\\n         <li class=\"share-skype\">\\n          <a class=\"share-skype sd-button share-icon no-text\" data-shared=\"sharing-skype-18415\" href=\"https://kpkesihatan.com/2021/06/20/kenyataan-akhbar-kpk-20-jun-2021-situasi-semasa-jangkitan-penyakit-coronavirus-2019-covid-19-di-malaysia/?share=skype\" rel=\"nofollow noopener noreferrer\" target=\"_blank\" title=\"Click to share on Skype\">\\n           <span>\\n           </span>\\n           <span class=\"sharing-screen-reader-text\">\\n            Click to share on Skype (Opens in new window)\\n           </span>\\n          </a>\\n         </li>\\n         <li class=\"share-end\">\\n         </li>\\n        </ul>\\n       </div>\\n      </div>\\n     </div>\\n    </div>\\n   </div>\\n   <div class=\"sharedaddy sd-block sd-like jetpack-likes-widget-wrapper jetpack-likes-widget-unloaded\" data-name=\"like-post-frame-72271338-18415-60d097608492a\" data-src=\"//widgets.wp.com/likes/index.html?ver=20210413#blog_id=72271338&amp;post_id=18415&amp;origin=kpkesihatan.wordpress.com&amp;obj_id=72271338-18415-60d097608492a&amp;domain=kpkesihatan.com\" id=\"like-post-wrapper-72271338-18415-60d097608492a\">\\n    <h3 class=\"sd-title\">\\n     Like this:\\n    </h3>\\n    <div class=\"likes-widget-placeholder post-likes-widget-placeholder\" style=\"height: 55px;\">\\n     <span class=\"button\">\\n      <span>\\n       Like\\n      </span>\\n     </span>\\n     <span class=\"loading\">\\n      Loading...\\n     </span>\\n    </div>\\n    <span class=\"sd-text-color\">\\n    </span>\\n    <a class=\"sd-link-color\">\\n    </a>\\n   </div>\\n   <div class=\"jp-relatedposts\" id=\"jp-relatedposts\">\\n    <h3 class=\"jp-relatedposts-headline\">\\n     <em>\\n      Related\\n     </em>\\n    </h3>\\n   </div>\\n  </div>\\n  <div class=\"taxonomies\">\\n   <p class=\"tax-categories taxonomy\">\\n    Categories:\\n    <a href=\"https://kpkesihatan.com/category/communicable-disease/\" rel=\"category tag\">\\n     Communicable disease\\n    </a>\\n    ,\\n    <a href=\"https://kpkesihatan.com/category/crisis-disaster/\" rel=\"category tag\">\\n     Crisis &amp; Disaster\\n    </a>\\n    ,\\n    <a href=\"https://kpkesihatan.com/category/press/\" rel=\"category tag\">\\n     Press\\n    </a>\\n   </p>\\n   <p class=\"tax-tags taxonomy\">\\n    Tagged as:\\n    <a href=\"https://kpkesihatan.com/tag/covid-19/\" rel=\"tag\">\\n     COVID-19\\n    </a>\\n   </p>\\n  </div>\\n </section>\\n</article>\\n'"
      ]
     },
     "metadata": {},
     "execution_count": 128
    }
   ],
   "source": [
    "# get content of post\n",
    "result = soup.find(class_=\"post\")\n",
    "result.prettify()"
   ]
  },
  {
   "cell_type": "code",
   "execution_count": null,
   "metadata": {},
   "outputs": [],
   "source": []
  }
 ]
}